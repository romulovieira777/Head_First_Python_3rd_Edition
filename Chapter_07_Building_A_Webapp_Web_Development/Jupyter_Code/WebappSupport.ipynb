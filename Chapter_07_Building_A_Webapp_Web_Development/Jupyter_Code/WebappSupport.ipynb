{
 "cells": [
  {
   "cell_type": "code",
   "execution_count": null,
   "id": "initial_id",
   "metadata": {
    "collapsed": true
   },
   "outputs": [],
   "source": [
    "%pip install flask --upgrade"
   ]
  },
  {
   "cell_type": "code",
   "outputs": [
    {
     "name": "stdout",
     "output_type": "stream",
     "text": [
      "Hello, I'm Chapter_07_Building_A_Webapp_Web_Development.whoami!\n"
     ]
    }
   ],
   "source": [
    "import Chapter_07_Building_A_Webapp_Web_Development.Python_Code.whoami as whoami"
   ],
   "metadata": {
    "collapsed": false,
    "ExecuteTime": {
     "end_time": "2024-04-02T11:43:41.323907Z",
     "start_time": "2024-04-02T11:43:41.312327Z"
    }
   },
   "id": "b6d4026e3cf30781",
   "execution_count": 1
  }
 ],
 "metadata": {
  "kernelspec": {
   "display_name": "Python 3",
   "language": "python",
   "name": "python3"
  },
  "language_info": {
   "codemirror_mode": {
    "name": "ipython",
    "version": 2
   },
   "file_extension": ".py",
   "mimetype": "text/x-python",
   "name": "python",
   "nbconvert_exporter": "python",
   "pygments_lexer": "ipython2",
   "version": "2.7.6"
  }
 },
 "nbformat": 4,
 "nbformat_minor": 5
}
