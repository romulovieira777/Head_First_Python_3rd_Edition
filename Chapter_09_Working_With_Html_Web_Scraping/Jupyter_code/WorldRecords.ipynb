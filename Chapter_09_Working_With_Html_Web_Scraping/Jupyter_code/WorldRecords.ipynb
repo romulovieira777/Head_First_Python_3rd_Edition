{
 "cells": [
  {
   "cell_type": "code",
   "id": "initial_id",
   "metadata": {
    "collapsed": true,
    "ExecuteTime": {
     "end_time": "2024-04-12T12:57:00.864291Z",
     "start_time": "2024-04-12T12:56:57.478822Z"
    }
   },
   "source": "%pip install gazpacho --upgrade",
   "outputs": [
    {
     "name": "stdout",
     "output_type": "stream",
     "text": [
      "Requirement already satisfied: gazpacho in c:\\users\\romulo vieira\\appdata\\local\\programs\\python\\python312\\lib\\site-packages (1.1)\n",
      "Note: you may need to restart the kernel to use updated packages.\n"
     ]
    }
   ],
   "execution_count": 1
  },
  {
   "metadata": {
    "ExecuteTime": {
     "end_time": "2024-04-12T13:02:10.455389Z",
     "start_time": "2024-04-12T13:02:10.430592Z"
    }
   },
   "cell_type": "code",
   "source": "import gazpacho",
   "id": "ff56889d2bde7eba",
   "outputs": [],
   "execution_count": 2
  },
  {
   "metadata": {
    "ExecuteTime": {
     "end_time": "2024-04-12T13:02:14.457743Z",
     "start_time": "2024-04-12T13:02:14.452477Z"
    }
   },
   "cell_type": "code",
   "source": "URL = \"https://en.wikipedia.org/wiki/List_of_world_records_in_swimming\"",
   "id": "3ad17cfca3bc40ab",
   "outputs": [],
   "execution_count": 3
  },
  {
   "metadata": {
    "ExecuteTime": {
     "end_time": "2024-04-12T13:02:16.425952Z",
     "start_time": "2024-04-12T13:02:15.214010Z"
    }
   },
   "cell_type": "code",
   "source": "html = gazpacho.get(URL)",
   "id": "641e99673de2ed01",
   "outputs": [],
   "execution_count": 4
  },
  {
   "metadata": {
    "ExecuteTime": {
     "end_time": "2024-04-12T13:02:31.873401Z",
     "start_time": "2024-04-12T13:02:31.865352Z"
    }
   },
   "cell_type": "code",
   "source": "len(html)",
   "id": "800ee1285b4657e7",
   "outputs": [
    {
     "data": {
      "text/plain": [
       "554958"
      ]
     },
     "execution_count": 5,
     "metadata": {},
     "output_type": "execute_result"
    }
   ],
   "execution_count": 5
  },
  {
   "metadata": {
    "ExecuteTime": {
     "end_time": "2024-04-12T13:03:27.905972Z",
     "start_time": "2024-04-12T13:03:27.897741Z"
    }
   },
   "cell_type": "code",
   "source": "html[:500]",
   "id": "d4d28bf1a1128ff5",
   "outputs": [
    {
     "data": {
      "text/plain": [
       "'<!DOCTYPE html>\\n<html class=\"client-nojs vector-feature-language-in-header-enabled vector-feature-language-in-main-page-header-disabled vector-feature-sticky-header-disabled vector-feature-page-tools-pinned-disabled vector-feature-toc-pinned-clientpref-1 vector-feature-main-menu-pinned-disabled vector-feature-limited-width-clientpref-1 vector-feature-limited-width-content-enabled vector-feature-custom-font-size-clientpref-0 vector-feature-client-preferences-disabled vector-feature-client-prefs-p'"
      ]
     },
     "execution_count": 6,
     "metadata": {},
     "output_type": "execute_result"
    }
   ],
   "execution_count": 6
  },
  {
   "metadata": {
    "ExecuteTime": {
     "end_time": "2024-04-12T13:03:52.509502Z",
     "start_time": "2024-04-12T13:03:52.504533Z"
    }
   },
   "cell_type": "code",
   "source": "html[-500:]",
   "id": "ed18a87fbc14231b",
   "outputs": [
    {
     "data": {
      "text/plain": [
       "'anization\",\"name\":\"Contributors to Wikimedia projects\"},\"publisher\":{\"@type\":\"Organization\",\"name\":\"Wikimedia Foundation, Inc.\",\"logo\":{\"@type\":\"ImageObject\",\"url\":\"https:\\\\/\\\\/www.wikimedia.org\\\\/static\\\\/images\\\\/wmf-hor-googpub.png\"}},\"datePublished\":\"2007-03-15T21:20:10Z\",\"dateModified\":\"2024-03-21T01:33:39Z\",\"image\":\"https:\\\\/\\\\/upload.wikimedia.org\\\\/wikipedia\\\\/commons\\\\/a\\\\/ae\\\\/Caeleb_Dressel_before_winning_100_fly_%2842769914221%29.jpg\",\"headline\":\"Wikimedia list article\"}</script>\\n</body>\\n</html>'"
      ]
     },
     "execution_count": 7,
     "metadata": {},
     "output_type": "execute_result"
    }
   ],
   "execution_count": 7
  },
  {
   "metadata": {
    "ExecuteTime": {
     "end_time": "2024-04-12T13:04:57.024713Z",
     "start_time": "2024-04-12T13:04:57.007811Z"
    }
   },
   "cell_type": "code",
   "source": [
    "from_where = html.find(\"<table\")\n",
    "html[from_where:from_where+500]"
   ],
   "id": "afb52bfa543a3121",
   "outputs": [
    {
     "data": {
      "text/plain": [
       "'<table class=\"wikitable sortable\" style=\"font-size: 95%;\">\\n<caption>\\n</caption>\\n<tbody><tr>\\n<th>Event\\n</th>\\n<th style=\"width:4em\" class=\"unsortable\">Time\\n</th>\\n<th class=\"unsortable\">\\n</th>\\n<th>Name</th>\\n<th>Nationality</th>\\n<th>Date</th>\\n<th>Meet</th>\\n<th>Location\\n</th>\\n<th style=\"width:2em\" class=\"unsortable\">Ref\\n</th></tr>\\n\\n<tr>\\n<td><span data-sort-value=\"01 &#160;!\"> <a href=\"/wiki/World_record_progression_50_metres_freestyle\" title=\"World record progression 50 metres freestyle\">50m freestyl'"
      ]
     },
     "execution_count": 8,
     "metadata": {},
     "output_type": "execute_result"
    }
   ],
   "execution_count": 8
  },
  {
   "metadata": {
    "ExecuteTime": {
     "end_time": "2024-04-12T13:06:16.414684Z",
     "start_time": "2024-04-12T13:06:16.408802Z"
    }
   },
   "cell_type": "code",
   "source": "soup = gazpacho.Soup(html)",
   "id": "948244acdee5ac65",
   "outputs": [],
   "execution_count": 9
  },
  {
   "metadata": {
    "ExecuteTime": {
     "end_time": "2024-04-12T13:06:22.472142Z",
     "start_time": "2024-04-12T13:06:22.465701Z"
    }
   },
   "cell_type": "code",
   "source": "type(soup)",
   "id": "c6fb876f52f0d72d",
   "outputs": [
    {
     "data": {
      "text/plain": [
       "gazpacho.soup.Soup"
      ]
     },
     "execution_count": 10,
     "metadata": {},
     "output_type": "execute_result"
    }
   ],
   "execution_count": 10
  },
  {
   "metadata": {
    "ExecuteTime": {
     "end_time": "2024-04-12T13:07:10.647439Z",
     "start_time": "2024-04-12T13:07:10.643088Z"
    }
   },
   "cell_type": "code",
   "source": "print(dir(soup))",
   "id": "6cd4752caddf75a8",
   "outputs": [
    {
     "name": "stdout",
     "output_type": "stream",
     "text": [
      "['attrs', 'find', 'get', 'html', 'strip', 'tag', 'text']\n"
     ]
    }
   ],
   "execution_count": 11
  },
  {
   "metadata": {
    "ExecuteTime": {
     "end_time": "2024-04-12T13:08:32.114043Z",
     "start_time": "2024-04-12T13:08:31.870560Z"
    }
   },
   "cell_type": "code",
   "source": "tables = soup.find(\"table\")",
   "id": "8f2ec6c673c2e07e",
   "outputs": [],
   "execution_count": 12
  },
  {
   "metadata": {
    "ExecuteTime": {
     "end_time": "2024-04-12T13:08:36.548272Z",
     "start_time": "2024-04-12T13:08:36.540169Z"
    }
   },
   "cell_type": "code",
   "source": "type(tables)",
   "id": "8e52ed60d2cdd429",
   "outputs": [
    {
     "data": {
      "text/plain": [
       "list"
      ]
     },
     "execution_count": 13,
     "metadata": {},
     "output_type": "execute_result"
    }
   ],
   "execution_count": 13
  },
  {
   "metadata": {
    "ExecuteTime": {
     "end_time": "2024-04-12T13:08:39.212308Z",
     "start_time": "2024-04-12T13:08:39.207092Z"
    }
   },
   "cell_type": "code",
   "source": "len(tables)",
   "id": "ae8ab083e110cdfe",
   "outputs": [
    {
     "data": {
      "text/plain": [
       "12"
      ]
     },
     "execution_count": 14,
     "metadata": {},
     "output_type": "execute_result"
    }
   ],
   "execution_count": 14
  },
  {
   "metadata": {
    "ExecuteTime": {
     "end_time": "2024-04-12T13:08:50.011436Z",
     "start_time": "2024-04-12T13:08:50.006105Z"
    }
   },
   "cell_type": "code",
   "source": "type(tables[0])",
   "id": "4970b6100ea5b72a",
   "outputs": [
    {
     "data": {
      "text/plain": [
       "gazpacho.soup.Soup"
      ]
     },
     "execution_count": 15,
     "metadata": {},
     "output_type": "execute_result"
    }
   ],
   "execution_count": 15
  },
  {
   "metadata": {
    "ExecuteTime": {
     "end_time": "2024-04-12T13:09:05.551720Z",
     "start_time": "2024-04-12T13:09:05.538242Z"
    }
   },
   "cell_type": "code",
   "source": "type(tables[-1])",
   "id": "a686cd2e0b2948e8",
   "outputs": [
    {
     "data": {
      "text/plain": [
       "gazpacho.soup.Soup"
      ]
     },
     "execution_count": 16,
     "metadata": {},
     "output_type": "execute_result"
    }
   ],
   "execution_count": 16
  },
  {
   "metadata": {
    "ExecuteTime": {
     "end_time": "2024-04-12T13:25:59.844313Z",
     "start_time": "2024-04-12T13:25:59.827882Z"
    }
   },
   "cell_type": "code",
   "source": "rows = tables[0].find(\"tr\", mode=\"all\")",
   "id": "d3e005c74a2ac9eb",
   "outputs": [],
   "execution_count": 17
  },
  {
   "metadata": {
    "ExecuteTime": {
     "end_time": "2024-04-12T13:26:07.074380Z",
     "start_time": "2024-04-12T13:26:07.067732Z"
    }
   },
   "cell_type": "code",
   "source": "type(rows)",
   "id": "bd54c77cc4ac2eac",
   "outputs": [
    {
     "data": {
      "text/plain": [
       "list"
      ]
     },
     "execution_count": 18,
     "metadata": {},
     "output_type": "execute_result"
    }
   ],
   "execution_count": 18
  },
  {
   "metadata": {
    "ExecuteTime": {
     "end_time": "2024-04-12T13:26:11.257145Z",
     "start_time": "2024-04-12T13:26:11.250915Z"
    }
   },
   "cell_type": "code",
   "source": "len(rows)",
   "id": "9c5c249915244d8a",
   "outputs": [
    {
     "data": {
      "text/plain": [
       "21"
      ]
     },
     "execution_count": 19,
     "metadata": {},
     "output_type": "execute_result"
    }
   ],
   "execution_count": 19
  },
  {
   "metadata": {
    "ExecuteTime": {
     "end_time": "2024-04-12T13:26:17.655367Z",
     "start_time": "2024-04-12T13:26:17.648375Z"
    }
   },
   "cell_type": "code",
   "source": "rows[0]",
   "id": "9c00c293e510d47b",
   "outputs": [
    {
     "data": {
      "text/plain": [
       "<tr>\n",
       "  <th>Event\n",
       "</th>\n",
       "  <th style=\"width:4em\" class=\"unsortable\">Time\n",
       "</th>\n",
       "  <th class=\"unsortable\">\n",
       "</th>\n",
       "  <th>Name</th>\n",
       "  <th>Nationality</th>\n",
       "  <th>Date</th>\n",
       "  <th>Meet</th>\n",
       "  <th>Location\n",
       "</th>\n",
       "  <th style=\"width:2em\" class=\"unsortable\">Ref\n",
       "</th>\n",
       "</tr>"
      ]
     },
     "execution_count": 20,
     "metadata": {},
     "output_type": "execute_result"
    }
   ],
   "execution_count": 20
  },
  {
   "metadata": {
    "ExecuteTime": {
     "end_time": "2024-04-12T13:28:12.128239Z",
     "start_time": "2024-04-12T13:28:12.006324Z"
    }
   },
   "cell_type": "code",
   "source": [
    "for n, table in enumerate(tables):\n",
    "    rows = table.find(\"tr\", mode=\"all\")\n",
    "    print(f\"{n} -> {len(rows)} rows\")"
   ],
   "id": "c18a74b92b465c1a",
   "outputs": [
    {
     "name": "stdout",
     "output_type": "stream",
     "text": [
      "0 -> 21 rows\n",
      "1 -> 1 rows\n",
      "2 -> 21 rows\n",
      "3 -> 3 rows\n",
      "4 -> 27 rows\n",
      "5 -> 26 rows\n",
      "6 -> 3 rows\n",
      "7 -> 25 rows\n",
      "8 -> 1 rows\n",
      "9 -> 7 rows\n",
      "10 -> 5 rows\n",
      "11 -> 8 rows\n"
     ]
    }
   ],
   "execution_count": 21
  },
  {
   "metadata": {},
   "cell_type": "code",
   "outputs": [],
   "execution_count": null,
   "source": "",
   "id": "188d50a2fb65bde7"
  }
 ],
 "metadata": {
  "kernelspec": {
   "display_name": "Python 3",
   "language": "python",
   "name": "python3"
  },
  "language_info": {
   "codemirror_mode": {
    "name": "ipython",
    "version": 2
   },
   "file_extension": ".py",
   "mimetype": "text/x-python",
   "name": "python",
   "nbconvert_exporter": "python",
   "pygments_lexer": "ipython2",
   "version": "2.7.6"
  }
 },
 "nbformat": 4,
 "nbformat_minor": 5
}
