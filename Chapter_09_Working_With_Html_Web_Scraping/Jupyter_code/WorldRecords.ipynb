{
 "cells": [
  {
   "cell_type": "code",
   "id": "initial_id",
   "metadata": {
    "collapsed": true,
    "ExecuteTime": {
     "end_time": "2024-04-15T12:30:03.632092Z",
     "start_time": "2024-04-15T12:29:59.578547Z"
    }
   },
   "source": "%pip install gazpacho --upgrade",
   "outputs": [
    {
     "name": "stdout",
     "output_type": "stream",
     "text": [
      "Requirement already satisfied: gazpacho in c:\\users\\romulo vieira\\appdata\\local\\programs\\python\\python312\\lib\\site-packages (1.1)\n",
      "Note: you may need to restart the kernel to use updated packages.\n"
     ]
    }
   ],
   "execution_count": 1
  },
  {
   "metadata": {
    "ExecuteTime": {
     "end_time": "2024-04-15T12:30:16.494638Z",
     "start_time": "2024-04-15T12:30:16.473345Z"
    }
   },
   "cell_type": "code",
   "source": "import gazpacho",
   "id": "ff56889d2bde7eba",
   "outputs": [],
   "execution_count": 2
  },
  {
   "metadata": {
    "ExecuteTime": {
     "end_time": "2024-04-15T12:30:21.367787Z",
     "start_time": "2024-04-15T12:30:21.359065Z"
    }
   },
   "cell_type": "code",
   "source": "URL = \"https://en.wikipedia.org/wiki/List_of_world_records_in_swimming\"",
   "id": "3ad17cfca3bc40ab",
   "outputs": [],
   "execution_count": 3
  },
  {
   "metadata": {
    "ExecuteTime": {
     "end_time": "2024-04-15T12:30:26.510596Z",
     "start_time": "2024-04-15T12:30:25.060299Z"
    }
   },
   "cell_type": "code",
   "source": "html = gazpacho.get(URL)",
   "id": "641e99673de2ed01",
   "outputs": [],
   "execution_count": 4
  },
  {
   "metadata": {
    "ExecuteTime": {
     "end_time": "2024-04-15T12:30:26.527081Z",
     "start_time": "2024-04-15T12:30:26.510596Z"
    }
   },
   "cell_type": "code",
   "source": "len(html)",
   "id": "800ee1285b4657e7",
   "outputs": [
    {
     "data": {
      "text/plain": [
       "554958"
      ]
     },
     "execution_count": 5,
     "metadata": {},
     "output_type": "execute_result"
    }
   ],
   "execution_count": 5
  },
  {
   "metadata": {
    "ExecuteTime": {
     "end_time": "2024-04-15T12:30:26.537676Z",
     "start_time": "2024-04-15T12:30:26.528612Z"
    }
   },
   "cell_type": "code",
   "source": "html[:500]",
   "id": "d4d28bf1a1128ff5",
   "outputs": [
    {
     "data": {
      "text/plain": [
       "'<!DOCTYPE html>\\n<html class=\"client-nojs vector-feature-language-in-header-enabled vector-feature-language-in-main-page-header-disabled vector-feature-sticky-header-disabled vector-feature-page-tools-pinned-disabled vector-feature-toc-pinned-clientpref-1 vector-feature-main-menu-pinned-disabled vector-feature-limited-width-clientpref-1 vector-feature-limited-width-content-enabled vector-feature-custom-font-size-clientpref-0 vector-feature-client-preferences-disabled vector-feature-client-prefs-p'"
      ]
     },
     "execution_count": 6,
     "metadata": {},
     "output_type": "execute_result"
    }
   ],
   "execution_count": 6
  },
  {
   "metadata": {
    "ExecuteTime": {
     "end_time": "2024-04-15T12:30:26.553191Z",
     "start_time": "2024-04-15T12:30:26.539163Z"
    }
   },
   "cell_type": "code",
   "source": "html[-500:]",
   "id": "ed18a87fbc14231b",
   "outputs": [
    {
     "data": {
      "text/plain": [
       "'anization\",\"name\":\"Contributors to Wikimedia projects\"},\"publisher\":{\"@type\":\"Organization\",\"name\":\"Wikimedia Foundation, Inc.\",\"logo\":{\"@type\":\"ImageObject\",\"url\":\"https:\\\\/\\\\/www.wikimedia.org\\\\/static\\\\/images\\\\/wmf-hor-googpub.png\"}},\"datePublished\":\"2007-03-15T21:20:10Z\",\"dateModified\":\"2024-03-21T01:33:39Z\",\"image\":\"https:\\\\/\\\\/upload.wikimedia.org\\\\/wikipedia\\\\/commons\\\\/a\\\\/ae\\\\/Caeleb_Dressel_before_winning_100_fly_%2842769914221%29.jpg\",\"headline\":\"Wikimedia list article\"}</script>\\n</body>\\n</html>'"
      ]
     },
     "execution_count": 7,
     "metadata": {},
     "output_type": "execute_result"
    }
   ],
   "execution_count": 7
  },
  {
   "metadata": {
    "ExecuteTime": {
     "end_time": "2024-04-15T12:30:28.067509Z",
     "start_time": "2024-04-15T12:30:28.061530Z"
    }
   },
   "cell_type": "code",
   "source": [
    "from_where = html.find(\"<table\")\n",
    "html[from_where:from_where+500]"
   ],
   "id": "afb52bfa543a3121",
   "outputs": [
    {
     "data": {
      "text/plain": [
       "'<table class=\"wikitable sortable\" style=\"font-size: 95%;\">\\n<caption>\\n</caption>\\n<tbody><tr>\\n<th>Event\\n</th>\\n<th style=\"width:4em\" class=\"unsortable\">Time\\n</th>\\n<th class=\"unsortable\">\\n</th>\\n<th>Name</th>\\n<th>Nationality</th>\\n<th>Date</th>\\n<th>Meet</th>\\n<th>Location\\n</th>\\n<th style=\"width:2em\" class=\"unsortable\">Ref\\n</th></tr>\\n\\n<tr>\\n<td><span data-sort-value=\"01 &#160;!\"> <a href=\"/wiki/World_record_progression_50_metres_freestyle\" title=\"World record progression 50 metres freestyle\">50m freestyl'"
      ]
     },
     "execution_count": 8,
     "metadata": {},
     "output_type": "execute_result"
    }
   ],
   "execution_count": 8
  },
  {
   "metadata": {
    "ExecuteTime": {
     "end_time": "2024-04-15T12:30:28.548697Z",
     "start_time": "2024-04-15T12:30:28.541760Z"
    }
   },
   "cell_type": "code",
   "source": "soup = gazpacho.Soup(html)",
   "id": "948244acdee5ac65",
   "outputs": [],
   "execution_count": 9
  },
  {
   "metadata": {
    "ExecuteTime": {
     "end_time": "2024-04-15T12:30:29.023707Z",
     "start_time": "2024-04-15T12:30:29.017609Z"
    }
   },
   "cell_type": "code",
   "source": "type(soup)",
   "id": "c6fb876f52f0d72d",
   "outputs": [
    {
     "data": {
      "text/plain": [
       "gazpacho.soup.Soup"
      ]
     },
     "execution_count": 10,
     "metadata": {},
     "output_type": "execute_result"
    }
   ],
   "execution_count": 10
  },
  {
   "metadata": {
    "ExecuteTime": {
     "end_time": "2024-04-15T12:30:43.970524Z",
     "start_time": "2024-04-15T12:30:43.956345Z"
    }
   },
   "cell_type": "code",
   "source": "print(dir(soup))",
   "id": "6cd4752caddf75a8",
   "outputs": [
    {
     "name": "stdout",
     "output_type": "stream",
     "text": [
      "['attrs', 'find', 'get', 'html', 'strip', 'tag', 'text']\n"
     ]
    }
   ],
   "execution_count": 11
  },
  {
   "metadata": {
    "ExecuteTime": {
     "end_time": "2024-04-15T12:30:45.310540Z",
     "start_time": "2024-04-15T12:30:44.537068Z"
    }
   },
   "cell_type": "code",
   "source": "tables = soup.find(\"table\")",
   "id": "8f2ec6c673c2e07e",
   "outputs": [],
   "execution_count": 12
  },
  {
   "metadata": {
    "ExecuteTime": {
     "end_time": "2024-04-15T12:30:45.320473Z",
     "start_time": "2024-04-15T12:30:45.311555Z"
    }
   },
   "cell_type": "code",
   "source": "type(tables)",
   "id": "8e52ed60d2cdd429",
   "outputs": [
    {
     "data": {
      "text/plain": [
       "list"
      ]
     },
     "execution_count": 13,
     "metadata": {},
     "output_type": "execute_result"
    }
   ],
   "execution_count": 13
  },
  {
   "metadata": {
    "ExecuteTime": {
     "end_time": "2024-04-15T12:30:45.343306Z",
     "start_time": "2024-04-15T12:30:45.321969Z"
    }
   },
   "cell_type": "code",
   "source": "len(tables)",
   "id": "ae8ab083e110cdfe",
   "outputs": [
    {
     "data": {
      "text/plain": [
       "12"
      ]
     },
     "execution_count": 14,
     "metadata": {},
     "output_type": "execute_result"
    }
   ],
   "execution_count": 14
  },
  {
   "metadata": {
    "ExecuteTime": {
     "end_time": "2024-04-15T12:30:45.364455Z",
     "start_time": "2024-04-15T12:30:45.348730Z"
    }
   },
   "cell_type": "code",
   "source": "type(tables[0])",
   "id": "4970b6100ea5b72a",
   "outputs": [
    {
     "data": {
      "text/plain": [
       "gazpacho.soup.Soup"
      ]
     },
     "execution_count": 15,
     "metadata": {},
     "output_type": "execute_result"
    }
   ],
   "execution_count": 15
  },
  {
   "metadata": {
    "ExecuteTime": {
     "end_time": "2024-04-15T12:30:45.566567Z",
     "start_time": "2024-04-15T12:30:45.557721Z"
    }
   },
   "cell_type": "code",
   "source": "type(tables[-1])",
   "id": "a686cd2e0b2948e8",
   "outputs": [
    {
     "data": {
      "text/plain": [
       "gazpacho.soup.Soup"
      ]
     },
     "execution_count": 16,
     "metadata": {},
     "output_type": "execute_result"
    }
   ],
   "execution_count": 16
  },
  {
   "metadata": {
    "ExecuteTime": {
     "end_time": "2024-04-15T12:30:46.547388Z",
     "start_time": "2024-04-15T12:30:46.529619Z"
    }
   },
   "cell_type": "code",
   "source": "rows = tables[0].find(\"tr\", mode=\"all\")",
   "id": "d3e005c74a2ac9eb",
   "outputs": [],
   "execution_count": 17
  },
  {
   "metadata": {
    "ExecuteTime": {
     "end_time": "2024-04-15T12:30:46.826073Z",
     "start_time": "2024-04-15T12:30:46.820314Z"
    }
   },
   "cell_type": "code",
   "source": "type(rows)",
   "id": "bd54c77cc4ac2eac",
   "outputs": [
    {
     "data": {
      "text/plain": [
       "list"
      ]
     },
     "execution_count": 18,
     "metadata": {},
     "output_type": "execute_result"
    }
   ],
   "execution_count": 18
  },
  {
   "metadata": {
    "ExecuteTime": {
     "end_time": "2024-04-15T12:30:47.185494Z",
     "start_time": "2024-04-15T12:30:47.178958Z"
    }
   },
   "cell_type": "code",
   "source": "len(rows)",
   "id": "9c5c249915244d8a",
   "outputs": [
    {
     "data": {
      "text/plain": [
       "21"
      ]
     },
     "execution_count": 19,
     "metadata": {},
     "output_type": "execute_result"
    }
   ],
   "execution_count": 19
  },
  {
   "metadata": {
    "ExecuteTime": {
     "end_time": "2024-04-15T12:30:47.791830Z",
     "start_time": "2024-04-15T12:30:47.785690Z"
    }
   },
   "cell_type": "code",
   "source": "rows[0]",
   "id": "9c00c293e510d47b",
   "outputs": [
    {
     "data": {
      "text/plain": [
       "<tr>\n",
       "  <th>Event\n",
       "</th>\n",
       "  <th style=\"width:4em\" class=\"unsortable\">Time\n",
       "</th>\n",
       "  <th class=\"unsortable\">\n",
       "</th>\n",
       "  <th>Name</th>\n",
       "  <th>Nationality</th>\n",
       "  <th>Date</th>\n",
       "  <th>Meet</th>\n",
       "  <th>Location\n",
       "</th>\n",
       "  <th style=\"width:2em\" class=\"unsortable\">Ref\n",
       "</th>\n",
       "</tr>"
      ]
     },
     "execution_count": 20,
     "metadata": {},
     "output_type": "execute_result"
    }
   ],
   "execution_count": 20
  },
  {
   "metadata": {
    "ExecuteTime": {
     "end_time": "2024-04-15T12:31:44.638558Z",
     "start_time": "2024-04-15T12:31:44.396067Z"
    }
   },
   "cell_type": "code",
   "source": [
    "for n, table in enumerate(tables):\n",
    "    rows = table.find(\"tr\", mode=\"all\")\n",
    "    print(f\"{n} -> {len(rows)} rows\")"
   ],
   "id": "c18a74b92b465c1a",
   "outputs": [
    {
     "name": "stdout",
     "output_type": "stream",
     "text": [
      "0 -> 21 rows\n",
      "1 -> 1 rows\n",
      "2 -> 21 rows\n",
      "3 -> 3 rows\n",
      "4 -> 27 rows\n",
      "5 -> 26 rows\n",
      "6 -> 3 rows\n",
      "7 -> 25 rows\n",
      "8 -> 1 rows\n",
      "9 -> 7 rows\n",
      "10 -> 5 rows\n",
      "11 -> 8 rows\n"
     ]
    }
   ],
   "execution_count": 21
  },
  {
   "metadata": {
    "ExecuteTime": {
     "end_time": "2024-04-15T12:31:45.570729Z",
     "start_time": "2024-04-15T12:31:45.394284Z"
    }
   },
   "cell_type": "code",
   "source": [
    "for n, table in enumerate(tables):\n",
    "    rows = table.find(\"tr\", mode=\"all\")\n",
    "    cols = rows[-1].find(\"td\", mode=\"all\")\n",
    "    print(f\"{n} -> {len(rows)} rows, {len(cols)} columns\")"
   ],
   "id": "188d50a2fb65bde7",
   "outputs": [
    {
     "name": "stdout",
     "output_type": "stream",
     "text": [
      "0 -> 21 rows, 9 columns\n",
      "1 -> 1 rows, 2 columns\n",
      "2 -> 21 rows, 9 columns\n",
      "3 -> 3 rows, 9 columns\n",
      "4 -> 27 rows, 9 columns\n",
      "5 -> 26 rows, 9 columns\n",
      "6 -> 3 rows, 9 columns\n",
      "7 -> 25 rows, 11 columns\n",
      "8 -> 1 rows, 2 columns\n",
      "9 -> 7 rows, 1 columns\n",
      "10 -> 5 rows, 1 columns\n",
      "11 -> 8 rows, 1 columns\n"
     ]
    }
   ],
   "execution_count": 22
  },
  {
   "metadata": {
    "ExecuteTime": {
     "end_time": "2024-04-15T12:31:46.441119Z",
     "start_time": "2024-04-15T12:31:46.435168Z"
    }
   },
   "cell_type": "code",
   "source": "print(dir(soup))",
   "id": "dfa66a322a085f19",
   "outputs": [
    {
     "name": "stdout",
     "output_type": "stream",
     "text": [
      "['attrs', 'find', 'get', 'html', 'strip', 'tag', 'text']\n"
     ]
    }
   ],
   "execution_count": 23
  },
  {
   "metadata": {
    "ExecuteTime": {
     "end_time": "2024-04-15T12:31:47.180059Z",
     "start_time": "2024-04-15T12:31:47.133369Z"
    }
   },
   "cell_type": "code",
   "source": [
    "table = tables[0]\n",
    "\n",
    "for row in table.find(\"tr\", mode=\"all\")[1:]:\n",
    "    columns = row.find(\"td\", mode=\"all\")\n",
    "    event = columns[0].text\n",
    "    time = columns[1].text\n",
    "    print(f\"{event} -> {time}\")"
   ],
   "id": "1401add430d67660",
   "outputs": [
    {
     "name": "stdout",
     "output_type": "stream",
     "text": [
      "50m freestyle -> 20.91\n",
      "100m freestyle -> 46.80\n",
      "200m freestyle -> 1:42.00\n",
      "400m freestyle -> 3:40.07\n",
      "800m freestyle -> 7:32.12\n",
      "1500m freestyle -> 14:31.02\n",
      "50m backstroke -> 23.55\n",
      "100m backstroke -> 51.60\n",
      "200m backstroke -> 1:51.92\n",
      "50m breaststroke -> 25.95\n",
      "100m breaststroke -> 56.88\n",
      "200m breaststroke -> 2:05.48\n",
      "50m butterfly -> 22.27\n",
      "100m butterfly -> 49.45\n",
      "200m butterfly -> 1:50.34\n",
      "200m individual medley -> 1:54.00\n",
      "400m individual medley -> 4:02.50\n",
      "4 × 100 m freestyle relay -> 3:08.24\n",
      "4 × 200 m freestyle relay -> 6:58.55\n",
      "4 × 100 m medley relay -> 3:26.78\n"
     ]
    }
   ],
   "execution_count": 24
  },
  {
   "metadata": {
    "ExecuteTime": {
     "end_time": "2024-04-15T12:31:47.983562Z",
     "start_time": "2024-04-15T12:31:47.979089Z"
    }
   },
   "cell_type": "code",
   "source": [
    "RECORDS = (0, 2, 4, 5)\n",
    "COURSES = (\"LC Men\", \"LC Women\", \"SC Men\", \"SC Women\")"
   ],
   "id": "550022d059288e00",
   "outputs": [],
   "execution_count": 25
  },
  {
   "metadata": {
    "ExecuteTime": {
     "end_time": "2024-04-15T12:31:49.271760Z",
     "start_time": "2024-04-15T12:31:49.264763Z"
    }
   },
   "cell_type": "code",
   "source": "list(zip(RECORDS, COURSES))",
   "id": "b7f019192457e8c5",
   "outputs": [
    {
     "data": {
      "text/plain": [
       "[(0, 'LC Men'), (2, 'LC Women'), (4, 'SC Men'), (5, 'SC Women')]"
      ]
     },
     "execution_count": 26,
     "metadata": {},
     "output_type": "execute_result"
    }
   ],
   "execution_count": 26
  },
  {
   "metadata": {
    "ExecuteTime": {
     "end_time": "2024-04-15T12:31:50.301829Z",
     "start_time": "2024-04-15T12:31:50.049973Z"
    }
   },
   "cell_type": "code",
   "source": [
    "RECORDS = (0, 2, 4, 5)\n",
    "COURSES = (\"LC Men\", \"LC Women\", \"SC Men\", \"SC Women\")\n",
    "\n",
    "for table, course in zip(RECORDS, COURSES):\n",
    "    print(f\"{course}:\")\n",
    "    for row in tables[table].find(\"tr\", mode=\"all\")[1:]:\n",
    "        columns = row.find(\"td\", mode=\"all\")\n",
    "        event = columns[0].text\n",
    "        time = columns[1].text\n",
    "        print(f\"\\t{event} -> {time}\")\n",
    "    print()"
   ],
   "id": "eab61a755b5cb0b6",
   "outputs": [
    {
     "name": "stdout",
     "output_type": "stream",
     "text": [
      "LC Men:\n",
      "\t50m freestyle -> 20.91\n",
      "\t100m freestyle -> 46.80\n",
      "\t200m freestyle -> 1:42.00\n",
      "\t400m freestyle -> 3:40.07\n",
      "\t800m freestyle -> 7:32.12\n",
      "\t1500m freestyle -> 14:31.02\n",
      "\t50m backstroke -> 23.55\n",
      "\t100m backstroke -> 51.60\n",
      "\t200m backstroke -> 1:51.92\n",
      "\t50m breaststroke -> 25.95\n",
      "\t100m breaststroke -> 56.88\n",
      "\t200m breaststroke -> 2:05.48\n",
      "\t50m butterfly -> 22.27\n",
      "\t100m butterfly -> 49.45\n",
      "\t200m butterfly -> 1:50.34\n",
      "\t200m individual medley -> 1:54.00\n",
      "\t400m individual medley -> 4:02.50\n",
      "\t4 × 100 m freestyle relay -> 3:08.24\n",
      "\t4 × 200 m freestyle relay -> 6:58.55\n",
      "\t4 × 100 m medley relay -> 3:26.78\n",
      "\n",
      "LC Women:\n",
      "\t50m freestyle -> 23.61\n",
      "\t100m freestyle -> 51.71\n",
      "\t200m freestyle -> 1:52.85\n",
      "\t400m freestyle -> 3:55.38\n",
      "\t800m freestyle -> 8:04.79\n",
      "\t1500m freestyle -> 15:20.48\n",
      "\t50m backstroke -> 26.86\n",
      "\t100m backstroke -> 57.33\n",
      "\t200m backstroke -> 2:03.14\n",
      "\t50m breaststroke -> 29.16\n",
      "\t100m breaststroke -> 1:04.13\n",
      "\t200m breaststroke -> 2:17.55\n",
      "\t50m butterfly -> 24.43\n",
      "\t100m butterfly -> 55.48\n",
      "\t200m butterfly -> 2:01.81\n",
      "\t200m individual medley -> 2:06.12\n",
      "\t400m individual medley -> 4:25.87\n",
      "\t4 × 100 m freestyle relay -> 3:27.96\n",
      "\t4 × 200 m freestyle relay -> 7:37.50\n",
      "\t4 × 100 m medley relay -> 3:50.40\n",
      "\n",
      "SC Men:\n",
      "\t50m freestyle -> 20.16\n",
      "\t100m freestyle -> 44.84\n",
      "\t200m freestyle -> 1:39.37\n",
      "\t400m freestyle -> 3:32.25\n",
      "\t800m freestyle -> 7:20.46\n",
      "\t1500m freestyle -> 14:06.88\n",
      "\t50m backstroke -> 22.11\n",
      "\t100m backstroke -> 48.33\n",
      "\t200m backstroke -> 1:45.63\n",
      "\t50m breaststroke -> 24.95\n",
      "\t100m breaststroke -> 55.28\n",
      "\t200m breaststroke -> 2:00.16\n",
      "\t50m butterfly -> 21.75\n",
      "\t50m butterfly -> 21.75\n",
      "\t100m butterfly -> 47.78\n",
      "\t200m butterfly -> 1:46.85\n",
      "\t100m individual medley -> 49.28\n",
      "\t200m individual medley -> 1:49.63\n",
      "\t400m individual medley -> 3:54.81\n",
      "\t4 × 50 m freestyle relay -> 1:21.80\n",
      "\t4 × 50 m freestyle relay -> 1:20.77\n",
      "\t4 × 100 m freestyle relay -> 3:02.75\n",
      "\t4 × 200 m freestyle relay -> 6:44.12\n",
      "\t4 × 50 m medley relay -> 1:29.72\n",
      "\t4 × 100 m medley relay -> 3:18.98\n",
      "\t4 × 100 m medley relay -> 3:18.98\n",
      "\n",
      "SC Women:\n",
      "\t50m freestyle -> 22.93\n",
      "\t100m freestyle -> 50.25\n",
      "\t200m freestyle -> 1:50.31\n",
      "\t400m freestyle -> 3:51.30\n",
      "\t800m freestyle -> 7:57.42\n",
      "\t1500m freestyle -> 15:08.24\n",
      "\t50m backstroke -> 25.25\n",
      "\t100m backstroke -> 54.89\n",
      "\t200m backstroke -> 1:58.94\n",
      "\t50m breaststroke -> 28.37\n",
      "\t100m breaststroke -> 1:02.36\n",
      "\t100m breaststroke -> 1:02.36\n",
      "\t100m breaststroke -> 1:02.36\n",
      "\t200m breaststroke -> 2:14.57\n",
      "\t50m butterfly -> 24.38\n",
      "\t100m butterfly -> 54.05\n",
      "\t200m butterfly -> 1:59.61\n",
      "\t100m individual medley -> 56.51\n",
      "\t200m individual medley -> 2:01.86\n",
      "\t400m individual medley -> 4:18.94\n",
      "\t4 × 50 m freestyle relay -> 1:32.50\n",
      "\t4 × 100 m freestyle relay -> 3:25.43\n",
      "\t4 × 200 m freestyle relay -> 7:30.87\n",
      "\t4 × 50 m medley relay -> 1:42.35\n",
      "\t4 × 100 m medley relay -> 3:44.35\n",
      "\n"
     ]
    }
   ],
   "execution_count": 27
  }
 ],
 "metadata": {
  "kernelspec": {
   "display_name": "Python 3",
   "language": "python",
   "name": "python3"
  },
  "language_info": {
   "codemirror_mode": {
    "name": "ipython",
    "version": 2
   },
   "file_extension": ".py",
   "mimetype": "text/x-python",
   "name": "python",
   "nbconvert_exporter": "python",
   "pygments_lexer": "ipython2",
   "version": "2.7.6"
  }
 },
 "nbformat": 4,
 "nbformat_minor": 5
}
