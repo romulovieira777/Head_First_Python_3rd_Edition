{
 "cells": [
  {
   "cell_type": "code",
   "id": "initial_id",
   "metadata": {
    "collapsed": true,
    "ExecuteTime": {
     "end_time": "2024-04-12T12:57:01.795500Z",
     "start_time": "2024-04-12T12:57:01.785325Z"
    }
   },
   "source": [
    "nums = [0, 1, 2, 3, 4, 5, 6, 7, 8, 9]\n",
    "nums[:4]"
   ],
   "outputs": [
    {
     "data": {
      "text/plain": [
       "[0, 1, 2, 3]"
      ]
     },
     "execution_count": 1,
     "metadata": {},
     "output_type": "execute_result"
    }
   ],
   "execution_count": 1
  },
  {
   "metadata": {
    "ExecuteTime": {
     "end_time": "2024-04-12T12:57:02.431648Z",
     "start_time": "2024-04-12T12:57:02.419334Z"
    }
   },
   "cell_type": "code",
   "source": "nums",
   "id": "363bc49509f51796",
   "outputs": [
    {
     "data": {
      "text/plain": [
       "[0, 1, 2, 3, 4, 5, 6, 7, 8, 9]"
      ]
     },
     "execution_count": 2,
     "metadata": {},
     "output_type": "execute_result"
    }
   ],
   "execution_count": 2
  },
  {
   "metadata": {
    "ExecuteTime": {
     "end_time": "2024-04-12T12:57:02.875205Z",
     "start_time": "2024-04-12T12:57:02.866616Z"
    }
   },
   "cell_type": "code",
   "source": [
    "msg = \"My name's Felicity Smokes, and I'm depressed.\"\n",
    "msg[:16]"
   ],
   "id": "c3aeee049942bfd5",
   "outputs": [
    {
     "data": {
      "text/plain": [
       "\"My name's Felici\""
      ]
     },
     "execution_count": 3,
     "metadata": {},
     "output_type": "execute_result"
    }
   ],
   "execution_count": 3
  },
  {
   "metadata": {
    "ExecuteTime": {
     "end_time": "2024-04-12T12:57:03.319364Z",
     "start_time": "2024-04-12T12:57:03.312457Z"
    }
   },
   "cell_type": "code",
   "source": "msg",
   "id": "81acb0262fe45039",
   "outputs": [
    {
     "data": {
      "text/plain": [
       "\"My name's Felicity Smokes, and I'm depressed.\""
      ]
     },
     "execution_count": 4,
     "metadata": {},
     "output_type": "execute_result"
    }
   ],
   "execution_count": 4
  },
  {
   "metadata": {
    "ExecuteTime": {
     "end_time": "2024-04-12T12:57:03.728624Z",
     "start_time": "2024-04-12T12:57:03.722599Z"
    }
   },
   "cell_type": "code",
   "source": "fav = \"Life, the Universe and Everything.\"",
   "id": "3964a47d1d963427",
   "outputs": [],
   "execution_count": 5
  },
  {
   "metadata": {
    "ExecuteTime": {
     "end_time": "2024-04-12T12:57:04.121340Z",
     "start_time": "2024-04-12T12:57:04.115492Z"
    }
   },
   "cell_type": "code",
   "source": "fav[0], fav[1]",
   "id": "ba3a15f5b6ce504c",
   "outputs": [
    {
     "data": {
      "text/plain": [
       "('L', 'i')"
      ]
     },
     "execution_count": 6,
     "metadata": {},
     "output_type": "execute_result"
    }
   ],
   "execution_count": 6
  },
  {
   "metadata": {
    "ExecuteTime": {
     "end_time": "2024-04-12T12:57:04.551018Z",
     "start_time": "2024-04-12T12:57:04.541030Z"
    }
   },
   "cell_type": "code",
   "source": "fav[-1], fav[-2]",
   "id": "d070e15e91e766f9",
   "outputs": [
    {
     "data": {
      "text/plain": [
       "('.', 'g')"
      ]
     },
     "execution_count": 7,
     "metadata": {},
     "output_type": "execute_result"
    }
   ],
   "execution_count": 7
  },
  {
   "metadata": {
    "ExecuteTime": {
     "end_time": "2024-04-12T12:57:04.820716Z",
     "start_time": "2024-04-12T12:57:04.815069Z"
    }
   },
   "cell_type": "code",
   "source": "fav[0:4]",
   "id": "5107b3deb624bfae",
   "outputs": [
    {
     "data": {
      "text/plain": [
       "'Life'"
      ]
     },
     "execution_count": 8,
     "metadata": {},
     "output_type": "execute_result"
    }
   ],
   "execution_count": 8
  },
  {
   "metadata": {
    "ExecuteTime": {
     "end_time": "2024-04-12T12:57:05.023107Z",
     "start_time": "2024-04-12T12:57:05.013767Z"
    }
   },
   "cell_type": "code",
   "source": "fav[10:18]",
   "id": "1ed859af285f58d3",
   "outputs": [
    {
     "data": {
      "text/plain": [
       "'Universe'"
      ]
     },
     "execution_count": 9,
     "metadata": {},
     "output_type": "execute_result"
    }
   ],
   "execution_count": 9
  },
  {
   "metadata": {
    "ExecuteTime": {
     "end_time": "2024-04-12T12:57:05.160221Z",
     "start_time": "2024-04-12T12:57:05.151869Z"
    }
   },
   "cell_type": "code",
   "source": "fav[23:33]",
   "id": "e3ade93c2044c4fd",
   "outputs": [
    {
     "data": {
      "text/plain": [
       "'Everything'"
      ]
     },
     "execution_count": 10,
     "metadata": {},
     "output_type": "execute_result"
    }
   ],
   "execution_count": 10
  },
  {
   "metadata": {
    "ExecuteTime": {
     "end_time": "2024-04-12T12:57:05.381228Z",
     "start_time": "2024-04-12T12:57:05.370741Z"
    }
   },
   "cell_type": "code",
   "source": "fav[23:-1]",
   "id": "4af4b1ef967d3105",
   "outputs": [
    {
     "data": {
      "text/plain": [
       "'Everything'"
      ]
     },
     "execution_count": 11,
     "metadata": {},
     "output_type": "execute_result"
    }
   ],
   "execution_count": 11
  },
  {
   "metadata": {
    "ExecuteTime": {
     "end_time": "2024-04-12T12:57:05.530935Z",
     "start_time": "2024-04-12T12:57:05.518609Z"
    }
   },
   "cell_type": "code",
   "source": "fav[:4]",
   "id": "baccb139bf76e83d",
   "outputs": [
    {
     "data": {
      "text/plain": [
       "'Life'"
      ]
     },
     "execution_count": 12,
     "metadata": {},
     "output_type": "execute_result"
    }
   ],
   "execution_count": 12
  },
  {
   "metadata": {
    "ExecuteTime": {
     "end_time": "2024-04-12T12:57:05.700970Z",
     "start_time": "2024-04-12T12:57:05.691446Z"
    }
   },
   "cell_type": "code",
   "source": "fav[:23]",
   "id": "5e1466ecca33dff1",
   "outputs": [
    {
     "data": {
      "text/plain": [
       "'Life, the Universe and '"
      ]
     },
     "execution_count": 13,
     "metadata": {},
     "output_type": "execute_result"
    }
   ],
   "execution_count": 13
  },
  {
   "metadata": {
    "ExecuteTime": {
     "end_time": "2024-04-12T12:57:06.563187Z",
     "start_time": "2024-04-12T12:57:06.556011Z"
    }
   },
   "cell_type": "code",
   "source": "fav[-11]",
   "id": "f2078a0b3cb8ba25",
   "outputs": [
    {
     "data": {
      "text/plain": [
       "'E'"
      ]
     },
     "execution_count": 14,
     "metadata": {},
     "output_type": "execute_result"
    }
   ],
   "execution_count": 14
  },
  {
   "metadata": {
    "ExecuteTime": {
     "end_time": "2024-04-12T12:57:20.130849Z",
     "start_time": "2024-04-12T12:57:20.112912Z"
    }
   },
   "cell_type": "code",
   "source": "fav[-11:-1]",
   "id": "122c1bed36497e64",
   "outputs": [
    {
     "data": {
      "text/plain": [
       "'Everything'"
      ]
     },
     "execution_count": 15,
     "metadata": {},
     "output_type": "execute_result"
    }
   ],
   "execution_count": 15
  },
  {
   "metadata": {
    "ExecuteTime": {
     "end_time": "2024-04-12T12:57:32.071509Z",
     "start_time": "2024-04-12T12:57:32.065651Z"
    }
   },
   "cell_type": "code",
   "source": "fav[:]",
   "id": "8f3649e2ae1c1db4",
   "outputs": [
    {
     "data": {
      "text/plain": [
       "'Life, the Universe and Everything.'"
      ]
     },
     "execution_count": 16,
     "metadata": {},
     "output_type": "execute_result"
    }
   ],
   "execution_count": 16
  },
  {
   "metadata": {
    "ExecuteTime": {
     "end_time": "2024-04-12T12:57:48.087484Z",
     "start_time": "2024-04-12T12:57:48.082188Z"
    }
   },
   "cell_type": "code",
   "source": "fav",
   "id": "4b04c9d42785eaec",
   "outputs": [
    {
     "data": {
      "text/plain": [
       "'Life, the Universe and Everything.'"
      ]
     },
     "execution_count": 17,
     "metadata": {},
     "output_type": "execute_result"
    }
   ],
   "execution_count": 17
  },
  {
   "metadata": {
    "ExecuteTime": {
     "end_time": "2024-04-12T13:01:20.176108Z",
     "start_time": "2024-04-12T13:01:20.159579Z"
    }
   },
   "cell_type": "code",
   "source": "msg",
   "id": "37f9c2b92d044bc2",
   "outputs": [
    {
     "data": {
      "text/plain": [
       "\"My name's Felicity Smokes, and I'm depressed.\""
      ]
     },
     "execution_count": 18,
     "metadata": {},
     "output_type": "execute_result"
    }
   ],
   "execution_count": 18
  },
  {
   "metadata": {
    "ExecuteTime": {
     "end_time": "2024-04-12T13:01:28.939405Z",
     "start_time": "2024-04-12T13:01:28.933552Z"
    }
   },
   "cell_type": "code",
   "source": "msg[::3]",
   "id": "c7f0ed25977838f2",
   "outputs": [
    {
     "data": {
      "text/plain": [
       "'Mne li osa meee'"
      ]
     },
     "execution_count": 19,
     "metadata": {},
     "output_type": "execute_result"
    }
   ],
   "execution_count": 19
  },
  {
   "metadata": {
    "ExecuteTime": {
     "end_time": "2024-04-12T13:01:38.476090Z",
     "start_time": "2024-04-12T13:01:38.463225Z"
    }
   },
   "cell_type": "code",
   "source": "msg[::-1]",
   "id": "f5cff54b48a2ef74",
   "outputs": [
    {
     "data": {
      "text/plain": [
       "\".desserped m'I dna ,sekomS yticileF s'eman yM\""
      ]
     },
     "execution_count": 20,
     "metadata": {},
     "output_type": "execute_result"
    }
   ],
   "execution_count": 20
  }
 ],
 "metadata": {
  "kernelspec": {
   "display_name": "Python 3",
   "language": "python",
   "name": "python3"
  },
  "language_info": {
   "codemirror_mode": {
    "name": "ipython",
    "version": 2
   },
   "file_extension": ".py",
   "mimetype": "text/x-python",
   "name": "python",
   "nbconvert_exporter": "python",
   "pygments_lexer": "ipython2",
   "version": "2.7.6"
  }
 },
 "nbformat": 4,
 "nbformat_minor": 5
}
