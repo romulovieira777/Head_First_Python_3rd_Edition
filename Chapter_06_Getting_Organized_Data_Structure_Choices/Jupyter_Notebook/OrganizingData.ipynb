{
 "cells": [
  {
   "cell_type": "code",
   "execution_count": 1,
   "id": "initial_id",
   "metadata": {
    "collapsed": true,
    "ExecuteTime": {
     "end_time": "2024-03-26T11:29:04.211599Z",
     "start_time": "2024-03-26T11:29:03.853145Z"
    }
   },
   "outputs": [
    {
     "ename": "ValueError",
     "evalue": "list.remove(x): x not in list",
     "output_type": "error",
     "traceback": [
      "\u001B[1;31m---------------------------------------------------------------------------\u001B[0m",
      "\u001B[1;31mValueError\u001B[0m                                Traceback (most recent call last)",
      "Cell \u001B[1;32mIn[1], line 5\u001B[0m\n\u001B[0;32m      2\u001B[0m \u001B[38;5;28;01mimport\u001B[39;00m \u001B[38;5;21;01mChapter_04_List_of_Files_Functions_Modules_Files\u001B[39;00m\u001B[38;5;21;01m.\u001B[39;00m\u001B[38;5;21;01mPython_Code\u001B[39;00m\u001B[38;5;21;01m.\u001B[39;00m\u001B[38;5;21;01mswimclub\u001B[39;00m \u001B[38;5;28;01mas\u001B[39;00m \u001B[38;5;21;01mswimclub\u001B[39;00m\n\u001B[0;32m      4\u001B[0m swim_files \u001B[38;5;241m=\u001B[39m os\u001B[38;5;241m.\u001B[39mlistdir(swimclub\u001B[38;5;241m.\u001B[39mFOLDER)\n\u001B[1;32m----> 5\u001B[0m \u001B[43mswim_files\u001B[49m\u001B[38;5;241;43m.\u001B[39;49m\u001B[43mremove\u001B[49m\u001B[43m(\u001B[49m\u001B[38;5;124;43m'\u001B[39;49m\u001B[38;5;124;43m.DS_Store\u001B[39;49m\u001B[38;5;124;43m'\u001B[39;49m\u001B[43m)\u001B[49m\n",
      "\u001B[1;31mValueError\u001B[0m: list.remove(x): x not in list"
     ]
    }
   ],
   "source": [
    "import os\n",
    "import Chapter_04_List_of_Files_Functions_Modules_Files.Python_Code.swimclub as swimclub\n",
    "\n",
    "swim_files = os.listdir(swimclub.FOLDER)\n",
    "swim_files.remove('.DS_Store')"
   ]
  },
  {
   "cell_type": "code",
   "outputs": [
    {
     "name": "stdout",
     "output_type": "stream",
     "text": [
      "60\n"
     ]
    }
   ],
   "source": [
    "print(len(swim_files))"
   ],
   "metadata": {
    "collapsed": false,
    "ExecuteTime": {
     "end_time": "2024-03-26T11:29:04.731536Z",
     "start_time": "2024-03-26T11:29:04.722678Z"
    }
   },
   "id": "fdb670b0220f790b",
   "execution_count": 2
  },
  {
   "cell_type": "code",
   "outputs": [
    {
     "name": "stdout",
     "output_type": "stream",
     "text": [
      "['Abi', 'Abi', 'Abi', 'Abi', 'Abi', 'Ali', 'Ali', 'Alison', 'Alison', 'Aurora', 'Bill', 'Bill', 'Blake', 'Blake', 'Blake', 'Calvin', 'Calvin', 'Calvin', 'Carl', 'Chris', 'Chris', 'Darius', 'Darius', 'Darius', 'Darius', 'Dave', 'Dave', 'Elba', 'Emma', 'Emma', 'Erika', 'Erika', 'Erika', 'Hannah', 'Hannah', 'Katie', 'Katie', 'Katie', 'Katie', 'Katie', 'Katie', 'Katie', 'Lizzie', 'Lizzie', 'Maria', 'Mike', 'Mike', 'Mike', 'Mike', 'Mike', 'Owen', 'Ruth', 'Ruth', 'Ruth', 'Ruth', 'Ruth', 'Tasmin', 'Tasmin', 'Tasmin', 'Tasmin']\n"
     ]
    }
   ],
   "source": [
    "swimmers = []\n",
    "\n",
    "for file in swim_files:\n",
    "    swimmers.append(swimclub.read_swim_data(file)[0])\n",
    "print(swimmers)"
   ],
   "metadata": {
    "collapsed": false,
    "ExecuteTime": {
     "end_time": "2024-03-26T11:29:05.473258Z",
     "start_time": "2024-03-26T11:29:05.421027Z"
    }
   },
   "id": "2af43d54200a9f81",
   "execution_count": 3
  },
  {
   "cell_type": "code",
   "outputs": [],
   "source": [
    "names = list(set(swimmers))"
   ],
   "metadata": {
    "collapsed": false,
    "ExecuteTime": {
     "end_time": "2024-03-26T11:29:06.123913Z",
     "start_time": "2024-03-26T11:29:06.120459Z"
    }
   },
   "id": "292024eb7682fc0e",
   "execution_count": 4
  },
  {
   "cell_type": "code",
   "outputs": [
    {
     "name": "stdout",
     "output_type": "stream",
     "text": [
      "['Chris', 'Carl', 'Maria', 'Emma', 'Erika', 'Mike', 'Hannah', 'Alison', 'Owen', 'Ruth', 'Abi', 'Blake', 'Katie', 'Tasmin', 'Lizzie', 'Dave', 'Bill', 'Ali', 'Elba', 'Calvin', 'Darius', 'Aurora']\n"
     ]
    }
   ],
   "source": [
    "print(names)"
   ],
   "metadata": {
    "collapsed": false,
    "ExecuteTime": {
     "end_time": "2024-03-26T11:29:06.895362Z",
     "start_time": "2024-03-26T11:29:06.888329Z"
    }
   },
   "id": "9909fc5c376d4aae",
   "execution_count": 5
  },
  {
   "cell_type": "code",
   "outputs": [
    {
     "data": {
      "text/plain": "22"
     },
     "execution_count": 6,
     "metadata": {},
     "output_type": "execute_result"
    }
   ],
   "source": [
    "len(names)"
   ],
   "metadata": {
    "collapsed": false,
    "ExecuteTime": {
     "end_time": "2024-03-26T11:29:07.703994Z",
     "start_time": "2024-03-26T11:29:07.694476Z"
    }
   },
   "id": "45604a63fa208197",
   "execution_count": 6
  },
  {
   "cell_type": "code",
   "outputs": [
    {
     "name": "stdout",
     "output_type": "stream",
     "text": [
      "['Abi', 'Ali', 'Alison', 'Aurora', 'Bill', 'Blake', 'Calvin', 'Carl', 'Chris', 'Darius', 'Dave', 'Elba', 'Emma', 'Erika', 'Hannah', 'Katie', 'Lizzie', 'Maria', 'Mike', 'Owen', 'Ruth', 'Tasmin']\n"
     ]
    }
   ],
   "source": [
    "swimmers = []\n",
    "\n",
    "for file in swim_files:\n",
    "    name = swimclub.read_swim_data(file)[0]\n",
    "    if name not in swimmers:\n",
    "        swimmers.append(name)\n",
    "print(swimmers)"
   ],
   "metadata": {
    "collapsed": false,
    "ExecuteTime": {
     "end_time": "2024-03-26T11:30:25.658896Z",
     "start_time": "2024-03-26T11:30:25.644764Z"
    }
   },
   "id": "f54514cea1071963",
   "execution_count": 7
  },
  {
   "cell_type": "code",
   "outputs": [
    {
     "name": "stdout",
     "output_type": "stream",
     "text": [
      "['Abi', 'Ali', 'Alison', 'Aurora', 'Bill', 'Blake', 'Calvin', 'Carl', 'Chris', 'Darius', 'Dave', 'Elba', 'Emma', 'Erika', 'Hannah', 'Katie', 'Lizzie', 'Maria', 'Mike', 'Owen', 'Ruth', 'Tasmin']\n"
     ]
    }
   ],
   "source": [
    "print(sorted(names))"
   ],
   "metadata": {
    "collapsed": false,
    "ExecuteTime": {
     "end_time": "2024-03-26T11:31:34.216177Z",
     "start_time": "2024-03-26T11:31:34.212159Z"
    }
   },
   "id": "b2439ffcbd857664",
   "execution_count": 8
  },
  {
   "cell_type": "code",
   "outputs": [
    {
     "name": "stdout",
     "output_type": "stream",
     "text": [
      "['Abi', 'Ali', 'Alison', 'Aurora', 'Bill', 'Blake', 'Calvin', 'Carl', 'Chris', 'Darius', 'Dave', 'Elba', 'Emma', 'Erika', 'Hannah', 'Katie', 'Lizzie', 'Maria', 'Mike', 'Owen', 'Ruth', 'Tasmin']\n"
     ]
    }
   ],
   "source": [
    "print(sorted(swimmers))"
   ],
   "metadata": {
    "collapsed": false,
    "ExecuteTime": {
     "end_time": "2024-03-26T11:31:44.115626Z",
     "start_time": "2024-03-26T11:31:44.110216Z"
    }
   },
   "id": "3a4d78e5da72fc3f",
   "execution_count": 9
  },
  {
   "cell_type": "code",
   "outputs": [],
   "source": [
    "swimmers = []\n",
    "\n",
    "for file in swim_files:\n",
    "    swimclub.read_swim_data(file)[0]\n",
    "    swimmers.append((swimclub.read_swim_data(file)[0], file))"
   ],
   "metadata": {
    "collapsed": false,
    "ExecuteTime": {
     "end_time": "2024-03-26T11:35:01.641679Z",
     "start_time": "2024-03-26T11:35:01.606958Z"
    }
   },
   "id": "26c3101e36349b9f",
   "execution_count": 10
  },
  {
   "cell_type": "code",
   "outputs": [
    {
     "data": {
      "text/plain": "60"
     },
     "execution_count": 11,
     "metadata": {},
     "output_type": "execute_result"
    }
   ],
   "source": [
    "len(swimmers)"
   ],
   "metadata": {
    "collapsed": false,
    "ExecuteTime": {
     "end_time": "2024-03-26T11:35:06.890396Z",
     "start_time": "2024-03-26T11:35:06.885173Z"
    }
   },
   "id": "8f0e3965eb5f47a",
   "execution_count": 11
  },
  {
   "cell_type": "code",
   "outputs": [
    {
     "data": {
      "text/plain": "[('Abi', 'Abi-10-100m-Back.txt'),\n ('Abi', 'Abi-10-100m-Breast.txt'),\n ('Abi', 'Abi-10-50m-Back.txt'),\n ('Abi', 'Abi-10-50m-Breast.txt'),\n ('Abi', 'Abi-10-50m-Free.txt')]"
     },
     "execution_count": 12,
     "metadata": {},
     "output_type": "execute_result"
    }
   ],
   "source": [
    "swimmers[:5]"
   ],
   "metadata": {
    "collapsed": false,
    "ExecuteTime": {
     "end_time": "2024-03-26T11:35:53.520408Z",
     "start_time": "2024-03-26T11:35:53.514431Z"
    }
   },
   "id": "5d3dfc53116dace4",
   "execution_count": 12
  },
  {
   "cell_type": "code",
   "outputs": [
    {
     "name": "stdout",
     "output_type": "stream",
     "text": [
      "['Abi', 'Ali', 'Alison', 'Aurora', 'Bill', 'Blake', 'Calvin', 'Carl', 'Chris', 'Darius', 'Dave', 'Elba', 'Emma', 'Erika', 'Hannah', 'Katie', 'Lizzie', 'Maria', 'Mike', 'Owen', 'Ruth', 'Tasmin']\n"
     ]
    }
   ],
   "source": [
    "names = []\n",
    "\n",
    "for row in swimmers:\n",
    "    if row[0] not in names:\n",
    "        names.append(row[0])\n",
    "print(sorted(names))"
   ],
   "metadata": {
    "collapsed": false,
    "ExecuteTime": {
     "end_time": "2024-03-26T11:37:35.314666Z",
     "start_time": "2024-03-26T11:37:35.309771Z"
    }
   },
   "id": "bcc54a9d0371eb3c",
   "execution_count": 13
  },
  {
   "cell_type": "code",
   "outputs": [
    {
     "name": "stdout",
     "output_type": "stream",
     "text": [
      "25 ('Dave', 'Dave-17-100m-Free.txt')\n",
      "26 ('Dave', 'Dave-17-200m-Back.txt')\n"
     ]
    }
   ],
   "source": [
    "for n, event in enumerate(swimmers):\n",
    "    if event[0] == \"Dave\":\n",
    "        print(n, event)"
   ],
   "metadata": {
    "collapsed": false,
    "ExecuteTime": {
     "end_time": "2024-03-26T11:39:21.794191Z",
     "start_time": "2024-03-26T11:39:21.789175Z"
    }
   },
   "id": "603684f185bde5a1",
   "execution_count": 14
  },
  {
   "cell_type": "code",
   "outputs": [],
   "source": [
    "person = {\n",
    "    \"first\": \"Tim\",\n",
    "    \"last\": \"O'Reilly\",\n",
    "}"
   ],
   "metadata": {
    "collapsed": false,
    "ExecuteTime": {
     "end_time": "2024-03-26T11:49:01.545327Z",
     "start_time": "2024-03-26T11:49:01.540441Z"
    }
   },
   "id": "821f3c40d4dd95ec",
   "execution_count": 15
  },
  {
   "cell_type": "code",
   "outputs": [
    {
     "data": {
      "text/plain": "'Tim'"
     },
     "execution_count": 16,
     "metadata": {},
     "output_type": "execute_result"
    }
   ],
   "source": [
    "person[\"first\"]"
   ],
   "metadata": {
    "collapsed": false,
    "ExecuteTime": {
     "end_time": "2024-03-26T11:49:12.647488Z",
     "start_time": "2024-03-26T11:49:12.639670Z"
    }
   },
   "id": "d75dd29f0de0b21c",
   "execution_count": 16
  },
  {
   "cell_type": "code",
   "outputs": [
    {
     "data": {
      "text/plain": "\"O'Reilly\""
     },
     "execution_count": 17,
     "metadata": {},
     "output_type": "execute_result"
    }
   ],
   "source": [
    "person[\"last\"]"
   ],
   "metadata": {
    "collapsed": false,
    "ExecuteTime": {
     "end_time": "2024-03-26T11:49:19.661429Z",
     "start_time": "2024-03-26T11:49:19.655705Z"
    }
   },
   "id": "fdeffa8bbddb5dbc",
   "execution_count": 17
  },
  {
   "cell_type": "code",
   "outputs": [],
   "source": [
    "names = {}"
   ],
   "metadata": {
    "collapsed": false,
    "ExecuteTime": {
     "end_time": "2024-03-26T11:50:00.386446Z",
     "start_time": "2024-03-26T11:50:00.382340Z"
    }
   },
   "id": "6b5d41ad7c6bd7f7",
   "execution_count": 18
  },
  {
   "cell_type": "code",
   "outputs": [],
   "source": [
    "names[\"Dave\"] = \"Dave-17-100m-Free.txt\""
   ],
   "metadata": {
    "collapsed": false,
    "ExecuteTime": {
     "end_time": "2024-03-26T11:50:39.648636Z",
     "start_time": "2024-03-26T11:50:39.644715Z"
    }
   },
   "id": "9ef70f5f0eed9804",
   "execution_count": 19
  },
  {
   "cell_type": "code",
   "outputs": [
    {
     "name": "stdout",
     "output_type": "stream",
     "text": [
      "{'Dave': 'Dave-17-100m-Free.txt'}\n"
     ]
    }
   ],
   "source": [
    "print(names)"
   ],
   "metadata": {
    "collapsed": false,
    "ExecuteTime": {
     "end_time": "2024-03-26T11:51:12.761708Z",
     "start_time": "2024-03-26T11:51:12.757243Z"
    }
   },
   "id": "c641181012b67ed3",
   "execution_count": 20
  },
  {
   "cell_type": "code",
   "outputs": [],
   "source": [
    "\n",
    "swimmers = {}\n",
    "\n",
    "for file in swim_files:\n",
    "    name, *_ = swimclub.read_swim_data(file)\n",
    "    swimmers[name] = []"
   ],
   "metadata": {
    "collapsed": false,
    "ExecuteTime": {
     "end_time": "2024-03-26T11:57:50.165292Z",
     "start_time": "2024-03-26T11:57:50.150944Z"
    }
   },
   "id": "3aba1641d4206561",
   "execution_count": 25
  },
  {
   "cell_type": "code",
   "outputs": [
    {
     "data": {
      "text/plain": "{'Abi': [],\n 'Ali': [],\n 'Alison': [],\n 'Aurora': [],\n 'Bill': [],\n 'Blake': [],\n 'Calvin': [],\n 'Carl': [],\n 'Chris': [],\n 'Darius': [],\n 'Dave': [],\n 'Elba': [],\n 'Emma': [],\n 'Erika': [],\n 'Hannah': [],\n 'Katie': [],\n 'Lizzie': [],\n 'Maria': [],\n 'Mike': [],\n 'Owen': [],\n 'Ruth': [],\n 'Tasmin': []}"
     },
     "execution_count": 26,
     "metadata": {},
     "output_type": "execute_result"
    }
   ],
   "source": [
    "swimmers"
   ],
   "metadata": {
    "collapsed": false,
    "ExecuteTime": {
     "end_time": "2024-03-26T11:58:26.711605Z",
     "start_time": "2024-03-26T11:58:26.642153Z"
    }
   },
   "id": "837b4b927f18285f",
   "execution_count": 26
  },
  {
   "cell_type": "code",
   "outputs": [
    {
     "data": {
      "text/plain": "22"
     },
     "execution_count": 27,
     "metadata": {},
     "output_type": "execute_result"
    }
   ],
   "source": [
    "len((swimmers))"
   ],
   "metadata": {
    "collapsed": false,
    "ExecuteTime": {
     "end_time": "2024-03-26T11:59:58.094031Z",
     "start_time": "2024-03-26T11:59:58.087745Z"
    }
   },
   "id": "fef6de9eeca93f98",
   "execution_count": 27
  },
  {
   "cell_type": "code",
   "outputs": [
    {
     "name": "stdout",
     "output_type": "stream",
     "text": [
      "['Abi', 'Ali', 'Alison', 'Aurora', 'Bill', 'Blake', 'Calvin', 'Carl', 'Chris', 'Darius', 'Dave', 'Elba', 'Emma', 'Erika', 'Hannah', 'Katie', 'Lizzie', 'Maria', 'Mike', 'Owen', 'Ruth', 'Tasmin']\n"
     ]
    }
   ],
   "source": [
    "print(sorted(swimmers))"
   ],
   "metadata": {
    "collapsed": false,
    "ExecuteTime": {
     "end_time": "2024-03-26T12:00:11.767494Z",
     "start_time": "2024-03-26T12:00:11.763189Z"
    }
   },
   "id": "91061e8c9cb09d4d",
   "execution_count": 28
  },
  {
   "cell_type": "code",
   "outputs": [
    {
     "data": {
      "text/plain": "[]"
     },
     "execution_count": 29,
     "metadata": {},
     "output_type": "execute_result"
    }
   ],
   "source": [
    "swimmers[\"Dave\"]"
   ],
   "metadata": {
    "collapsed": false,
    "ExecuteTime": {
     "end_time": "2024-03-26T12:00:32.074846Z",
     "start_time": "2024-03-26T12:00:32.069713Z"
    }
   },
   "id": "b28adc7e8fac7d25",
   "execution_count": 29
  },
  {
   "cell_type": "code",
   "outputs": [
    {
     "name": "stdout",
     "output_type": "stream",
     "text": [
      "['__class__', '__class_getitem__', '__contains__', '__delattr__', '__delitem__', '__dir__', '__doc__', '__eq__', '__format__', '__ge__', '__getattribute__', '__getitem__', '__getstate__', '__gt__', '__hash__', '__init__', '__init_subclass__', '__ior__', '__iter__', '__le__', '__len__', '__lt__', '__ne__', '__new__', '__or__', '__reduce__', '__reduce_ex__', '__repr__', '__reversed__', '__ror__', '__setattr__', '__setitem__', '__sizeof__', '__str__', '__subclasshook__', 'clear', 'copy', 'fromkeys', 'get', 'items', 'keys', 'pop', 'popitem', 'setdefault', 'update', 'values']\n"
     ]
    }
   ],
   "source": [
    "print(dir(swimmers))"
   ],
   "metadata": {
    "collapsed": false,
    "ExecuteTime": {
     "end_time": "2024-03-26T12:00:50.405483Z",
     "start_time": "2024-03-26T12:00:50.400805Z"
    }
   },
   "id": "ba54d132790657bb",
   "execution_count": 30
  },
  {
   "cell_type": "code",
   "outputs": [],
   "source": [
    "swimmers = {}\n",
    "\n",
    "for file in swim_files:\n",
    "    name, *_ = swimclub.read_swim_data(file)\n",
    "    if name not in swimmers:\n",
    "        swimmers[name] = []\n",
    "    swimmers[name].append(file)"
   ],
   "metadata": {
    "collapsed": false,
    "ExecuteTime": {
     "end_time": "2024-03-26T12:03:25.129464Z",
     "start_time": "2024-03-26T12:03:25.115955Z"
    }
   },
   "id": "fa56a04a86c01a89",
   "execution_count": 31
  },
  {
   "cell_type": "code",
   "outputs": [
    {
     "data": {
      "text/plain": "['Dave-17-100m-Free.txt', 'Dave-17-200m-Back.txt']"
     },
     "execution_count": 32,
     "metadata": {},
     "output_type": "execute_result"
    }
   ],
   "source": [
    "swimmers[\"Dave\"]"
   ],
   "metadata": {
    "collapsed": false,
    "ExecuteTime": {
     "end_time": "2024-03-26T12:03:30.111848Z",
     "start_time": "2024-03-26T12:03:30.106585Z"
    }
   },
   "id": "6b0e387f08f8d28c",
   "execution_count": 32
  },
  {
   "cell_type": "code",
   "outputs": [],
   "source": [],
   "metadata": {
    "collapsed": false
   },
   "id": "72531490ec526259"
  }
 ],
 "metadata": {
  "kernelspec": {
   "display_name": "Python 3",
   "language": "python",
   "name": "python3"
  },
  "language_info": {
   "codemirror_mode": {
    "name": "ipython",
    "version": 2
   },
   "file_extension": ".py",
   "mimetype": "text/x-python",
   "name": "python",
   "nbconvert_exporter": "python",
   "pygments_lexer": "ipython2",
   "version": "2.7.6"
  }
 },
 "nbformat": 4,
 "nbformat_minor": 5
}
