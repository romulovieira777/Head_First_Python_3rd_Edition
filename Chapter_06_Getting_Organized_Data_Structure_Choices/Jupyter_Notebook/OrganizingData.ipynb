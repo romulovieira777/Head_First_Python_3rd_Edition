{
 "cells": [
  {
   "cell_type": "code",
   "execution_count": 1,
   "id": "initial_id",
   "metadata": {
    "collapsed": true,
    "ExecuteTime": {
     "end_time": "2024-04-01T12:38:03.177568Z",
     "start_time": "2024-04-01T12:38:03.146842Z"
    }
   },
   "outputs": [],
   "source": [
    "import os\n",
    "import Chapter_04_List_of_Files_Functions_Modules_Files.Python_Code.swimclub as swimclub\n",
    "\n",
    "swim_files = os.listdir(swimclub.FOLDER)\n",
    "#swim_files.remove('.DS_Store')"
   ]
  },
  {
   "cell_type": "code",
   "outputs": [
    {
     "name": "stdout",
     "output_type": "stream",
     "text": [
      "60\n"
     ]
    }
   ],
   "source": [
    "print(len(swim_files))"
   ],
   "metadata": {
    "collapsed": false,
    "ExecuteTime": {
     "end_time": "2024-04-01T12:38:04.781185Z",
     "start_time": "2024-04-01T12:38:04.775207Z"
    }
   },
   "id": "fdb670b0220f790b",
   "execution_count": 2
  },
  {
   "cell_type": "code",
   "outputs": [
    {
     "name": "stdout",
     "output_type": "stream",
     "text": [
      "['Abi', 'Abi', 'Abi', 'Abi', 'Abi', 'Ali', 'Ali', 'Alison', 'Alison', 'Aurora', 'Bill', 'Bill', 'Blake', 'Blake', 'Blake', 'Calvin', 'Calvin', 'Calvin', 'Carl', 'Chris', 'Chris', 'Darius', 'Darius', 'Darius', 'Darius', 'Dave', 'Dave', 'Elba', 'Emma', 'Emma', 'Erika', 'Erika', 'Erika', 'Hannah', 'Hannah', 'Katie', 'Katie', 'Katie', 'Katie', 'Katie', 'Katie', 'Katie', 'Lizzie', 'Lizzie', 'Maria', 'Mike', 'Mike', 'Mike', 'Mike', 'Mike', 'Owen', 'Ruth', 'Ruth', 'Ruth', 'Ruth', 'Ruth', 'Tasmin', 'Tasmin', 'Tasmin', 'Tasmin']\n"
     ]
    }
   ],
   "source": [
    "swimmers = []\n",
    "\n",
    "for file in swim_files:\n",
    "    swimmers.append(swimclub.read_swim_data(file)[0])\n",
    "print(swimmers)"
   ],
   "metadata": {
    "collapsed": false,
    "ExecuteTime": {
     "end_time": "2024-04-01T12:38:05.498688Z",
     "start_time": "2024-04-01T12:38:05.482609Z"
    }
   },
   "id": "2af43d54200a9f81",
   "execution_count": 3
  },
  {
   "cell_type": "code",
   "outputs": [],
   "source": [
    "names = list(set(swimmers))"
   ],
   "metadata": {
    "collapsed": false,
    "ExecuteTime": {
     "end_time": "2024-04-01T12:38:06.014874Z",
     "start_time": "2024-04-01T12:38:06.008181Z"
    }
   },
   "id": "292024eb7682fc0e",
   "execution_count": 4
  },
  {
   "cell_type": "code",
   "outputs": [
    {
     "name": "stdout",
     "output_type": "stream",
     "text": [
      "['Elba', 'Lizzie', 'Maria', 'Erika', 'Aurora', 'Dave', 'Mike', 'Chris', 'Blake', 'Alison', 'Calvin', 'Tasmin', 'Abi', 'Ali', 'Bill', 'Darius', 'Katie', 'Owen', 'Ruth', 'Hannah', 'Emma', 'Carl']\n"
     ]
    }
   ],
   "source": [
    "print(names)"
   ],
   "metadata": {
    "collapsed": false,
    "ExecuteTime": {
     "end_time": "2024-04-01T12:38:06.554572Z",
     "start_time": "2024-04-01T12:38:06.546563Z"
    }
   },
   "id": "9909fc5c376d4aae",
   "execution_count": 5
  },
  {
   "cell_type": "code",
   "outputs": [
    {
     "data": {
      "text/plain": "22"
     },
     "execution_count": 6,
     "metadata": {},
     "output_type": "execute_result"
    }
   ],
   "source": [
    "len(names)"
   ],
   "metadata": {
    "collapsed": false,
    "ExecuteTime": {
     "end_time": "2024-04-01T12:38:07.009318Z",
     "start_time": "2024-04-01T12:38:06.995717Z"
    }
   },
   "id": "45604a63fa208197",
   "execution_count": 6
  },
  {
   "cell_type": "code",
   "outputs": [
    {
     "name": "stdout",
     "output_type": "stream",
     "text": [
      "['Abi', 'Ali', 'Alison', 'Aurora', 'Bill', 'Blake', 'Calvin', 'Carl', 'Chris', 'Darius', 'Dave', 'Elba', 'Emma', 'Erika', 'Hannah', 'Katie', 'Lizzie', 'Maria', 'Mike', 'Owen', 'Ruth', 'Tasmin']\n"
     ]
    }
   ],
   "source": [
    "swimmers = []\n",
    "\n",
    "for file in swim_files:\n",
    "    name = swimclub.read_swim_data(file)[0]\n",
    "    if name not in swimmers:\n",
    "        swimmers.append(name)\n",
    "print(swimmers)"
   ],
   "metadata": {
    "collapsed": false,
    "ExecuteTime": {
     "end_time": "2024-04-01T12:38:07.630991Z",
     "start_time": "2024-04-01T12:38:07.610631Z"
    }
   },
   "id": "f54514cea1071963",
   "execution_count": 7
  },
  {
   "cell_type": "code",
   "outputs": [
    {
     "name": "stdout",
     "output_type": "stream",
     "text": [
      "['Abi', 'Ali', 'Alison', 'Aurora', 'Bill', 'Blake', 'Calvin', 'Carl', 'Chris', 'Darius', 'Dave', 'Elba', 'Emma', 'Erika', 'Hannah', 'Katie', 'Lizzie', 'Maria', 'Mike', 'Owen', 'Ruth', 'Tasmin']\n"
     ]
    }
   ],
   "source": [
    "print(sorted(names))"
   ],
   "metadata": {
    "collapsed": false,
    "ExecuteTime": {
     "end_time": "2024-04-01T12:38:07.994902Z",
     "start_time": "2024-04-01T12:38:07.989523Z"
    }
   },
   "id": "b2439ffcbd857664",
   "execution_count": 8
  },
  {
   "cell_type": "code",
   "outputs": [
    {
     "name": "stdout",
     "output_type": "stream",
     "text": [
      "['Abi', 'Ali', 'Alison', 'Aurora', 'Bill', 'Blake', 'Calvin', 'Carl', 'Chris', 'Darius', 'Dave', 'Elba', 'Emma', 'Erika', 'Hannah', 'Katie', 'Lizzie', 'Maria', 'Mike', 'Owen', 'Ruth', 'Tasmin']\n"
     ]
    }
   ],
   "source": [
    "print(sorted(swimmers))"
   ],
   "metadata": {
    "collapsed": false,
    "ExecuteTime": {
     "end_time": "2024-04-01T12:38:08.521908Z",
     "start_time": "2024-04-01T12:38:08.515327Z"
    }
   },
   "id": "3a4d78e5da72fc3f",
   "execution_count": 9
  },
  {
   "cell_type": "code",
   "outputs": [],
   "source": [
    "swimmers = []\n",
    "\n",
    "for file in swim_files:\n",
    "    swimclub.read_swim_data(file)[0]\n",
    "    swimmers.append((swimclub.read_swim_data(file)[0], file))"
   ],
   "metadata": {
    "collapsed": false,
    "ExecuteTime": {
     "end_time": "2024-04-01T12:38:09.257207Z",
     "start_time": "2024-04-01T12:38:09.219995Z"
    }
   },
   "id": "26c3101e36349b9f",
   "execution_count": 10
  },
  {
   "cell_type": "code",
   "outputs": [
    {
     "data": {
      "text/plain": "60"
     },
     "execution_count": 11,
     "metadata": {},
     "output_type": "execute_result"
    }
   ],
   "source": [
    "len(swimmers)"
   ],
   "metadata": {
    "collapsed": false,
    "ExecuteTime": {
     "end_time": "2024-04-01T12:38:09.989812Z",
     "start_time": "2024-04-01T12:38:09.975676Z"
    }
   },
   "id": "8f0e3965eb5f47a",
   "execution_count": 11
  },
  {
   "cell_type": "code",
   "outputs": [
    {
     "data": {
      "text/plain": "[('Abi', 'Abi-10-100m-Back.txt'),\n ('Abi', 'Abi-10-100m-Breast.txt'),\n ('Abi', 'Abi-10-50m-Back.txt'),\n ('Abi', 'Abi-10-50m-Breast.txt'),\n ('Abi', 'Abi-10-50m-Free.txt')]"
     },
     "execution_count": 12,
     "metadata": {},
     "output_type": "execute_result"
    }
   ],
   "source": [
    "swimmers[:5]"
   ],
   "metadata": {
    "collapsed": false,
    "ExecuteTime": {
     "end_time": "2024-04-01T12:38:10.456553Z",
     "start_time": "2024-04-01T12:38:10.448066Z"
    }
   },
   "id": "5d3dfc53116dace4",
   "execution_count": 12
  },
  {
   "cell_type": "code",
   "outputs": [
    {
     "name": "stdout",
     "output_type": "stream",
     "text": [
      "['Abi', 'Ali', 'Alison', 'Aurora', 'Bill', 'Blake', 'Calvin', 'Carl', 'Chris', 'Darius', 'Dave', 'Elba', 'Emma', 'Erika', 'Hannah', 'Katie', 'Lizzie', 'Maria', 'Mike', 'Owen', 'Ruth', 'Tasmin']\n"
     ]
    }
   ],
   "source": [
    "names = []\n",
    "\n",
    "for row in swimmers:\n",
    "    if row[0] not in names:\n",
    "        names.append(row[0])\n",
    "print(sorted(names))"
   ],
   "metadata": {
    "collapsed": false,
    "ExecuteTime": {
     "end_time": "2024-04-01T12:38:10.989833Z",
     "start_time": "2024-04-01T12:38:10.982599Z"
    }
   },
   "id": "bcc54a9d0371eb3c",
   "execution_count": 13
  },
  {
   "cell_type": "code",
   "outputs": [
    {
     "name": "stdout",
     "output_type": "stream",
     "text": [
      "25 ('Dave', 'Dave-17-100m-Free.txt')\n",
      "26 ('Dave', 'Dave-17-200m-Back.txt')\n"
     ]
    }
   ],
   "source": [
    "for n, event in enumerate(swimmers):\n",
    "    if event[0] == \"Dave\":\n",
    "        print(n, event)"
   ],
   "metadata": {
    "collapsed": false,
    "ExecuteTime": {
     "end_time": "2024-04-01T12:38:11.573546Z",
     "start_time": "2024-04-01T12:38:11.566915Z"
    }
   },
   "id": "603684f185bde5a1",
   "execution_count": 14
  },
  {
   "cell_type": "code",
   "outputs": [],
   "source": [
    "person = {\n",
    "    \"first\": \"Tim\",\n",
    "    \"last\": \"O'Reilly\",\n",
    "}"
   ],
   "metadata": {
    "collapsed": false,
    "ExecuteTime": {
     "end_time": "2024-04-01T12:38:12.044189Z",
     "start_time": "2024-04-01T12:38:12.039356Z"
    }
   },
   "id": "821f3c40d4dd95ec",
   "execution_count": 15
  },
  {
   "cell_type": "code",
   "outputs": [
    {
     "data": {
      "text/plain": "'Tim'"
     },
     "execution_count": 16,
     "metadata": {},
     "output_type": "execute_result"
    }
   ],
   "source": [
    "person[\"first\"]"
   ],
   "metadata": {
    "collapsed": false,
    "ExecuteTime": {
     "end_time": "2024-04-01T12:38:12.854671Z",
     "start_time": "2024-04-01T12:38:12.846025Z"
    }
   },
   "id": "d75dd29f0de0b21c",
   "execution_count": 16
  },
  {
   "cell_type": "code",
   "outputs": [
    {
     "data": {
      "text/plain": "\"O'Reilly\""
     },
     "execution_count": 17,
     "metadata": {},
     "output_type": "execute_result"
    }
   ],
   "source": [
    "person[\"last\"]"
   ],
   "metadata": {
    "collapsed": false,
    "ExecuteTime": {
     "end_time": "2024-04-01T12:38:13.367649Z",
     "start_time": "2024-04-01T12:38:13.362319Z"
    }
   },
   "id": "fdeffa8bbddb5dbc",
   "execution_count": 17
  },
  {
   "cell_type": "code",
   "outputs": [],
   "source": [
    "names = {}"
   ],
   "metadata": {
    "collapsed": false,
    "ExecuteTime": {
     "end_time": "2024-04-01T12:38:13.674285Z",
     "start_time": "2024-04-01T12:38:13.670120Z"
    }
   },
   "id": "6b5d41ad7c6bd7f7",
   "execution_count": 18
  },
  {
   "cell_type": "code",
   "outputs": [],
   "source": [
    "names[\"Dave\"] = \"Dave-17-100m-Free.txt\""
   ],
   "metadata": {
    "collapsed": false,
    "ExecuteTime": {
     "end_time": "2024-04-01T12:38:14.165491Z",
     "start_time": "2024-04-01T12:38:14.160534Z"
    }
   },
   "id": "9ef70f5f0eed9804",
   "execution_count": 19
  },
  {
   "cell_type": "code",
   "outputs": [
    {
     "name": "stdout",
     "output_type": "stream",
     "text": [
      "{'Dave': 'Dave-17-100m-Free.txt'}\n"
     ]
    }
   ],
   "source": [
    "print(names)"
   ],
   "metadata": {
    "collapsed": false,
    "ExecuteTime": {
     "end_time": "2024-04-01T12:38:14.671915Z",
     "start_time": "2024-04-01T12:38:14.665333Z"
    }
   },
   "id": "c641181012b67ed3",
   "execution_count": 20
  },
  {
   "cell_type": "code",
   "outputs": [],
   "source": [
    "swimmers = {}\n",
    "\n",
    "for file in swim_files:\n",
    "    name, *_ = swimclub.read_swim_data(file)\n",
    "    swimmers[name] = []"
   ],
   "metadata": {
    "collapsed": false,
    "ExecuteTime": {
     "end_time": "2024-04-01T12:38:15.248216Z",
     "start_time": "2024-04-01T12:38:15.228681Z"
    }
   },
   "id": "3aba1641d4206561",
   "execution_count": 21
  },
  {
   "cell_type": "code",
   "outputs": [
    {
     "data": {
      "text/plain": "{'Abi': [],\n 'Ali': [],\n 'Alison': [],\n 'Aurora': [],\n 'Bill': [],\n 'Blake': [],\n 'Calvin': [],\n 'Carl': [],\n 'Chris': [],\n 'Darius': [],\n 'Dave': [],\n 'Elba': [],\n 'Emma': [],\n 'Erika': [],\n 'Hannah': [],\n 'Katie': [],\n 'Lizzie': [],\n 'Maria': [],\n 'Mike': [],\n 'Owen': [],\n 'Ruth': [],\n 'Tasmin': []}"
     },
     "execution_count": 22,
     "metadata": {},
     "output_type": "execute_result"
    }
   ],
   "source": [
    "swimmers"
   ],
   "metadata": {
    "collapsed": false,
    "ExecuteTime": {
     "end_time": "2024-04-01T12:38:15.630818Z",
     "start_time": "2024-04-01T12:38:15.621520Z"
    }
   },
   "id": "837b4b927f18285f",
   "execution_count": 22
  },
  {
   "cell_type": "code",
   "outputs": [
    {
     "data": {
      "text/plain": "22"
     },
     "execution_count": 23,
     "metadata": {},
     "output_type": "execute_result"
    }
   ],
   "source": [
    "len((swimmers))"
   ],
   "metadata": {
    "collapsed": false,
    "ExecuteTime": {
     "end_time": "2024-04-01T12:38:16.196062Z",
     "start_time": "2024-04-01T12:38:16.188571Z"
    }
   },
   "id": "fef6de9eeca93f98",
   "execution_count": 23
  },
  {
   "cell_type": "code",
   "outputs": [
    {
     "name": "stdout",
     "output_type": "stream",
     "text": [
      "['Abi', 'Ali', 'Alison', 'Aurora', 'Bill', 'Blake', 'Calvin', 'Carl', 'Chris', 'Darius', 'Dave', 'Elba', 'Emma', 'Erika', 'Hannah', 'Katie', 'Lizzie', 'Maria', 'Mike', 'Owen', 'Ruth', 'Tasmin']\n"
     ]
    }
   ],
   "source": [
    "print(sorted(swimmers))"
   ],
   "metadata": {
    "collapsed": false,
    "ExecuteTime": {
     "end_time": "2024-04-01T12:38:16.697376Z",
     "start_time": "2024-04-01T12:38:16.688097Z"
    }
   },
   "id": "91061e8c9cb09d4d",
   "execution_count": 24
  },
  {
   "cell_type": "code",
   "outputs": [
    {
     "data": {
      "text/plain": "[]"
     },
     "execution_count": 25,
     "metadata": {},
     "output_type": "execute_result"
    }
   ],
   "source": [
    "swimmers[\"Dave\"]"
   ],
   "metadata": {
    "collapsed": false,
    "ExecuteTime": {
     "end_time": "2024-04-01T12:38:17.134100Z",
     "start_time": "2024-04-01T12:38:17.122649Z"
    }
   },
   "id": "b28adc7e8fac7d25",
   "execution_count": 25
  },
  {
   "cell_type": "code",
   "outputs": [
    {
     "name": "stdout",
     "output_type": "stream",
     "text": [
      "['__class__', '__class_getitem__', '__contains__', '__delattr__', '__delitem__', '__dir__', '__doc__', '__eq__', '__format__', '__ge__', '__getattribute__', '__getitem__', '__getstate__', '__gt__', '__hash__', '__init__', '__init_subclass__', '__ior__', '__iter__', '__le__', '__len__', '__lt__', '__ne__', '__new__', '__or__', '__reduce__', '__reduce_ex__', '__repr__', '__reversed__', '__ror__', '__setattr__', '__setitem__', '__sizeof__', '__str__', '__subclasshook__', 'clear', 'copy', 'fromkeys', 'get', 'items', 'keys', 'pop', 'popitem', 'setdefault', 'update', 'values']\n"
     ]
    }
   ],
   "source": [
    "print(dir(swimmers))"
   ],
   "metadata": {
    "collapsed": false,
    "ExecuteTime": {
     "end_time": "2024-04-01T12:38:17.768534Z",
     "start_time": "2024-04-01T12:38:17.760670Z"
    }
   },
   "id": "ba54d132790657bb",
   "execution_count": 26
  },
  {
   "cell_type": "code",
   "outputs": [],
   "source": [
    "swimmers = {}\n",
    "\n",
    "for file in swim_files:\n",
    "    name, *_ = swimclub.read_swim_data(file)\n",
    "    if name not in swimmers:\n",
    "        swimmers[name] = []\n",
    "    swimmers[name].append(file)"
   ],
   "metadata": {
    "collapsed": false,
    "ExecuteTime": {
     "end_time": "2024-04-01T12:38:18.683546Z",
     "start_time": "2024-04-01T12:38:18.662093Z"
    }
   },
   "id": "fa56a04a86c01a89",
   "execution_count": 27
  },
  {
   "cell_type": "code",
   "outputs": [
    {
     "data": {
      "text/plain": "['Dave-17-100m-Free.txt', 'Dave-17-200m-Back.txt']"
     },
     "execution_count": 28,
     "metadata": {},
     "output_type": "execute_result"
    }
   ],
   "source": [
    "swimmers[\"Dave\"]"
   ],
   "metadata": {
    "collapsed": false,
    "ExecuteTime": {
     "end_time": "2024-04-01T12:38:20.538725Z",
     "start_time": "2024-04-01T12:38:20.533008Z"
    }
   },
   "id": "6b0e387f08f8d28c",
   "execution_count": 28
  },
  {
   "cell_type": "code",
   "outputs": [
    {
     "data": {
      "text/plain": "['Darius-13-100m-Back.txt',\n 'Darius-13-100m-Breast.txt',\n 'Darius-13-100m-Fly.txt',\n 'Darius-13-200m-IM.txt']"
     },
     "execution_count": 29,
     "metadata": {},
     "output_type": "execute_result"
    }
   ],
   "source": [
    "swimmers[\"Darius\"]"
   ],
   "metadata": {
    "collapsed": false,
    "ExecuteTime": {
     "end_time": "2024-04-01T12:38:20.988718Z",
     "start_time": "2024-04-01T12:38:20.981844Z"
    }
   },
   "id": "72531490ec526259",
   "execution_count": 29
  },
  {
   "cell_type": "code",
   "outputs": [
    {
     "data": {
      "text/plain": "['Emma-13-100m-Breast.txt', 'Emma-13-100m-Free.txt']"
     },
     "execution_count": 30,
     "metadata": {},
     "output_type": "execute_result"
    }
   ],
   "source": [
    "swimmers[\"Emma\"]"
   ],
   "metadata": {
    "collapsed": false,
    "ExecuteTime": {
     "end_time": "2024-04-01T12:38:21.370039Z",
     "start_time": "2024-04-01T12:38:21.362236Z"
    }
   },
   "id": "5ee750e5fa11e820",
   "execution_count": 30
  },
  {
   "cell_type": "code",
   "outputs": [
    {
     "data": {
      "text/plain": "['Calvin-9-50m-Back.txt', 'Calvin-9-50m-Fly.txt', 'Calvin-9-50m-Free.txt']"
     },
     "execution_count": 31,
     "metadata": {},
     "output_type": "execute_result"
    }
   ],
   "source": [
    "swimmers[\"Calvin\"]"
   ],
   "metadata": {
    "collapsed": false,
    "ExecuteTime": {
     "end_time": "2024-04-01T12:38:21.539174Z",
     "start_time": "2024-04-01T12:38:21.530386Z"
    }
   },
   "id": "32393aade8dfbaee",
   "execution_count": 31
  },
  {
   "cell_type": "code",
   "outputs": [
    {
     "data": {
      "text/plain": "['Katie-9-100m-Back.txt',\n 'Katie-9-100m-Breast.txt',\n 'Katie-9-100m-Free.txt',\n 'Katie-9-50m-Back.txt',\n 'Katie-9-50m-Breast.txt',\n 'Katie-9-50m-Fly.txt',\n 'Katie-9-50m-Free.txt']"
     },
     "execution_count": 32,
     "metadata": {},
     "output_type": "execute_result"
    }
   ],
   "source": [
    "swimmers[\"Katie\"]"
   ],
   "metadata": {
    "collapsed": false,
    "ExecuteTime": {
     "end_time": "2024-04-01T12:38:22.031737Z",
     "start_time": "2024-04-01T12:38:22.022983Z"
    }
   },
   "id": "7635610d30da4e3b",
   "execution_count": 32
  },
  {
   "cell_type": "code",
   "outputs": [
    {
     "data": {
      "text/plain": "{'Abi': ['Abi-10-100m-Back.txt',\n  'Abi-10-100m-Breast.txt',\n  'Abi-10-50m-Back.txt',\n  'Abi-10-50m-Breast.txt',\n  'Abi-10-50m-Free.txt'],\n 'Ali': ['Ali-12-100m-Back.txt', 'Ali-12-100m-Free.txt'],\n 'Alison': ['Alison-14-100m-Breast.txt', 'Alison-14-100m-Free.txt'],\n 'Aurora': ['Aurora-13-50m-Free.txt'],\n 'Bill': ['Bill-18-100m-Back.txt', 'Bill-18-200m-Back.txt'],\n 'Blake': ['Blake-15-100m-Back.txt',\n  'Blake-15-100m-Fly.txt',\n  'Blake-15-100m-Free.txt'],\n 'Calvin': ['Calvin-9-50m-Back.txt',\n  'Calvin-9-50m-Fly.txt',\n  'Calvin-9-50m-Free.txt'],\n 'Carl': ['Carl-15-100m-Back.txt'],\n 'Chris': ['Chris-17-100m-Back.txt', 'Chris-17-100m-Breast.txt'],\n 'Darius': ['Darius-13-100m-Back.txt',\n  'Darius-13-100m-Breast.txt',\n  'Darius-13-100m-Fly.txt',\n  'Darius-13-200m-IM.txt'],\n 'Dave': ['Dave-17-100m-Free.txt', 'Dave-17-200m-Back.txt'],\n 'Elba': ['Elba-14-100m-Free.txt'],\n 'Emma': ['Emma-13-100m-Breast.txt', 'Emma-13-100m-Free.txt'],\n 'Erika': ['Erika-15-100m-Breast.txt',\n  'Erika-15-100m-Free.txt',\n  'Erika-15-200m-Breast.txt'],\n 'Hannah': ['Hannah-13-100m-Back.txt', 'Hannah-13-100m-Free.txt'],\n 'Katie': ['Katie-9-100m-Back.txt',\n  'Katie-9-100m-Breast.txt',\n  'Katie-9-100m-Free.txt',\n  'Katie-9-50m-Back.txt',\n  'Katie-9-50m-Breast.txt',\n  'Katie-9-50m-Fly.txt',\n  'Katie-9-50m-Free.txt'],\n 'Lizzie': ['Lizzie-14-100m-Back.txt', 'Lizzie-14-100m-Free.txt'],\n 'Maria': ['Maria-9-50m-Free.txt'],\n 'Mike': ['Mike-15-100m-Back.txt',\n  'Mike-15-100m-Fly.txt',\n  'Mike-15-100m-Free.txt',\n  'Mike-15-200m-Free.txt',\n  'Mike-15-200m-IM.txt'],\n 'Owen': ['Owen-15-100m-Free.txt'],\n 'Ruth': ['Ruth-13-100m-Back.txt',\n  'Ruth-13-100m-Free.txt',\n  'Ruth-13-200m-Back.txt',\n  'Ruth-13-200m-Free.txt',\n  'Ruth-13-400m-Free.txt'],\n 'Tasmin': ['Tasmin-15-100m-Back.txt',\n  'Tasmin-15-100m-Breast.txt',\n  'Tasmin-15-100m-Free.txt',\n  'Tasmin-15-200m-Breast.txt']}"
     },
     "execution_count": 33,
     "metadata": {},
     "output_type": "execute_result"
    }
   ],
   "source": [
    "swimmers"
   ],
   "metadata": {
    "collapsed": false,
    "ExecuteTime": {
     "end_time": "2024-04-01T12:38:22.208066Z",
     "start_time": "2024-04-01T12:38:22.196682Z"
    }
   },
   "id": "be8520f624326fcf",
   "execution_count": 33
  },
  {
   "cell_type": "code",
   "outputs": [
    {
     "name": "stdout",
     "output_type": "stream",
     "text": [
      "{'Abi': ['Abi-10-100m-Back.txt',\n",
      "         'Abi-10-100m-Breast.txt',\n",
      "         'Abi-10-50m-Back.txt',\n",
      "         'Abi-10-50m-Breast.txt',\n",
      "         'Abi-10-50m-Free.txt'],\n",
      " 'Ali': ['Ali-12-100m-Back.txt', 'Ali-12-100m-Free.txt'],\n",
      " 'Alison': ['Alison-14-100m-Breast.txt', 'Alison-14-100m-Free.txt'],\n",
      " 'Aurora': ['Aurora-13-50m-Free.txt'],\n",
      " 'Bill': ['Bill-18-100m-Back.txt', 'Bill-18-200m-Back.txt'],\n",
      " 'Blake': ['Blake-15-100m-Back.txt',\n",
      "           'Blake-15-100m-Fly.txt',\n",
      "           'Blake-15-100m-Free.txt'],\n",
      " 'Calvin': ['Calvin-9-50m-Back.txt',\n",
      "            'Calvin-9-50m-Fly.txt',\n",
      "            'Calvin-9-50m-Free.txt'],\n",
      " 'Carl': ['Carl-15-100m-Back.txt'],\n",
      " 'Chris': ['Chris-17-100m-Back.txt', 'Chris-17-100m-Breast.txt'],\n",
      " 'Darius': ['Darius-13-100m-Back.txt',\n",
      "            'Darius-13-100m-Breast.txt',\n",
      "            'Darius-13-100m-Fly.txt',\n",
      "            'Darius-13-200m-IM.txt'],\n",
      " 'Dave': ['Dave-17-100m-Free.txt', 'Dave-17-200m-Back.txt'],\n",
      " 'Elba': ['Elba-14-100m-Free.txt'],\n",
      " 'Emma': ['Emma-13-100m-Breast.txt', 'Emma-13-100m-Free.txt'],\n",
      " 'Erika': ['Erika-15-100m-Breast.txt',\n",
      "           'Erika-15-100m-Free.txt',\n",
      "           'Erika-15-200m-Breast.txt'],\n",
      " 'Hannah': ['Hannah-13-100m-Back.txt', 'Hannah-13-100m-Free.txt'],\n",
      " 'Katie': ['Katie-9-100m-Back.txt',\n",
      "           'Katie-9-100m-Breast.txt',\n",
      "           'Katie-9-100m-Free.txt',\n",
      "           'Katie-9-50m-Back.txt',\n",
      "           'Katie-9-50m-Breast.txt',\n",
      "           'Katie-9-50m-Fly.txt',\n",
      "           'Katie-9-50m-Free.txt'],\n",
      " 'Lizzie': ['Lizzie-14-100m-Back.txt', 'Lizzie-14-100m-Free.txt'],\n",
      " 'Maria': ['Maria-9-50m-Free.txt'],\n",
      " 'Mike': ['Mike-15-100m-Back.txt',\n",
      "          'Mike-15-100m-Fly.txt',\n",
      "          'Mike-15-100m-Free.txt',\n",
      "          'Mike-15-200m-Free.txt',\n",
      "          'Mike-15-200m-IM.txt'],\n",
      " 'Owen': ['Owen-15-100m-Free.txt'],\n",
      " 'Ruth': ['Ruth-13-100m-Back.txt',\n",
      "          'Ruth-13-100m-Free.txt',\n",
      "          'Ruth-13-200m-Back.txt',\n",
      "          'Ruth-13-200m-Free.txt',\n",
      "          'Ruth-13-400m-Free.txt'],\n",
      " 'Tasmin': ['Tasmin-15-100m-Back.txt',\n",
      "            'Tasmin-15-100m-Breast.txt',\n",
      "            'Tasmin-15-100m-Free.txt',\n",
      "            'Tasmin-15-200m-Breast.txt']}\n"
     ]
    }
   ],
   "source": [
    "import pprint\n",
    "\n",
    "pprint.pprint(swimmers)"
   ],
   "metadata": {
    "collapsed": false,
    "ExecuteTime": {
     "end_time": "2024-04-01T12:38:23.029111Z",
     "start_time": "2024-04-01T12:38:23.019636Z"
    }
   },
   "id": "52b6d61660ca7a87",
   "execution_count": 34
  },
  {
   "cell_type": "code",
   "outputs": [],
   "source": [
    "import webbrowser\n",
    "\n",
    "for fname in swimmers[\"Calvin\"]:\n",
    "    webbrowser.open(\"file://\" + os.path.realpath(swimclub.produce_bar_chart(fname)))"
   ],
   "metadata": {
    "collapsed": false,
    "ExecuteTime": {
     "end_time": "2024-04-01T12:38:39.890744Z",
     "start_time": "2024-04-01T12:38:39.200548Z"
    }
   },
   "id": "1a6cc516254f148b",
   "execution_count": 35
  }
 ],
 "metadata": {
  "kernelspec": {
   "display_name": "Python 3",
   "language": "python",
   "name": "python3"
  },
  "language_info": {
   "codemirror_mode": {
    "name": "ipython",
    "version": 2
   },
   "file_extension": ".py",
   "mimetype": "text/x-python",
   "name": "python",
   "nbconvert_exporter": "python",
   "pygments_lexer": "ipython2",
   "version": "2.7.6"
  }
 },
 "nbformat": 4,
 "nbformat_minor": 5
}
