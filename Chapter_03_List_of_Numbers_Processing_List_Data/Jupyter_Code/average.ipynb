{
 "cells": [
  {
   "cell_type": "code",
   "execution_count": 1,
   "id": "initial_id",
   "metadata": {
    "ExecuteTime": {
     "end_time": "2024-03-12T12:31:24.330809Z",
     "start_time": "2024-03-12T12:31:24.325071Z"
    },
    "collapsed": true
   },
   "outputs": [],
   "source": [
    "FN = \"Darius-13-100m-Fly.txt\""
   ]
  },
  {
   "cell_type": "code",
   "execution_count": 2,
   "id": "30b3e45d61a56528",
   "metadata": {
    "ExecuteTime": {
     "end_time": "2024-03-12T12:31:24.338776Z",
     "start_time": "2024-03-12T12:31:24.333523Z"
    },
    "collapsed": false
   },
   "outputs": [],
   "source": [
    "FOLDER = \"../swimdata\""
   ]
  },
  {
   "cell_type": "code",
   "execution_count": 3,
   "id": "d2be7096f9c7f867",
   "metadata": {
    "ExecuteTime": {
     "end_time": "2024-03-12T12:31:24.354462Z",
     "start_time": "2024-03-12T12:31:24.340244Z"
    },
    "collapsed": false
   },
   "outputs": [],
   "source": [
    "with open(FOLDER + \"/\" + FN) as file:\n",
    "    lines = file.readlines()"
   ]
  },
  {
   "cell_type": "code",
   "execution_count": 4,
   "id": "c91121936af9c202",
   "metadata": {
    "ExecuteTime": {
     "end_time": "2024-03-12T12:32:38.028709Z",
     "start_time": "2024-03-12T12:32:38.020651Z"
    },
    "collapsed": false
   },
   "outputs": [
    {
     "data": {
      "text/plain": [
       "_io.TextIOWrapper"
      ]
     },
     "execution_count": 4,
     "metadata": {},
     "output_type": "execute_result"
    }
   ],
   "source": [
    "type(file)"
   ]
  },
  {
   "cell_type": "code",
   "execution_count": 5,
   "id": "1102ac2f9bfe2886",
   "metadata": {
    "ExecuteTime": {
     "end_time": "2024-03-12T12:33:06.730516Z",
     "start_time": "2024-03-12T12:33:06.724532Z"
    },
    "collapsed": false
   },
   "outputs": [
    {
     "name": "stdout",
     "output_type": "stream",
     "text": [
      "['_CHUNK_SIZE', '__class__', '__del__', '__delattr__', '__dict__', '__dir__', '__doc__', '__enter__', '__eq__', '__exit__', '__format__', '__ge__', '__getattribute__', '__getstate__', '__gt__', '__hash__', '__init__', '__init_subclass__', '__iter__', '__le__', '__lt__', '__module__', '__ne__', '__new__', '__next__', '__reduce__', '__reduce_ex__', '__repr__', '__setattr__', '__sizeof__', '__str__', '__subclasshook__', '_checkClosed', '_checkReadable', '_checkSeekable', '_checkWritable', '_finalizing', 'buffer', 'close', 'closed', 'detach', 'encoding', 'errors', 'fileno', 'flush', 'isatty', 'line_buffering', 'mode', 'name', 'newlines', 'read', 'readable', 'readline', 'readlines', 'reconfigure', 'seek', 'seekable', 'tell', 'truncate', 'writable', 'write', 'write_through', 'writelines']\n"
     ]
    }
   ],
   "source": [
    "print(dir(file))"
   ]
  },
  {
   "cell_type": "code",
   "execution_count": 6,
   "id": "4c41f3d5086af835",
   "metadata": {
    "ExecuteTime": {
     "end_time": "2024-03-12T12:33:53.927524Z",
     "start_time": "2024-03-12T12:33:53.921333Z"
    },
    "collapsed": false
   },
   "outputs": [
    {
     "data": {
      "text/plain": [
       "list"
      ]
     },
     "execution_count": 6,
     "metadata": {},
     "output_type": "execute_result"
    }
   ],
   "source": [
    "type(lines)"
   ]
  },
  {
   "cell_type": "code",
   "execution_count": 7,
   "id": "441cc7cedb52dccf",
   "metadata": {
    "ExecuteTime": {
     "end_time": "2024-03-12T12:34:35.152958Z",
     "start_time": "2024-03-12T12:34:35.147114Z"
    },
    "collapsed": false
   },
   "outputs": [
    {
     "data": {
      "text/plain": [
       "['1:27.95,1:21.07,1:30.96,1:23.22,1:27.95,1:28.30\\n']"
      ]
     },
     "execution_count": 7,
     "metadata": {},
     "output_type": "execute_result"
    }
   ],
   "source": [
    "lines"
   ]
  },
  {
   "cell_type": "code",
   "execution_count": 8,
   "id": "9bbda9f6628e513e",
   "metadata": {
    "ExecuteTime": {
     "end_time": "2024-03-12T12:35:09.360882Z",
     "start_time": "2024-03-12T12:35:09.354474Z"
    },
    "collapsed": false
   },
   "outputs": [
    {
     "data": {
      "text/plain": [
       "'1:27.95,1:21.07,1:30.96,1:23.22,1:27.95,1:28.30\\n'"
      ]
     },
     "execution_count": 8,
     "metadata": {},
     "output_type": "execute_result"
    }
   ],
   "source": [
    "lines[0]"
   ]
  },
  {
   "cell_type": "code",
   "execution_count": 9,
   "id": "2df3346c25af0601",
   "metadata": {
    "ExecuteTime": {
     "end_time": "2024-03-12T12:35:21.753580Z",
     "start_time": "2024-03-12T12:35:21.747175Z"
    },
    "collapsed": false
   },
   "outputs": [
    {
     "data": {
      "text/plain": [
       "str"
      ]
     },
     "execution_count": 9,
     "metadata": {},
     "output_type": "execute_result"
    }
   ],
   "source": [
    "type(lines[0])"
   ]
  },
  {
   "cell_type": "code",
   "execution_count": 10,
   "id": "c1f5b95f",
   "metadata": {},
   "outputs": [
    {
     "data": {
      "text/plain": [
       "['1:27.95', '1:21.07', '1:30.96', '1:23.22', '1:27.95', '1:28.30']"
      ]
     },
     "execution_count": 10,
     "metadata": {},
     "output_type": "execute_result"
    }
   ],
   "source": [
    "lines[0].strip().split(\",\")"
   ]
  },
  {
   "cell_type": "code",
   "execution_count": 11,
   "id": "001726eb",
   "metadata": {},
   "outputs": [],
   "source": [
    "times = lines[0].strip().split(\",\")"
   ]
  },
  {
   "cell_type": "code",
   "execution_count": 12,
   "id": "e93f77ba",
   "metadata": {},
   "outputs": [
    {
     "data": {
      "text/plain": [
       "['1:27.95', '1:21.07', '1:30.96', '1:23.22', '1:27.95', '1:28.30']"
      ]
     },
     "execution_count": 12,
     "metadata": {},
     "output_type": "execute_result"
    }
   ],
   "source": [
    "times"
   ]
  },
  {
   "cell_type": "code",
   "execution_count": 13,
   "id": "4c645586",
   "metadata": {},
   "outputs": [
    {
     "name": "stdout",
     "output_type": "stream",
     "text": [
      "8795\n"
     ]
    }
   ],
   "source": [
    "# Start with the string.\n",
    "first = times[0]\n",
    "\n",
    "# Extract the component parts: start with the minutes value.\n",
    "minutes, rest = first.split(\":\")\n",
    "\n",
    "# Extract the component parts: grab the seconds and hundredths values.\n",
    "seconds, hundredths = rest.split(\".\")\n",
    "\n",
    "# Convert the strings to numbers with the help of another BIF called\n",
    "# \"int\", then perform the calculation.\n",
    "converted_time = (int(minutes) * 60 * 100) + (int(seconds) * 100) + int(hundredths)\n",
    "\n",
    "# Display the result.\n",
    "print(converted_time)"
   ]
  },
  {
   "cell_type": "code",
   "execution_count": 14,
   "id": "f7737c23",
   "metadata": {},
   "outputs": [
    {
     "name": "stdout",
     "output_type": "stream",
     "text": [
      "1:27.95\n",
      "1:21.07\n",
      "1:30.96\n",
      "1:23.22\n",
      "1:27.95\n",
      "1:28.30\n"
     ]
    }
   ],
   "source": [
    "for t in times:\n",
    "    print(t)"
   ]
  },
  {
   "cell_type": "code",
   "execution_count": 15,
   "id": "bb7c5111",
   "metadata": {},
   "outputs": [
    {
     "name": "stdout",
     "output_type": "stream",
     "text": [
      "1:27.95\n",
      "1:21.07\n",
      "1:30.96\n",
      "1:23.22\n",
      "1:27.95\n",
      "1:28.30\n"
     ]
    }
   ],
   "source": [
    "i = 0\n",
    "\n",
    "while i< len(times):\n",
    "    print(times[i])\n",
    "    i += 1"
   ]
  },
  {
   "cell_type": "code",
   "execution_count": 16,
   "id": "294f8417",
   "metadata": {},
   "outputs": [
    {
     "name": "stdout",
     "output_type": "stream",
     "text": [
      "8795\n",
      "8107\n",
      "9096\n",
      "8322\n",
      "8795\n",
      "8830\n"
     ]
    }
   ],
   "source": [
    "for time in times:\n",
    "    minutes, rest = time.split(\":\")\n",
    "    seconds, hundredths = rest.split(\".\")\n",
    "    print(time, \"->\", (int(minutes) * 60 * 100) + (int(seconds) * 100) + int(hundredths))"
   ]
  },
  {
   "cell_type": "code",
   "execution_count": 17,
   "id": "8243e3b5",
   "metadata": {},
   "outputs": [],
   "source": [
    "converts = []"
   ]
  },
  {
   "cell_type": "code",
   "execution_count": 18,
   "id": "8cfb34db",
   "metadata": {},
   "outputs": [
    {
     "data": {
      "text/plain": [
       "list"
      ]
     },
     "execution_count": 18,
     "metadata": {},
     "output_type": "execute_result"
    }
   ],
   "source": [
    "type(converts)"
   ]
  },
  {
   "cell_type": "code",
   "execution_count": 19,
   "id": "3277920d",
   "metadata": {},
   "outputs": [
    {
     "data": {
      "text/plain": [
       "0"
      ]
     },
     "execution_count": 19,
     "metadata": {},
     "output_type": "execute_result"
    }
   ],
   "source": [
    "len(converts)"
   ]
  },
  {
   "cell_type": "code",
   "execution_count": 20,
   "id": "8a1bb7c5",
   "metadata": {},
   "outputs": [
    {
     "name": "stdout",
     "output_type": "stream",
     "text": [
      "['__add__', '__class__', '__class_getitem__', '__contains__', '__delattr__', '__delitem__', '__dir__', '__doc__', '__eq__', '__format__', '__ge__', '__getattribute__', '__getitem__', '__getstate__', '__gt__', '__hash__', '__iadd__', '__imul__', '__init__', '__init_subclass__', '__iter__', '__le__', '__len__', '__lt__', '__mul__', '__ne__', '__new__', '__reduce__', '__reduce_ex__', '__repr__', '__reversed__', '__rmul__', '__setattr__', '__setitem__', '__sizeof__', '__str__', '__subclasshook__', 'append', 'clear', 'copy', 'count', 'extend', 'index', 'insert', 'pop', 'remove', 'reverse', 'sort']\n"
     ]
    }
   ],
   "source": [
    "print(dir(converts))"
   ]
  },
  {
   "cell_type": "code",
   "execution_count": 21,
   "id": "cd46f555",
   "metadata": {},
   "outputs": [
    {
     "name": "stdout",
     "output_type": "stream",
     "text": [
      "Help on built-in function append:\n",
      "\n",
      "append(object, /) method of builtins.list instance\n",
      "    Append object to the end of the list.\n",
      "\n"
     ]
    }
   ],
   "source": [
    "help(converts.append)"
   ]
  },
  {
   "cell_type": "code",
   "execution_count": 22,
   "id": "e03a9366",
   "metadata": {},
   "outputs": [
    {
     "name": "stdout",
     "output_type": "stream",
     "text": [
      "[8795, 8107, 9096, 8322, 8795, 8830]\n"
     ]
    }
   ],
   "source": [
    "converts = []\n",
    "\n",
    "for time in times:\n",
    "    minutes, rest = time.split(\":\")\n",
    "    seconds, hundredths = rest.split(\".\")\n",
    "    converts.append((int(minutes) * 60 * 100) + (int(seconds) * 100) + int(hundredths))"
   ]
  },
  {
   "cell_type": "code",
   "execution_count": 23,
   "id": "c070ee3f",
   "metadata": {},
   "outputs": [
    {
     "data": {
      "text/plain": [
       "['1:27.95', '1:21.07', '1:30.96', '1:23.22', '1:27.95', '1:28.30']"
      ]
     },
     "execution_count": 23,
     "metadata": {},
     "output_type": "execute_result"
    }
   ],
   "source": [
    "times"
   ]
  },
  {
   "cell_type": "code",
   "execution_count": 24,
   "id": "f44ac787",
   "metadata": {},
   "outputs": [
    {
     "data": {
      "text/plain": [
       "[8795, 8107, 9096, 8322, 8795, 8830]"
      ]
     },
     "execution_count": 24,
     "metadata": {},
     "output_type": "execute_result"
    }
   ],
   "source": [
    "converts"
   ]
  },
  {
   "cell_type": "code",
   "execution_count": 25,
   "id": "d09d1c95",
   "metadata": {},
   "outputs": [
    {
     "data": {
      "text/plain": [
       "8657.5"
      ]
     },
     "execution_count": 25,
     "metadata": {},
     "output_type": "execute_result"
    }
   ],
   "source": [
    "import statistics\n",
    "\n",
    "\n",
    "statistics.mean(converts)"
   ]
  },
  {
   "cell_type": "code",
   "execution_count": 26,
   "id": "8317225c",
   "metadata": {},
   "outputs": [],
   "source": [
    "average = statistics.mean(converts)"
   ]
  },
  {
   "cell_type": "code",
   "execution_count": 27,
   "id": "bd07b681",
   "metadata": {},
   "outputs": [
    {
     "data": {
      "text/plain": [
       "86.575"
      ]
     },
     "execution_count": 27,
     "metadata": {},
     "output_type": "execute_result"
    }
   ],
   "source": [
    "average / 100"
   ]
  },
  {
   "cell_type": "code",
   "execution_count": 28,
   "id": "72c521d3",
   "metadata": {},
   "outputs": [
    {
     "data": {
      "text/plain": [
       "86.58"
      ]
     },
     "execution_count": 28,
     "metadata": {},
     "output_type": "execute_result"
    }
   ],
   "source": [
    "round(average / 100, 2)"
   ]
  },
  {
   "cell_type": "code",
   "execution_count": 29,
   "id": "45d3b3e3",
   "metadata": {},
   "outputs": [
    {
     "data": {
      "text/plain": [
       "['86', '58']"
      ]
     },
     "execution_count": 29,
     "metadata": {},
     "output_type": "execute_result"
    }
   ],
   "source": [
    "str(round(average / 100, 2)).split(\".\")"
   ]
  },
  {
   "cell_type": "code",
   "execution_count": 30,
   "id": "faa788c7",
   "metadata": {},
   "outputs": [],
   "source": [
    "mins_secs, hundredths = str(round(average / 100, 2)).split(\".\")"
   ]
  },
  {
   "cell_type": "code",
   "execution_count": 31,
   "id": "1be615df",
   "metadata": {},
   "outputs": [],
   "source": [
    "mins_secs = int(mins_secs)"
   ]
  },
  {
   "cell_type": "code",
   "execution_count": 32,
   "id": "411a4790",
   "metadata": {},
   "outputs": [],
   "source": [
    "minutes = mins_secs // 60"
   ]
  },
  {
   "cell_type": "code",
   "execution_count": 33,
   "id": "ef48a311",
   "metadata": {},
   "outputs": [
    {
     "data": {
      "text/plain": [
       "1"
      ]
     },
     "execution_count": 33,
     "metadata": {},
     "output_type": "execute_result"
    }
   ],
   "source": [
    "minutes"
   ]
  },
  {
   "cell_type": "code",
   "execution_count": 34,
   "id": "610cd66c",
   "metadata": {},
   "outputs": [],
   "source": [
    "seconds = mins_secs - minutes * 60"
   ]
  },
  {
   "cell_type": "code",
   "execution_count": 35,
   "id": "2c494eef",
   "metadata": {},
   "outputs": [
    {
     "data": {
      "text/plain": [
       "26"
      ]
     },
     "execution_count": 35,
     "metadata": {},
     "output_type": "execute_result"
    }
   ],
   "source": [
    "seconds"
   ]
  },
  {
   "cell_type": "code",
   "execution_count": 36,
   "id": "c779331a",
   "metadata": {},
   "outputs": [
    {
     "data": {
      "text/plain": [
       "(1, 26, '58')"
      ]
     },
     "execution_count": 36,
     "metadata": {},
     "output_type": "execute_result"
    }
   ],
   "source": [
    "minutes, seconds, hundredths"
   ]
  },
  {
   "cell_type": "code",
   "execution_count": 37,
   "id": "2f692e3e",
   "metadata": {},
   "outputs": [
    {
     "data": {
      "text/plain": [
       "'1:26.58'"
      ]
     },
     "execution_count": 37,
     "metadata": {},
     "output_type": "execute_result"
    }
   ],
   "source": [
    "str(minutes) + \":\" + str(seconds) + \".\" + hundredths"
   ]
  },
  {
   "cell_type": "code",
   "execution_count": 38,
   "id": "d43b6ab7",
   "metadata": {},
   "outputs": [],
   "source": [
    "average = str(minutes) + \":\" + str(seconds) + \".\" + hundredths"
   ]
  },
  {
   "cell_type": "code",
   "execution_count": 39,
   "id": "2053bb09",
   "metadata": {},
   "outputs": [
    {
     "data": {
      "text/plain": [
       "'1:26.58'"
      ]
     },
     "execution_count": 39,
     "metadata": {},
     "output_type": "execute_result"
    }
   ],
   "source": [
    "average"
   ]
  }
 ],
 "metadata": {
  "kernelspec": {
   "display_name": "Python 3",
   "language": "python",
   "name": "python3"
  },
  "language_info": {
   "codemirror_mode": {
    "name": "ipython",
    "version": 3
   },
   "file_extension": ".py",
   "mimetype": "text/x-python",
   "name": "python",
   "nbconvert_exporter": "python",
   "pygments_lexer": "ipython3",
   "version": "3.12.1"
  }
 },
 "nbformat": 4,
 "nbformat_minor": 5
}
