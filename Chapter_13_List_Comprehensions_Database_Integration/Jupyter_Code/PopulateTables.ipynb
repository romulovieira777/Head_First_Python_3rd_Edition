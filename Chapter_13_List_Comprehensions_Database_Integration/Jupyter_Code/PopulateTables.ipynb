{
 "cells": [
  {
   "cell_type": "code",
   "id": "initial_id",
   "metadata": {
    "collapsed": true,
    "ExecuteTime": {
     "end_time": "2024-04-26T12:30:05.234153Z",
     "start_time": "2024-04-26T12:30:05.229586Z"
    }
   },
   "source": [
    "fn = 'Abi-10-100m-Back.txt'\n",
    "name, age, distance, stroke = fn.removesuffix('.txt').split('-')"
   ],
   "outputs": [],
   "execution_count": 1
  },
  {
   "metadata": {
    "ExecuteTime": {
     "end_time": "2024-04-26T12:30:06.088319Z",
     "start_time": "2024-04-26T12:30:06.077974Z"
    }
   },
   "cell_type": "code",
   "source": "name, age",
   "id": "20099e4c77182747",
   "outputs": [
    {
     "data": {
      "text/plain": [
       "('Abi', '10')"
      ]
     },
     "execution_count": 2,
     "metadata": {},
     "output_type": "execute_result"
    }
   ],
   "execution_count": 2
  },
  {
   "metadata": {
    "ExecuteTime": {
     "end_time": "2024-04-26T12:30:06.677880Z",
     "start_time": "2024-04-26T12:30:06.671287Z"
    }
   },
   "cell_type": "code",
   "source": "distance, stroke",
   "id": "2b0db46da2c16f61",
   "outputs": [
    {
     "data": {
      "text/plain": [
       "('100m', 'Back')"
      ]
     },
     "execution_count": 3,
     "metadata": {},
     "output_type": "execute_result"
    }
   ],
   "execution_count": 3
  },
  {
   "metadata": {
    "ExecuteTime": {
     "end_time": "2024-04-26T12:30:07.264556Z",
     "start_time": "2024-04-26T12:30:07.259237Z"
    }
   },
   "cell_type": "code",
   "source": [
    "import os\n",
    "\n",
    "\n",
    "FOLDER = \"../swimdata/\"\n",
    "\n",
    "files = os.listdir(FOLDER)\n",
    "# files.remove('.DS_Store')"
   ],
   "id": "dc657ebf27b4a172",
   "outputs": [],
   "execution_count": 4
  },
  {
   "metadata": {
    "ExecuteTime": {
     "end_time": "2024-04-26T12:30:08.345557Z",
     "start_time": "2024-04-26T12:30:08.336895Z"
    }
   },
   "cell_type": "code",
   "source": [
    "first = files[0]\n",
    "print(first)\n",
    "\n",
    "name, age, _, _ = first.removesuffix('.txt').split('-')\n",
    "name, age"
   ],
   "id": "3fcb5349251b1637",
   "outputs": [
    {
     "name": "stdout",
     "output_type": "stream",
     "text": [
      "Abi-10-100m-Back.txt\n"
     ]
    },
    {
     "data": {
      "text/plain": [
       "('Abi', '10')"
      ]
     },
     "execution_count": 5,
     "metadata": {},
     "output_type": "execute_result"
    }
   ],
   "execution_count": 5
  },
  {
   "metadata": {
    "ExecuteTime": {
     "end_time": "2024-04-26T12:30:09.517562Z",
     "start_time": "2024-04-26T12:30:09.511823Z"
    }
   },
   "cell_type": "code",
   "source": [
    "# Don't be tempted to do this (i.e., don't use an f-string here).\n",
    "SQL = f\"\"\"\n",
    "    INSERT INTO swimmers (name, age) VALUES ('{name}', {age});\n",
    "\"\"\"\n",
    "\n",
    "print(SQL)"
   ],
   "id": "5bbe41fd4b5f4365",
   "outputs": [
    {
     "name": "stdout",
     "output_type": "stream",
     "text": [
      "\n",
      "    INSERT INTO swimmers (name, age) VALUES ('Abi', 10);\n",
      "\n"
     ]
    }
   ],
   "execution_count": 6
  },
  {
   "metadata": {
    "ExecuteTime": {
     "end_time": "2024-04-26T12:30:10.632608Z",
     "start_time": "2024-04-26T12:30:10.501781Z"
    }
   },
   "cell_type": "code",
   "source": [
    "import DBcm\n",
    "\n",
    "\n",
    "db_details = \"CoachDB.sqlite3\""
   ],
   "id": "e687a8c8e1a1c511",
   "outputs": [],
   "execution_count": 7
  },
  {
   "metadata": {
    "ExecuteTime": {
     "end_time": "2024-04-26T12:30:11.495440Z",
     "start_time": "2024-04-26T12:30:11.490221Z"
    }
   },
   "cell_type": "code",
   "source": [
    "SQL_INSERT = \"\"\"\n",
    "    INSERT INTO swimmers (name, age) VALUES (?, ?);\n",
    "\"\"\"\n",
    "\n",
    "print(SQL_INSERT)"
   ],
   "id": "599d10eacccb32dd",
   "outputs": [
    {
     "name": "stdout",
     "output_type": "stream",
     "text": [
      "\n",
      "    INSERT INTO swimmers (name, age) VALUES (?, ?);\n",
      "\n"
     ]
    }
   ],
   "execution_count": 8
  },
  {
   "metadata": {
    "ExecuteTime": {
     "end_time": "2024-04-26T12:30:12.788430Z",
     "start_time": "2024-04-26T12:30:12.603157Z"
    }
   },
   "cell_type": "code",
   "source": [
    "with DBcm.UseDatabase(db_details) as db:\n",
    "    db.execute(SQL_INSERT, (name, age,))"
   ],
   "id": "44156985231d7627",
   "outputs": [],
   "execution_count": 9
  },
  {
   "metadata": {
    "ExecuteTime": {
     "end_time": "2024-04-26T12:30:16.906452Z",
     "start_time": "2024-04-26T12:30:16.895437Z"
    }
   },
   "cell_type": "code",
   "source": [
    "SQL = \"\"\"\n",
    "    SELECT * FROM swimmers\n",
    "\"\"\"\n",
    "\n",
    "with DBcm.UseDatabase(db_details) as db:\n",
    "    db.execute(SQL)\n",
    "    results = db.fetchall()\n",
    "\n",
    "results"
   ],
   "id": "e77fb88e36823f79",
   "outputs": [
    {
     "data": {
      "text/plain": [
       "[(1, 'Abi', 10)]"
      ]
     },
     "execution_count": 10,
     "metadata": {},
     "output_type": "execute_result"
    }
   ],
   "execution_count": 10
  },
  {
   "metadata": {
    "ExecuteTime": {
     "end_time": "2024-04-26T12:30:17.738221Z",
     "start_time": "2024-04-26T12:30:17.483081Z"
    }
   },
   "cell_type": "code",
   "source": [
    "SQL = \"\"\"\n",
    "    DELETE FROM swimmers\n",
    "\"\"\"\n",
    "\n",
    "with DBcm.UseDatabase(db_details) as db:\n",
    "    db.execute(SQL)"
   ],
   "id": "e0d327927d3f2157",
   "outputs": [],
   "execution_count": 11
  },
  {
   "metadata": {
    "ExecuteTime": {
     "end_time": "2024-04-26T12:30:18.542205Z",
     "start_time": "2024-04-26T12:30:18.535314Z"
    }
   },
   "cell_type": "code",
   "source": [
    "SQL = \"\"\"\n",
    "    SELECT * FROM swimmers\n",
    "\"\"\"\n",
    "\n",
    "with DBcm.UseDatabase(db_details) as db:\n",
    "    db.execute(SQL)\n",
    "    results = db.fetchall()\n",
    "\n",
    "results"
   ],
   "id": "f94a7b24731e9579",
   "outputs": [
    {
     "data": {
      "text/plain": [
       "[]"
      ]
     },
     "execution_count": 12,
     "metadata": {},
     "output_type": "execute_result"
    }
   ],
   "execution_count": 12
  },
  {
   "metadata": {
    "ExecuteTime": {
     "end_time": "2024-04-26T12:30:20.002608Z",
     "start_time": "2024-04-26T12:30:19.739394Z"
    }
   },
   "cell_type": "code",
   "source": [
    "SQL = \"\"\"\n",
    "    DELETE FROM swimmers\n",
    "\"\"\"\n",
    "\n",
    "with DBcm.UseDatabase(db_details) as db:\n",
    "    db.execute(SQL)"
   ],
   "id": "6bf377491e057143",
   "outputs": [],
   "execution_count": 13
  },
  {
   "metadata": {
    "ExecuteTime": {
     "end_time": "2024-04-26T12:30:21.074613Z",
     "start_time": "2024-04-26T12:30:20.571892Z"
    }
   },
   "cell_type": "code",
   "source": [
    "import os\n",
    "import DBcm\n",
    "\n",
    "\n",
    "db_details = \"CoachDB.sqlite3\"\n",
    "\n",
    "FOLDER = \"../swimdata/\"\n",
    "\n",
    "files = os.listdir(FOLDER)\n",
    "# files.remove('.DS_Store')\n",
    "\n",
    "SQL_INSERT = \"\"\"\n",
    "    INSERT INTO swimmers (name, age) VALUES (?, ?);\n",
    "\"\"\"\n",
    "\n",
    "with DBcm.UseDatabase(db_details) as db:\n",
    "    for fn in files:\n",
    "        name, age, _, _ = fn.removesuffix('.txt').split('-')\n",
    "        db.execute(SQL_INSERT, (name, age,))"
   ],
   "id": "4f7cbce39e1d1b3a",
   "outputs": [],
   "execution_count": 14
  },
  {
   "metadata": {
    "ExecuteTime": {
     "end_time": "2024-04-26T12:30:22.119089Z",
     "start_time": "2024-04-26T12:30:21.712532Z"
    }
   },
   "cell_type": "code",
   "source": [
    "SQL = \"\"\"\n",
    "    DELETE FROM swimmers\n",
    "\"\"\"\n",
    "\n",
    "with DBcm.UseDatabase(db_details) as db:\n",
    "    db.execute(SQL)"
   ],
   "id": "e631a9d4f94dceb3",
   "outputs": [],
   "execution_count": 15
  },
  {
   "metadata": {
    "ExecuteTime": {
     "end_time": "2024-04-26T12:30:23.071086Z",
     "start_time": "2024-04-26T12:30:22.706748Z"
    }
   },
   "cell_type": "code",
   "source": [
    "import os\n",
    "import DBcm\n",
    "\n",
    "\n",
    "db_details = \"CoachDB.sqlite3\"\n",
    "\n",
    "FOLDER = \"../swimdata/\"\n",
    "\n",
    "files = os.listdir(FOLDER)\n",
    "# files.remove('.DS_Store')\n",
    "\n",
    "SQL_SELECT = \"\"\"\n",
    "    SELECT * FROM swimmers WHERE name = ? and age = ?;\n",
    "\"\"\"\n",
    "\n",
    "SQL_INSERT = \"\"\"\n",
    "    INSERT INTO swimmers (name, age) VALUES (?, ?);\n",
    "\"\"\"\n",
    "\n",
    "with DBcm.UseDatabase(db_details) as db:\n",
    "    for fn in files:\n",
    "        name, age, _, _ = fn.removesuffix('.txt').split('-')\n",
    "        db.execute(SQL_SELECT, (name, age,))\n",
    "        if db.fetchall():\n",
    "            continue\n",
    "        db.execute(SQL_INSERT, (name, age,))"
   ],
   "id": "37a2aa7b5d5b9428",
   "outputs": [],
   "execution_count": 16
  },
  {
   "metadata": {
    "ExecuteTime": {
     "end_time": "2024-04-26T12:30:23.786441Z",
     "start_time": "2024-04-26T12:30:23.680084Z"
    }
   },
   "cell_type": "code",
   "source": [
    "import os\n",
    "import DBcm\n",
    "\n",
    "\n",
    "db_details = \"CoachDB.sqlite3\"\n",
    "\n",
    "FOLDER = \"../swimdata/\"\n",
    "\n",
    "files = os.listdir(FOLDER)\n",
    "# files.remove('.DS_Store')\n",
    "\n",
    "SQL_SELECT = \"\"\"\n",
    "    SELECT * FROM events WHERE distance = ? and stroke = ?;\n",
    "\"\"\"\n",
    "\n",
    "SQL_INSERT = \"\"\"\n",
    "    INSERT INTO events (distance, stroke) VALUES (?, ?);\n",
    "\"\"\"\n",
    "\n",
    "with DBcm.UseDatabase(db_details) as db:\n",
    "    for fn in files:\n",
    "        _, _, distance, stroke = fn.removesuffix('.txt').split('-')\n",
    "        db.execute(SQL_SELECT, (distance, stroke,))\n",
    "        if db.fetchall():\n",
    "            continue\n",
    "        db.execute(SQL_INSERT, (distance, stroke,))"
   ],
   "id": "c3c1c50a9c92e2f2",
   "outputs": [],
   "execution_count": 17
  },
  {
   "metadata": {
    "ExecuteTime": {
     "end_time": "2024-04-26T12:30:25.959942Z",
     "start_time": "2024-04-26T12:30:25.949253Z"
    }
   },
   "cell_type": "code",
   "source": [
    "SQL = \"\"\"\n",
    "    SELECT * FROM events\n",
    "\"\"\"\n",
    "\n",
    "with DBcm.UseDatabase(db_details) as db:\n",
    "    db.execute(SQL)\n",
    "    results = db.fetchall()\n",
    "\n",
    "results"
   ],
   "id": "5c8e4cab8e4e7c30",
   "outputs": [
    {
     "data": {
      "text/plain": [
       "[(1, '100m', 'Back'),\n",
       " (2, '100m', 'Breast'),\n",
       " (3, '50m', 'Back'),\n",
       " (4, '50m', 'Breast'),\n",
       " (5, '50m', 'Free'),\n",
       " (6, '100m', 'Free'),\n",
       " (7, '200m', 'Back'),\n",
       " (8, '100m', 'Fly'),\n",
       " (9, '50m', 'Fly'),\n",
       " (10, '200m', 'IM'),\n",
       " (11, '200m', 'Breast'),\n",
       " (12, '200m', 'Free'),\n",
       " (13, '400m', 'Free')]"
      ]
     },
     "execution_count": 18,
     "metadata": {},
     "output_type": "execute_result"
    }
   ],
   "execution_count": 18
  },
  {
   "metadata": {
    "ExecuteTime": {
     "end_time": "2024-04-26T12:30:28.813175Z",
     "start_time": "2024-04-26T12:30:28.805144Z"
    }
   },
   "cell_type": "code",
   "source": [
    "with DBcm.UseDatabase(db_details) as db:\n",
    "    db.execute(\"pragma table_info(times);\")\n",
    "    results = db.fetchall()\n",
    "\n",
    "results"
   ],
   "id": "1fac506ed7f64604",
   "outputs": [
    {
     "data": {
      "text/plain": [
       "[(0, 'swimmer_id', 'INTEGER', 1, None, 0),\n",
       " (1, 'event_id', 'INTEGER', 1, None, 0),\n",
       " (2, 'time', 'VARCHAR(16)', 1, None, 0),\n",
       " (3, 'ts', 'TIMESTAMP', 0, 'CURRENT_TIMESTAMP', 0)]"
      ]
     },
     "execution_count": 19,
     "metadata": {},
     "output_type": "execute_result"
    }
   ],
   "execution_count": 19
  },
  {
   "metadata": {
    "ExecuteTime": {
     "end_time": "2024-04-26T12:30:30.760215Z",
     "start_time": "2024-04-26T12:30:30.752700Z"
    }
   },
   "cell_type": "code",
   "source": [
    "SQL = \"\"\"\n",
    "    SELECT * FROM events\n",
    "\"\"\"\n",
    "\n",
    "with DBcm.UseDatabase(db_details) as db:\n",
    "    db.execute(SQL)\n",
    "    results = db.fetchall()\n",
    "\n",
    "results"
   ],
   "id": "fdb737c82058cfe2",
   "outputs": [
    {
     "data": {
      "text/plain": [
       "[(1, '100m', 'Back'),\n",
       " (2, '100m', 'Breast'),\n",
       " (3, '50m', 'Back'),\n",
       " (4, '50m', 'Breast'),\n",
       " (5, '50m', 'Free'),\n",
       " (6, '100m', 'Free'),\n",
       " (7, '200m', 'Back'),\n",
       " (8, '100m', 'Fly'),\n",
       " (9, '50m', 'Fly'),\n",
       " (10, '200m', 'IM'),\n",
       " (11, '200m', 'Breast'),\n",
       " (12, '200m', 'Free'),\n",
       " (13, '400m', 'Free')]"
      ]
     },
     "execution_count": 20,
     "metadata": {},
     "output_type": "execute_result"
    }
   ],
   "execution_count": 20
  },
  {
   "metadata": {
    "ExecuteTime": {
     "end_time": "2024-04-26T12:30:33.969369Z",
     "start_time": "2024-04-26T12:30:33.961811Z"
    }
   },
   "cell_type": "code",
   "source": [
    "SQL = \"\"\"\n",
    "    SELECT * FROM swimmers\n",
    "\"\"\"\n",
    "\n",
    "with DBcm.UseDatabase(db_details) as db:\n",
    "    db.execute(SQL)\n",
    "    results = db.fetchall()\n",
    "\n",
    "results"
   ],
   "id": "19fbabe7454635b8",
   "outputs": [
    {
     "data": {
      "text/plain": [
       "[(62, 'Abi', 10),\n",
       " (63, 'Ali', 12),\n",
       " (64, 'Alison', 14),\n",
       " (65, 'Aurora', 13),\n",
       " (66, 'Bill', 18),\n",
       " (67, 'Blake', 15),\n",
       " (68, 'Calvin', 9),\n",
       " (69, 'Carl', 15),\n",
       " (70, 'Chris', 17),\n",
       " (71, 'Darius', 13),\n",
       " (72, 'Dave', 17),\n",
       " (73, 'Elba', 14),\n",
       " (74, 'Emma', 13),\n",
       " (75, 'Erika', 15),\n",
       " (76, 'Hannah', 13),\n",
       " (77, 'Katie', 9),\n",
       " (78, 'Lizzie', 14),\n",
       " (79, 'Maria', 9),\n",
       " (80, 'Mike', 15),\n",
       " (81, 'Owen', 15),\n",
       " (82, 'Ruth', 13),\n",
       " (83, 'Tasmin', 15)]"
      ]
     },
     "execution_count": 21,
     "metadata": {},
     "output_type": "execute_result"
    }
   ],
   "execution_count": 21
  },
  {
   "metadata": {
    "ExecuteTime": {
     "end_time": "2024-04-26T12:30:36.547699Z",
     "start_time": "2024-04-26T12:30:36.542264Z"
    }
   },
   "cell_type": "code",
   "source": [
    "import os\n",
    "\n",
    "\n",
    "FOLDER = \"../swimdata/\"\n",
    "\n",
    "files = os.listdir(FOLDER)\n",
    "# files.remove('.DS_Store')"
   ],
   "id": "592cc7b9b8245bf8",
   "outputs": [],
   "execution_count": 22
  },
  {
   "metadata": {
    "ExecuteTime": {
     "end_time": "2024-04-26T12:30:38.031093Z",
     "start_time": "2024-04-26T12:30:38.025628Z"
    }
   },
   "cell_type": "code",
   "source": [
    "import DBcm\n",
    "\n",
    "\n",
    "db_details = \"CoachDB.sqlite3\""
   ],
   "id": "e2b2e5652c42153d",
   "outputs": [],
   "execution_count": 23
  },
  {
   "metadata": {
    "ExecuteTime": {
     "end_time": "2024-04-26T12:30:38.743585Z",
     "start_time": "2024-04-26T12:30:38.740061Z"
    }
   },
   "cell_type": "code",
   "source": [
    "SQL_GET_SWIMMER = \"\"\"\n",
    "    SELECT id FROM swimmers WHERE name = ? and age = ?;\n",
    "\"\"\""
   ],
   "id": "f1c11bf72921a96f",
   "outputs": [],
   "execution_count": 24
  },
  {
   "metadata": {
    "ExecuteTime": {
     "end_time": "2024-04-26T12:30:39.457979Z",
     "start_time": "2024-04-26T12:30:39.452731Z"
    }
   },
   "cell_type": "code",
   "source": [
    "SQL_GET_EVENT = \"\"\"\n",
    "    SELECT id FROM events WHERE distance = ? and stroke = ?;\n",
    "\"\"\""
   ],
   "id": "a162e2479b90e2cc",
   "outputs": [],
   "execution_count": 25
  },
  {
   "metadata": {
    "ExecuteTime": {
     "end_time": "2024-04-26T12:30:42.202653Z",
     "start_time": "2024-04-26T12:30:42.197494Z"
    }
   },
   "cell_type": "code",
   "source": [
    "SQL_INSERT = \"\"\"\n",
    "    INSERT INTO times (swimmer_id, event_id, time) VALUES (?, ?, ?);\n",
    "\"\"\""
   ],
   "id": "f94e6457ecdee6f1",
   "outputs": [],
   "execution_count": 26
  },
  {
   "metadata": {
    "ExecuteTime": {
     "end_time": "2024-04-26T12:30:43.349565Z",
     "start_time": "2024-04-26T12:30:43.068186Z"
    }
   },
   "cell_type": "code",
   "source": [
    "SQL = \"\"\"\n",
    "    DELETE FROM times\n",
    "\"\"\"\n",
    "\n",
    "with DBcm.UseDatabase(db_details) as db:\n",
    "    db.execute(SQL)"
   ],
   "id": "9e15f15daf735483",
   "outputs": [],
   "execution_count": 27
  },
  {
   "metadata": {
    "ExecuteTime": {
     "end_time": "2024-04-26T12:30:45.753923Z",
     "start_time": "2024-04-26T12:30:45.384526Z"
    }
   },
   "cell_type": "code",
   "source": [
    "with DBcm.UseDatabase(db_details) as db:\n",
    "    for fn in files:\n",
    "        name, age, distance, stroke = fn.removesuffix(\".txt\").split(\"-\")\n",
    "        db.execute(SQL_GET_SWIMMER, (name, age,))\n",
    "        s_id = db.fetchone()[0]\n",
    "        db.execute(SQL_GET_EVENT, (distance, stroke,))\n",
    "        e_id = db.fetchone()[0]\n",
    "        with open(FOLDER+fn) as sf:\n",
    "            times = sf.read().strip().split(\",\")\n",
    "            for t in times:\n",
    "                db.execute(SQL_INSERT, (s_id, e_id, t,))"
   ],
   "id": "6770e8d1af76655b",
   "outputs": [],
   "execution_count": 28
  },
  {
   "metadata": {
    "ExecuteTime": {
     "end_time": "2024-04-26T12:30:46.734266Z",
     "start_time": "2024-04-26T12:30:46.725524Z"
    }
   },
   "cell_type": "code",
   "source": [
    "SQL = \"\"\"\n",
    "    SELECT COUNT(*) FROM times\n",
    "\"\"\"\n",
    "\n",
    "with DBcm.UseDatabase(db_details) as db:\n",
    "    db.execute(SQL)\n",
    "    results = db.fetchall()[0]\n",
    "\n",
    "results"
   ],
   "id": "1d6f594b8dfa542b",
   "outputs": [
    {
     "data": {
      "text/plain": [
       "(338,)"
      ]
     },
     "execution_count": 29,
     "metadata": {},
     "output_type": "execute_result"
    }
   ],
   "execution_count": 29
  },
  {
   "metadata": {
    "ExecuteTime": {
     "end_time": "2024-04-26T12:30:49.465839Z",
     "start_time": "2024-04-26T12:30:49.452278Z"
    }
   },
   "cell_type": "code",
   "source": [
    "SQL = \"\"\"\n",
    "    SELECT * FROM times LIMIT 10\n",
    "\"\"\"\n",
    "\n",
    "with DBcm.UseDatabase(db_details) as db:\n",
    "    db.execute(SQL)\n",
    "    results = db.fetchall()\n",
    "\n",
    "results"
   ],
   "id": "8b4b7000156799c",
   "outputs": [
    {
     "data": {
      "text/plain": [
       "[(62, 1, '1:31.59', '2024-04-26 12:30:45'),\n",
       " (62, 1, '1:26.55', '2024-04-26 12:30:45'),\n",
       " (62, 1, '1:28.75', '2024-04-26 12:30:45'),\n",
       " (62, 1, '1:39.79', '2024-04-26 12:30:45'),\n",
       " (62, 1, '1:32.37', '2024-04-26 12:30:45'),\n",
       " (62, 2, '1:42.97', '2024-04-26 12:30:45'),\n",
       " (62, 2, '1:43.31', '2024-04-26 12:30:45'),\n",
       " (62, 2, '1:43.50', '2024-04-26 12:30:45'),\n",
       " (62, 2, '1:40.34', '2024-04-26 12:30:45'),\n",
       " (62, 3, '41.50', '2024-04-26 12:30:45')]"
      ]
     },
     "execution_count": 30,
     "metadata": {},
     "output_type": "execute_result"
    }
   ],
   "execution_count": 30
  }
 ],
 "metadata": {
  "kernelspec": {
   "display_name": "Python 3",
   "language": "python",
   "name": "python3"
  },
  "language_info": {
   "codemirror_mode": {
    "name": "ipython",
    "version": 2
   },
   "file_extension": ".py",
   "mimetype": "text/x-python",
   "name": "python",
   "nbconvert_exporter": "python",
   "pygments_lexer": "ipython2",
   "version": "2.7.6"
  }
 },
 "nbformat": 4,
 "nbformat_minor": 5
}
