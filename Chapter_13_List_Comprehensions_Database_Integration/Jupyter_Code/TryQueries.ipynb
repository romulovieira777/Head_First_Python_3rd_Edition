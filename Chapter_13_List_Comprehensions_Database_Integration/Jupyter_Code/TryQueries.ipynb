{
 "cells": [
  {
   "cell_type": "code",
   "id": "initial_id",
   "metadata": {
    "collapsed": true
   },
   "source": [
    "import Chapter_13_List_Comprehensions_Database_Integration.Python_Code.queries as queries\n",
    "\n",
    "\n",
    "print(dir(queries))"
   ],
   "outputs": [],
   "execution_count": null
  },
  {
   "metadata": {},
   "cell_type": "code",
   "source": [
    "statements = []\n",
    "\n",
    "for sql in dir(queries):\n",
    "    if not sql.startswith('__'):\n",
    "        statements.append(sql)\n",
    "statements"
   ],
   "id": "a66725c411cd5c1e",
   "outputs": [],
   "execution_count": null
  },
  {
   "metadata": {},
   "cell_type": "code",
   "source": "[sql for sql in dir(queries) if not sql.startswith('__')]",
   "id": "f33f2658a819a550",
   "outputs": [],
   "execution_count": null
  },
  {
   "metadata": {},
   "cell_type": "code",
   "source": "print(dir(list))",
   "id": "87eb3cc6bbe8ec83",
   "outputs": [],
   "execution_count": null
  },
  {
   "metadata": {},
   "cell_type": "code",
   "source": "[x for x in dir(list) if not x.startswith('__')]",
   "id": "ae4d85b5474494d5",
   "outputs": [],
   "execution_count": null
  },
  {
   "metadata": {},
   "cell_type": "code",
   "source": "print([x for x in dir(list) if not x.startswith('__')])",
   "id": "18be9f7214f9b896",
   "outputs": [],
   "execution_count": null
  },
  {
   "metadata": {},
   "cell_type": "code",
   "source": [
    "import DBcm\n",
    "\n",
    "\n",
    "db_details = \"CoachDB.sqlite3\""
   ],
   "id": "2538fa38db9a424c",
   "outputs": [],
   "execution_count": null
  },
  {
   "metadata": {},
   "cell_type": "code",
   "source": [
    "from Chapter_13_List_Comprehensions_Database_Integration.Python_Code.queries import SQL_SESSIONS\n",
    "\n",
    "\n",
    "print(SQL_SESSIONS)"
   ],
   "id": "a8fd0ab950ff6b5a",
   "outputs": [],
   "execution_count": null
  },
  {
   "metadata": {},
   "cell_type": "code",
   "source": [
    "with DBcm.UseDatabase(db_details) as db:\n",
    "    db.execute(SQL_SESSIONS)\n",
    "    results = db.fetchall()\n",
    "results"
   ],
   "id": "6433112db701224d",
   "outputs": [],
   "execution_count": null
  },
  {
   "metadata": {},
   "cell_type": "code",
   "source": "!python update_tables.py",
   "id": "448508a343b00487",
   "outputs": [],
   "execution_count": null
  },
  {
   "metadata": {},
   "cell_type": "code",
   "source": [
    "with DBcm.UseDatabase(db_details) as db:\n",
    "    db.execute(SQL_SESSIONS)\n",
    "    results = db.fetchall()\n",
    "results"
   ],
   "id": "5b587c074be61ae6",
   "outputs": [],
   "execution_count": null
  },
  {
   "metadata": {},
   "cell_type": "code",
   "source": [
    "from Chapter_13_List_Comprehensions_Database_Integration.Python_Code.queries import SQL_SWIMMERS_BY_SESSION\n",
    "\n",
    "\n",
    "print(SQL_SWIMMERS_BY_SESSION)"
   ],
   "id": "34adfc3fd2b0c5e3",
   "outputs": [],
   "execution_count": null
  },
  {
   "metadata": {},
   "cell_type": "code",
   "source": [
    "with DBcm.UseDatabase(db_details) as db:\n",
    "    db.execute(SQL_SWIMMERS_BY_SESSION, (\"2024-04-26\",))\n",
    "    results = db.fetchall()\n",
    "results"
   ],
   "id": "be4e270437861815",
   "outputs": [],
   "execution_count": null
  },
  {
   "metadata": {},
   "cell_type": "code",
   "source": [
    "with DBcm.UseDatabase(db_details) as db:\n",
    "    db.execute(SQL_SWIMMERS_BY_SESSION, (\"2024-04-30\",))\n",
    "    results = db.fetchall()\n",
    "results"
   ],
   "id": "7c217366f9e3b486",
   "outputs": [],
   "execution_count": null
  },
  {
   "metadata": {},
   "cell_type": "code",
   "source": [
    "from Chapter_13_List_Comprehensions_Database_Integration.Python_Code.queries import SQL_SWIMMERS_EVENTS_BY_SESSION\n",
    "\n",
    "\n",
    "print(SQL_SWIMMERS_EVENTS_BY_SESSION)"
   ],
   "id": "a5216130e8f6670",
   "outputs": [],
   "execution_count": null
  },
  {
   "metadata": {},
   "cell_type": "code",
   "source": [
    "with DBcm.UseDatabase(db_details) as db:\n",
    "    db.execute(SQL_SWIMMERS_EVENTS_BY_SESSION, (\"Darius\", 13, \"2024-04-26\",))  \n",
    "    results = db.fetchall()\n",
    "results"
   ],
   "id": "9785d5e857e6c9a8",
   "outputs": [],
   "execution_count": null
  },
  {
   "metadata": {},
   "cell_type": "code",
   "source": [
    "with DBcm.UseDatabase(db_details) as db:\n",
    "    db.execute(SQL_SWIMMERS_EVENTS_BY_SESSION, (\"Darius\", 8, \"2024-04-30\",))  \n",
    "    results = db.fetchall()\n",
    "results"
   ],
   "id": "d0384a6a7f07cb57",
   "outputs": [],
   "execution_count": null
  },
  {
   "metadata": {},
   "cell_type": "code",
   "source": [
    "from Chapter_13_List_Comprehensions_Database_Integration.Python_Code.queries import SQL_CHART_DATA_BY_SWIMMER_EVENT_SESSION\n",
    "\n",
    "\n",
    "print(SQL_CHART_DATA_BY_SWIMMER_EVENT_SESSION)"
   ],
   "id": "2bfbb2954c8c419e",
   "outputs": [],
   "execution_count": null
  },
  {
   "metadata": {},
   "cell_type": "code",
   "source": [
    "with DBcm.UseDatabase(db_details) as db:\n",
    "    db.execute(SQL_CHART_DATA_BY_SWIMMER_EVENT_SESSION, (\"Darius\", 13, \"100m\", \"Fly\", \"2024-04-26\",))  \n",
    "    results = db.fetchall()\n",
    "results"
   ],
   "id": "8b633073b83ea672",
   "outputs": [],
   "execution_count": null
  }
 ],
 "metadata": {
  "kernelspec": {
   "display_name": "Python 3",
   "language": "python",
   "name": "python3"
  },
  "language_info": {
   "codemirror_mode": {
    "name": "ipython",
    "version": 2
   },
   "file_extension": ".py",
   "mimetype": "text/x-python",
   "name": "python",
   "nbconvert_exporter": "python",
   "pygments_lexer": "ipython2",
   "version": "2.7.6"
  }
 },
 "nbformat": 4,
 "nbformat_minor": 5
}
