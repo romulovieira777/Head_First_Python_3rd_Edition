{
 "cells": [
  {
   "cell_type": "code",
   "metadata": {
    "ExecuteTime": {
     "end_time": "2024-04-29T12:43:08.179664Z",
     "start_time": "2024-04-29T12:43:08.169705Z"
    }
   },
   "source": [
    "import queries\n",
    "\n",
    "print(dir(queries))"
   ],
   "outputs": [
    {
     "name": "stdout",
     "output_type": "stream",
     "text": [
      "['SQL_CHART_DATA_BY_SWIMMER_EVENT_SESSION', 'SQL_SESSIONS', 'SQL_SWIMMERS_BY_SESSION', 'SQL_SWIMMERS_EVENTS_BY_SESSION', '__builtins__', '__cached__', '__doc__', '__file__', '__loader__', '__name__', '__package__', '__spec__']\n"
     ]
    }
   ],
   "execution_count": 1
  },
  {
   "cell_type": "code",
   "metadata": {
    "ExecuteTime": {
     "end_time": "2024-04-29T12:43:08.861736Z",
     "start_time": "2024-04-29T12:43:08.851375Z"
    }
   },
   "source": [
    "statements = []\n",
    "for sql in dir(queries):\n",
    "    if not sql.startswith(\"__\"):\n",
    "        statements.append(sql)\n",
    "statements"
   ],
   "outputs": [
    {
     "data": {
      "text/plain": [
       "['SQL_CHART_DATA_BY_SWIMMER_EVENT_SESSION',\n",
       " 'SQL_SESSIONS',\n",
       " 'SQL_SWIMMERS_BY_SESSION',\n",
       " 'SQL_SWIMMERS_EVENTS_BY_SESSION']"
      ]
     },
     "execution_count": 2,
     "metadata": {},
     "output_type": "execute_result"
    }
   ],
   "execution_count": 2
  },
  {
   "cell_type": "code",
   "metadata": {
    "ExecuteTime": {
     "end_time": "2024-04-29T12:43:09.514142Z",
     "start_time": "2024-04-29T12:43:09.506672Z"
    }
   },
   "source": [
    "[sql for sql in dir(queries) if not sql.startswith(\"__\")]"
   ],
   "outputs": [
    {
     "data": {
      "text/plain": [
       "['SQL_CHART_DATA_BY_SWIMMER_EVENT_SESSION',\n",
       " 'SQL_SESSIONS',\n",
       " 'SQL_SWIMMERS_BY_SESSION',\n",
       " 'SQL_SWIMMERS_EVENTS_BY_SESSION']"
      ]
     },
     "execution_count": 3,
     "metadata": {},
     "output_type": "execute_result"
    }
   ],
   "execution_count": 3
  },
  {
   "cell_type": "code",
   "metadata": {
    "ExecuteTime": {
     "end_time": "2024-04-29T12:43:09.893972Z",
     "start_time": "2024-04-29T12:43:09.887309Z"
    }
   },
   "source": [
    "print(dir(list))"
   ],
   "outputs": [
    {
     "name": "stdout",
     "output_type": "stream",
     "text": [
      "['__add__', '__class__', '__class_getitem__', '__contains__', '__delattr__', '__delitem__', '__dir__', '__doc__', '__eq__', '__format__', '__ge__', '__getattribute__', '__getitem__', '__getstate__', '__gt__', '__hash__', '__iadd__', '__imul__', '__init__', '__init_subclass__', '__iter__', '__le__', '__len__', '__lt__', '__mul__', '__ne__', '__new__', '__reduce__', '__reduce_ex__', '__repr__', '__reversed__', '__rmul__', '__setattr__', '__setitem__', '__sizeof__', '__str__', '__subclasshook__', 'append', 'clear', 'copy', 'count', 'extend', 'index', 'insert', 'pop', 'remove', 'reverse', 'sort']\n"
     ]
    }
   ],
   "execution_count": 4
  },
  {
   "cell_type": "code",
   "metadata": {
    "ExecuteTime": {
     "end_time": "2024-04-29T12:43:10.245666Z",
     "start_time": "2024-04-29T12:43:10.238240Z"
    }
   },
   "source": [
    "[x for x in dir(list) if not x.startswith(\"__\")]"
   ],
   "outputs": [
    {
     "data": {
      "text/plain": [
       "['append',\n",
       " 'clear',\n",
       " 'copy',\n",
       " 'count',\n",
       " 'extend',\n",
       " 'index',\n",
       " 'insert',\n",
       " 'pop',\n",
       " 'remove',\n",
       " 'reverse',\n",
       " 'sort']"
      ]
     },
     "execution_count": 5,
     "metadata": {},
     "output_type": "execute_result"
    }
   ],
   "execution_count": 5
  },
  {
   "cell_type": "code",
   "metadata": {
    "ExecuteTime": {
     "end_time": "2024-04-29T12:43:10.610540Z",
     "start_time": "2024-04-29T12:43:10.604690Z"
    }
   },
   "source": [
    "print([x for x in dir(list) if not x.startswith(\"__\")])"
   ],
   "outputs": [
    {
     "name": "stdout",
     "output_type": "stream",
     "text": [
      "['append', 'clear', 'copy', 'count', 'extend', 'index', 'insert', 'pop', 'remove', 'reverse', 'sort']\n"
     ]
    }
   ],
   "execution_count": 6
  },
  {
   "cell_type": "code",
   "metadata": {
    "ExecuteTime": {
     "end_time": "2024-04-29T12:43:11.250175Z",
     "start_time": "2024-04-29T12:43:11.039893Z"
    }
   },
   "source": [
    "import DBcm\n",
    "\n",
    "db_details = \"CoachDB.sqlite3\""
   ],
   "outputs": [],
   "execution_count": 7
  },
  {
   "cell_type": "code",
   "metadata": {
    "ExecuteTime": {
     "end_time": "2024-04-29T12:43:11.388889Z",
     "start_time": "2024-04-29T12:43:11.382473Z"
    }
   },
   "source": [
    "from queries import SQL_SESSIONS\n",
    "\n",
    "print(SQL_SESSIONS)"
   ],
   "outputs": [
    {
     "name": "stdout",
     "output_type": "stream",
     "text": [
      "\n",
      "    select distinct ts from times\n",
      "\n"
     ]
    }
   ],
   "execution_count": 8
  },
  {
   "cell_type": "code",
   "metadata": {
    "ExecuteTime": {
     "end_time": "2024-04-29T12:43:12.097807Z",
     "start_time": "2024-04-29T12:43:12.090510Z"
    }
   },
   "source": [
    "with DBcm.UseDatabase(db_details) as db:\n",
    "    db.execute(SQL_SESSIONS)\n",
    "    results = db.fetchall()\n",
    "results"
   ],
   "outputs": [
    {
     "data": {
      "text/plain": [
       "[('2023-01-13 20:11:34',), ('2023-01-20 21:18:25',)]"
      ]
     },
     "execution_count": 9,
     "metadata": {},
     "output_type": "execute_result"
    }
   ],
   "execution_count": 9
  },
  {
   "cell_type": "code",
   "metadata": {
    "ExecuteTime": {
     "end_time": "2024-04-29T12:44:22.235200Z",
     "start_time": "2024-04-29T12:44:21.700339Z"
    }
   },
   "source": "!python update_tables.py",
   "outputs": [],
   "execution_count": 14
  },
  {
   "cell_type": "code",
   "metadata": {
    "ExecuteTime": {
     "end_time": "2024-04-29T12:44:22.789608Z",
     "start_time": "2024-04-29T12:44:22.782589Z"
    }
   },
   "source": [
    "with DBcm.UseDatabase(db_details) as db:\n",
    "    db.execute(SQL_SESSIONS)\n",
    "    results = db.fetchall()\n",
    "results"
   ],
   "outputs": [
    {
     "data": {
      "text/plain": [
       "[('2023-01-13 20:11:34',), ('2023-01-20 21:18:25',), ('2024-04-29 12:44:22',)]"
      ]
     },
     "execution_count": 15,
     "metadata": {},
     "output_type": "execute_result"
    }
   ],
   "execution_count": 15
  },
  {
   "cell_type": "code",
   "metadata": {
    "ExecuteTime": {
     "end_time": "2024-04-29T12:44:23.623017Z",
     "start_time": "2024-04-29T12:44:23.613829Z"
    }
   },
   "source": [
    "from queries import SQL_SWIMMERS_BY_SESSION\n",
    "\n",
    "print(SQL_SWIMMERS_BY_SESSION)"
   ],
   "outputs": [
    {
     "name": "stdout",
     "output_type": "stream",
     "text": [
      "\n",
      "    select distinct swimmers.name, swimmers.age  \n",
      "    from times, swimmers \n",
      "    where date(times.ts) = ? and     \n",
      "    times.swimmer_id = swimmers.id \n",
      "    order by name\n",
      "\n"
     ]
    }
   ],
   "execution_count": 16
  },
  {
   "cell_type": "code",
   "metadata": {
    "ExecuteTime": {
     "end_time": "2024-04-29T12:44:24.355704Z",
     "start_time": "2024-04-29T12:44:24.346955Z"
    }
   },
   "source": [
    "with DBcm.UseDatabase(db_details) as db:\n",
    "    db.execute(SQL_SWIMMERS_BY_SESSION, (\"2023-01-13\",))\n",
    "    results = db.fetchall()\n",
    "results"
   ],
   "outputs": [
    {
     "data": {
      "text/plain": [
       "[('Abi', 10),\n",
       " ('Ali', 12),\n",
       " ('Alison', 14),\n",
       " ('Aurora', 13),\n",
       " ('Bill', 18),\n",
       " ('Blake', 15),\n",
       " ('Calvin', 9),\n",
       " ('Carl', 15),\n",
       " ('Chris', 17),\n",
       " ('Darius', 13),\n",
       " ('Dave', 17),\n",
       " ('Elba', 14),\n",
       " ('Emma', 13),\n",
       " ('Erika', 15),\n",
       " ('Hannah', 13),\n",
       " ('Katie', 9),\n",
       " ('Lizzie', 14),\n",
       " ('Maria', 9),\n",
       " ('Mike', 15),\n",
       " ('Owen', 15),\n",
       " ('Ruth', 13),\n",
       " ('Tasmin', 15)]"
      ]
     },
     "execution_count": 17,
     "metadata": {},
     "output_type": "execute_result"
    }
   ],
   "execution_count": 17
  },
  {
   "cell_type": "code",
   "metadata": {
    "ExecuteTime": {
     "end_time": "2024-04-29T12:44:24.859189Z",
     "start_time": "2024-04-29T12:44:24.852030Z"
    }
   },
   "source": [
    "with DBcm.UseDatabase(db_details) as db:\n",
    "    db.execute(SQL_SESSIONS)\n",
    "    results = db.fetchall()\n",
    "results"
   ],
   "outputs": [
    {
     "data": {
      "text/plain": [
       "[('2023-01-13 20:11:34',), ('2023-01-20 21:18:25',), ('2024-04-29 12:44:22',)]"
      ]
     },
     "execution_count": 18,
     "metadata": {},
     "output_type": "execute_result"
    }
   ],
   "execution_count": 18
  },
  {
   "cell_type": "code",
   "metadata": {
    "ExecuteTime": {
     "end_time": "2024-04-29T12:44:25.501178Z",
     "start_time": "2024-04-29T12:44:25.492203Z"
    }
   },
   "source": [
    "with DBcm.UseDatabase(db_details) as db:\n",
    "    db.execute(SQL_SWIMMERS_BY_SESSION, (\"2023-01-20\",)) \n",
    "    results = db.fetchall()\n",
    "results"
   ],
   "outputs": [
    {
     "data": {
      "text/plain": [
       "[('Abi', 10),\n",
       " ('Blake', 15),\n",
       " ('Darius', 13),\n",
       " ('Darius', 8),\n",
       " ('Dave', 17),\n",
       " ('Katie', 9),\n",
       " ('Maria', 9),\n",
       " ('Owen', 15)]"
      ]
     },
     "execution_count": 19,
     "metadata": {},
     "output_type": "execute_result"
    }
   ],
   "execution_count": 19
  },
  {
   "cell_type": "code",
   "metadata": {
    "ExecuteTime": {
     "end_time": "2024-04-29T12:44:26.033261Z",
     "start_time": "2024-04-29T12:44:26.028247Z"
    }
   },
   "source": [
    "from queries import SQL_SWIMMERS_EVENTS_BY_SESSION\n",
    "\n",
    "print(SQL_SWIMMERS_EVENTS_BY_SESSION)"
   ],
   "outputs": [
    {
     "name": "stdout",
     "output_type": "stream",
     "text": [
      "  \n",
      "    select distinct events.distance, events.stroke\n",
      "    from swimmers, events, times\n",
      "    where times.swimmer_id = swimmers.id and\n",
      "    times.event_id = events.id and\n",
      "    (swimmers.name = ? and swimmers.age = ?) and\n",
      "    date(times.ts) = ?\n",
      "\n"
     ]
    }
   ],
   "execution_count": 20
  },
  {
   "cell_type": "code",
   "metadata": {
    "ExecuteTime": {
     "end_time": "2024-04-29T12:44:26.562300Z",
     "start_time": "2024-04-29T12:44:26.551508Z"
    }
   },
   "source": [
    "with DBcm.UseDatabase(db_details) as db:\n",
    "    db.execute(SQL_SWIMMERS_EVENTS_BY_SESSION, (\"Darius\", 13, \"2023-01-13\",))  \n",
    "    results = db.fetchall()\n",
    "results"
   ],
   "outputs": [
    {
     "data": {
      "text/plain": [
       "[('100m', 'Back'), ('100m', 'Breast'), ('100m', 'Fly'), ('200m', 'IM')]"
      ]
     },
     "execution_count": 21,
     "metadata": {},
     "output_type": "execute_result"
    }
   ],
   "execution_count": 21
  },
  {
   "cell_type": "code",
   "metadata": {
    "ExecuteTime": {
     "end_time": "2024-04-29T12:44:27.398485Z",
     "start_time": "2024-04-29T12:44:27.258937Z"
    }
   },
   "source": [
    "with DBcm.UseDatabase(db_details) as db:\n",
    "    db.execute(SQL_SWIMMERS_EVENTS_BY_SESSION, (\"Darius\", 8, \"2023-01-20\",))  \n",
    "    results = db.fetchall()\n",
    "results"
   ],
   "outputs": [
    {
     "data": {
      "text/plain": [
       "[('50m', 'Back'), ('50m', 'Free'), ('50m', 'Breast')]"
      ]
     },
     "execution_count": 22,
     "metadata": {},
     "output_type": "execute_result"
    }
   ],
   "execution_count": 22
  },
  {
   "cell_type": "code",
   "metadata": {
    "ExecuteTime": {
     "end_time": "2024-04-29T12:44:28.098171Z",
     "start_time": "2024-04-29T12:44:28.093392Z"
    }
   },
   "source": [
    "from queries import SQL_CHART_DATA_BY_SWIMMER_EVENT_SESSION\n",
    "\n",
    "print(SQL_CHART_DATA_BY_SWIMMER_EVENT_SESSION)"
   ],
   "outputs": [
    {
     "name": "stdout",
     "output_type": "stream",
     "text": [
      "\n",
      "    select times.time\n",
      "    from swimmers, events, times\n",
      "    where (swimmers.name = ? and swimmers.age = ?) and\n",
      "    (events.distance = ? and events.stroke = ?) and \n",
      "    swimmers.id = times.swimmer_id and\n",
      "    events.id = times.event_id and\n",
      "    date(times.ts) = ?\n",
      "\n"
     ]
    }
   ],
   "execution_count": 23
  },
  {
   "cell_type": "code",
   "metadata": {
    "ExecuteTime": {
     "end_time": "2024-04-29T12:44:28.676984Z",
     "start_time": "2024-04-29T12:44:28.667308Z"
    }
   },
   "source": [
    "with DBcm.UseDatabase(db_details) as db:\n",
    "    db.execute(SQL_CHART_DATA_BY_SWIMMER_EVENT_SESSION, (\"Darius\", 13, \"100m\", \"Fly\", \"2023-01-13\",))  \n",
    "    results = db.fetchall()\n",
    "results"
   ],
   "outputs": [
    {
     "data": {
      "text/plain": [
       "[('1:27.95',),\n",
       " ('1:21.07',),\n",
       " ('1:30.96',),\n",
       " ('1:23.22',),\n",
       " ('1:27.95',),\n",
       " ('1:28.30',)]"
      ]
     },
     "execution_count": 24,
     "metadata": {},
     "output_type": "execute_result"
    }
   ],
   "execution_count": 24
  }
 ],
 "metadata": {
  "kernelspec": {
   "display_name": "Python 3",
   "language": "python",
   "name": "python3"
  },
  "language_info": {
   "codemirror_mode": {
    "name": "ipython",
    "version": 3
   },
   "file_extension": ".py",
   "mimetype": "text/x-python",
   "name": "python",
   "nbconvert_exporter": "python",
   "pygments_lexer": "ipython3",
   "version": "3.11.3"
  },
  "orig_nbformat": 4,
  "vscode": {
   "interpreter": {
    "hash": "5c7b89af1651d0b8571dde13640ecdccf7d5a6204171d6ab33e7c296e100e08a"
   }
  }
 },
 "nbformat": 4,
 "nbformat_minor": 2
}
