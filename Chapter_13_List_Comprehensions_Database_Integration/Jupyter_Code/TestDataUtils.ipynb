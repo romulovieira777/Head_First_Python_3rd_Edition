{
 "cells": [
  {
   "cell_type": "code",
   "metadata": {
    "ExecuteTime": {
     "end_time": "2024-04-29T12:45:48.151127Z",
     "start_time": "2024-04-29T12:45:48.089323Z"
    }
   },
   "source": "import Chapter_13_List_Comprehensions_Database_Integration.Python_Code.data_utils as data_utils",
   "outputs": [],
   "execution_count": 1
  },
  {
   "cell_type": "code",
   "metadata": {
    "ExecuteTime": {
     "end_time": "2024-04-29T12:45:48.704664Z",
     "start_time": "2024-04-29T12:45:48.699470Z"
    }
   },
   "source": [
    "print([x for x in dir(data_utils) if not x.startswith(\"__\")])"
   ],
   "outputs": [
    {
     "name": "stdout",
     "output_type": "stream",
     "text": [
      "['DBcm', 'SQL_CHART_DATA_BY_SWIMMER_EVENT_SESSION', 'SQL_SESSIONS', 'SQL_SWIMMERS_BY_SESSION', 'SQL_SWIMMERS_EVENTS_BY_SESSION', 'db_details', 'get_session_swimmers', 'get_swim_sessions', 'get_swimmers_events', 'get_swimmers_times']\n"
     ]
    }
   ],
   "execution_count": 2
  },
  {
   "cell_type": "code",
   "metadata": {
    "ExecuteTime": {
     "end_time": "2024-04-29T12:45:49.615348Z",
     "start_time": "2024-04-29T12:45:49.609526Z"
    }
   },
   "source": [
    "help(data_utils.get_swim_sessions)"
   ],
   "outputs": [
    {
     "name": "stdout",
     "output_type": "stream",
     "text": [
      "Help on function get_swim_sessions in module data_utils:\n",
      "\n",
      "get_swim_sessions()\n",
      "    Return a tuple-list of unique session timestamps.\n",
      "\n"
     ]
    }
   ],
   "execution_count": 3
  },
  {
   "cell_type": "code",
   "metadata": {
    "ExecuteTime": {
     "end_time": "2024-04-29T12:45:50.229825Z",
     "start_time": "2024-04-29T12:45:50.218236Z"
    }
   },
   "source": [
    "data_utils.get_swim_sessions()"
   ],
   "outputs": [
    {
     "data": {
      "text/plain": [
       "[('2023-01-13 20:11:34',), ('2023-01-20 21:18:25',), ('2024-04-29 12:44:22',)]"
      ]
     },
     "execution_count": 4,
     "metadata": {},
     "output_type": "execute_result"
    }
   ],
   "execution_count": 4
  },
  {
   "cell_type": "code",
   "metadata": {
    "ExecuteTime": {
     "end_time": "2024-04-29T12:45:50.676167Z",
     "start_time": "2024-04-29T12:45:50.664266Z"
    }
   },
   "source": [
    "data_utils.get_session_swimmers(\"2023-01-20\")"
   ],
   "outputs": [
    {
     "data": {
      "text/plain": [
       "[('Abi', 10),\n",
       " ('Blake', 15),\n",
       " ('Darius', 13),\n",
       " ('Darius', 8),\n",
       " ('Dave', 17),\n",
       " ('Katie', 9),\n",
       " ('Maria', 9),\n",
       " ('Owen', 15)]"
      ]
     },
     "execution_count": 5,
     "metadata": {},
     "output_type": "execute_result"
    }
   ],
   "execution_count": 5
  },
  {
   "cell_type": "code",
   "metadata": {
    "ExecuteTime": {
     "end_time": "2024-04-29T12:45:51.210480Z",
     "start_time": "2024-04-29T12:45:51.203076Z"
    }
   },
   "source": [
    "data_utils.get_swimmers_events(\"Darius\", 8, \"2023-01-20\")"
   ],
   "outputs": [
    {
     "data": {
      "text/plain": [
       "[('50m', 'Back'), ('50m', 'Free'), ('50m', 'Breast')]"
      ]
     },
     "execution_count": 6,
     "metadata": {},
     "output_type": "execute_result"
    }
   ],
   "execution_count": 6
  },
  {
   "cell_type": "code",
   "metadata": {
    "ExecuteTime": {
     "end_time": "2024-04-29T12:45:51.781184Z",
     "start_time": "2024-04-29T12:45:51.772685Z"
    }
   },
   "source": [
    "data_utils.get_swimmers_times(\"Darius\", 8, \"50m\", \"Free\", \"2023-01-20\")"
   ],
   "outputs": [
    {
     "data": {
      "text/plain": [
       "[('39.42',), ('36.13',), ('37.66',), ('39.07',)]"
      ]
     },
     "execution_count": 7,
     "metadata": {},
     "output_type": "execute_result"
    }
   ],
   "execution_count": 7
  },
  {
   "cell_type": "code",
   "metadata": {
    "ExecuteTime": {
     "end_time": "2024-04-29T12:45:52.369433Z",
     "start_time": "2024-04-29T12:45:52.363546Z"
    }
   },
   "source": [
    "data = data_utils.get_swim_sessions()\n",
    "data"
   ],
   "outputs": [
    {
     "data": {
      "text/plain": [
       "[('2023-01-13 20:11:34',), ('2023-01-20 21:18:25',), ('2024-04-29 12:44:22',)]"
      ]
     },
     "execution_count": 8,
     "metadata": {},
     "output_type": "execute_result"
    }
   ],
   "execution_count": 8
  },
  {
   "cell_type": "code",
   "metadata": {
    "ExecuteTime": {
     "end_time": "2024-04-29T12:45:53.007662Z",
     "start_time": "2024-04-29T12:45:52.999926Z"
    }
   },
   "source": [
    "[session[0].split(\" \")[0] for session in data]   "
   ],
   "outputs": [
    {
     "data": {
      "text/plain": [
       "['2023-01-13', '2023-01-20', '2024-04-29']"
      ]
     },
     "execution_count": 9,
     "metadata": {},
     "output_type": "execute_result"
    }
   ],
   "execution_count": 9
  },
  {
   "cell_type": "code",
   "metadata": {
    "ExecuteTime": {
     "end_time": "2024-04-29T12:45:53.519064Z",
     "start_time": "2024-04-29T12:45:53.508587Z"
    }
   },
   "source": [
    "data = data_utils.get_session_swimmers(\"2023-01-20\")\n",
    "print(data)"
   ],
   "outputs": [
    {
     "name": "stdout",
     "output_type": "stream",
     "text": [
      "[('Abi', 10), ('Blake', 15), ('Darius', 13), ('Darius', 8), ('Dave', 17), ('Katie', 9), ('Maria', 9), ('Owen', 15)]\n"
     ]
    }
   ],
   "execution_count": 10
  },
  {
   "cell_type": "code",
   "metadata": {
    "ExecuteTime": {
     "end_time": "2024-04-29T12:45:53.979747Z",
     "start_time": "2024-04-29T12:45:53.974056Z"
    }
   },
   "source": [
    "print([f\"{swimmer[0]}-{swimmer[1]}\" for swimmer in data])"
   ],
   "outputs": [
    {
     "name": "stdout",
     "output_type": "stream",
     "text": [
      "['Abi-10', 'Blake-15', 'Darius-13', 'Darius-8', 'Dave-17', 'Katie-9', 'Maria-9', 'Owen-15']\n"
     ]
    }
   ],
   "execution_count": 11
  },
  {
   "cell_type": "code",
   "metadata": {
    "ExecuteTime": {
     "end_time": "2024-04-29T12:45:54.512371Z",
     "start_time": "2024-04-29T12:45:54.463808Z"
    }
   },
   "source": [
    "data = data_utils.get_swimmers_events(\"Darius\", 8, \"2023-01-20\")\n",
    "data"
   ],
   "outputs": [
    {
     "data": {
      "text/plain": [
       "[('50m', 'Back'), ('50m', 'Free'), ('50m', 'Breast')]"
      ]
     },
     "execution_count": 12,
     "metadata": {},
     "output_type": "execute_result"
    }
   ],
   "execution_count": 12
  },
  {
   "cell_type": "code",
   "metadata": {
    "ExecuteTime": {
     "end_time": "2024-04-29T12:45:55.197590Z",
     "start_time": "2024-04-29T12:45:55.185971Z"
    }
   },
   "source": [
    "[f\"{event[0]} {event[1]}\" for event in data]"
   ],
   "outputs": [
    {
     "data": {
      "text/plain": [
       "['50m Back', '50m Free', '50m Breast']"
      ]
     },
     "execution_count": 13,
     "metadata": {},
     "output_type": "execute_result"
    }
   ],
   "execution_count": 13
  },
  {
   "cell_type": "code",
   "metadata": {
    "ExecuteTime": {
     "end_time": "2024-04-29T12:45:57.925781Z",
     "start_time": "2024-04-29T12:45:57.913351Z"
    }
   },
   "source": [
    "data = data_utils.get_swimmers_times(\"Darius\", 8, \"50m\", \"Free\", \"2023-01-20\")\n",
    "data"
   ],
   "outputs": [
    {
     "data": {
      "text/plain": [
       "[('39.42',), ('36.13',), ('37.66',), ('39.07',)]"
      ]
     },
     "execution_count": 14,
     "metadata": {},
     "output_type": "execute_result"
    }
   ],
   "execution_count": 14
  },
  {
   "cell_type": "code",
   "metadata": {
    "ExecuteTime": {
     "end_time": "2024-04-29T12:45:58.743133Z",
     "start_time": "2024-04-29T12:45:58.736890Z"
    }
   },
   "source": [
    "[time[0] for time in data]"
   ],
   "outputs": [
    {
     "data": {
      "text/plain": [
       "['39.42', '36.13', '37.66', '39.07']"
      ]
     },
     "execution_count": 15,
     "metadata": {},
     "output_type": "execute_result"
    }
   ],
   "execution_count": 15
  }
 ],
 "metadata": {
  "kernelspec": {
   "display_name": "Python 3",
   "language": "python",
   "name": "python3"
  },
  "language_info": {
   "codemirror_mode": {
    "name": "ipython",
    "version": 3
   },
   "file_extension": ".py",
   "mimetype": "text/x-python",
   "name": "python",
   "nbconvert_exporter": "python",
   "pygments_lexer": "ipython3",
   "version": "3.11.3"
  },
  "orig_nbformat": 4,
  "vscode": {
   "interpreter": {
    "hash": "5c7b89af1651d0b8571dde13640ecdccf7d5a6204171d6ab33e7c296e100e08a"
   }
  }
 },
 "nbformat": 4,
 "nbformat_minor": 2
}
