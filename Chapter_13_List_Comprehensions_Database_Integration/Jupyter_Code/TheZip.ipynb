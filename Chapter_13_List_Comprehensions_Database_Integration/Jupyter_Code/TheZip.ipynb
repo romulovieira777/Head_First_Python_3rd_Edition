{
 "cells": [
  {
   "cell_type": "code",
   "id": "initial_id",
   "metadata": {
    "collapsed": true,
    "ExecuteTime": {
     "end_time": "2024-04-30T12:14:42.579806Z",
     "start_time": "2024-04-30T12:14:42.574208Z"
    }
   },
   "source": "times = ['39.42', '36.13', '37.66', '39.07']",
   "outputs": [],
   "execution_count": 1
  },
  {
   "metadata": {
    "ExecuteTime": {
     "end_time": "2024-04-30T12:14:59.075740Z",
     "start_time": "2024-04-30T12:14:59.071703Z"
    }
   },
   "cell_type": "code",
   "source": "scaled = [346.89, 334.37, 320.79, 350.0]",
   "id": "cc4e01029a14ce7c",
   "outputs": [],
   "execution_count": 2
  },
  {
   "metadata": {
    "ExecuteTime": {
     "end_time": "2024-04-30T12:15:04.913826Z",
     "start_time": "2024-04-30T12:15:04.905854Z"
    }
   },
   "cell_type": "code",
   "source": "zip(times, scaled)",
   "id": "1ebcc080f95d240",
   "outputs": [
    {
     "data": {
      "text/plain": [
       "<zip at 0x223e5e8ac40>"
      ]
     },
     "execution_count": 3,
     "metadata": {},
     "output_type": "execute_result"
    }
   ],
   "execution_count": 3
  },
  {
   "metadata": {
    "ExecuteTime": {
     "end_time": "2024-04-30T12:15:32.810591Z",
     "start_time": "2024-04-30T12:15:32.804641Z"
    }
   },
   "cell_type": "code",
   "source": "list(zip(times, scaled))",
   "id": "faf814c05d0aa1db",
   "outputs": [
    {
     "data": {
      "text/plain": [
       "[('39.42', 346.89), ('36.13', 334.37), ('37.66', 320.79), ('39.07', 350.0)]"
      ]
     },
     "execution_count": 4,
     "metadata": {},
     "output_type": "execute_result"
    }
   ],
   "execution_count": 4
  },
  {
   "metadata": {
    "ExecuteTime": {
     "end_time": "2024-04-30T12:16:03.748737Z",
     "start_time": "2024-04-30T12:16:03.742823Z"
    }
   },
   "cell_type": "code",
   "source": [
    "for row in zip(times, scaled):\n",
    "    print(row)"
   ],
   "id": "1c70bb500a22f399",
   "outputs": [
    {
     "name": "stdout",
     "output_type": "stream",
     "text": [
      "('39.42', 346.89)\n",
      "('36.13', 334.37)\n",
      "('37.66', 320.79)\n",
      "('39.07', 350.0)\n"
     ]
    }
   ],
   "execution_count": 5
  }
 ],
 "metadata": {
  "kernelspec": {
   "display_name": "Python 3",
   "language": "python",
   "name": "python3"
  },
  "language_info": {
   "codemirror_mode": {
    "name": "ipython",
    "version": 2
   },
   "file_extension": ".py",
   "mimetype": "text/x-python",
   "name": "python",
   "nbconvert_exporter": "python",
   "pygments_lexer": "ipython2",
   "version": "2.7.6"
  }
 },
 "nbformat": 4,
 "nbformat_minor": 5
}
