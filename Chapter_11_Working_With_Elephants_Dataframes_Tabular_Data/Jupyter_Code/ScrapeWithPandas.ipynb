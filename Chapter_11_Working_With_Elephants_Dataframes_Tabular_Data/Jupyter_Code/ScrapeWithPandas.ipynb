{
 "cells": [
  {
   "cell_type": "code",
   "id": "initial_id",
   "metadata": {
    "collapsed": true,
    "ExecuteTime": {
     "end_time": "2024-04-22T12:20:33.929455Z",
     "start_time": "2024-04-22T12:20:29.601017Z"
    }
   },
   "source": "%pip install pandas lxml --upgrade",
   "outputs": [
    {
     "name": "stdout",
     "output_type": "stream",
     "text": [
      "Requirement already satisfied: pandas in c:\\users\\romulo vieira\\appdata\\local\\programs\\python\\python312\\lib\\site-packages (2.2.2)Note: you may need to restart the kernel to use updated packages.\n",
      "\n",
      "Requirement already satisfied: lxml in c:\\users\\romulo vieira\\appdata\\local\\programs\\python\\python312\\lib\\site-packages (5.2.1)\n",
      "Requirement already satisfied: numpy>=1.26.0 in c:\\users\\romulo vieira\\appdata\\local\\programs\\python\\python312\\lib\\site-packages (from pandas) (1.26.4)\n",
      "Requirement already satisfied: python-dateutil>=2.8.2 in c:\\users\\romulo vieira\\appdata\\roaming\\python\\python312\\site-packages (from pandas) (2.9.0.post0)\n",
      "Requirement already satisfied: pytz>=2020.1 in c:\\users\\romulo vieira\\appdata\\local\\programs\\python\\python312\\lib\\site-packages (from pandas) (2024.1)\n",
      "Requirement already satisfied: tzdata>=2022.7 in c:\\users\\romulo vieira\\appdata\\local\\programs\\python\\python312\\lib\\site-packages (from pandas) (2024.1)\n",
      "Requirement already satisfied: six>=1.5 in c:\\users\\romulo vieira\\appdata\\local\\programs\\python\\python312\\lib\\site-packages (from python-dateutil>=2.8.2->pandas) (1.16.0)\n"
     ]
    }
   ],
   "execution_count": 1
  },
  {
   "metadata": {
    "ExecuteTime": {
     "end_time": "2024-04-22T12:20:47.731375Z",
     "start_time": "2024-04-22T12:20:45.267251Z"
    }
   },
   "cell_type": "code",
   "source": [
    "import pandas as pd\n",
    "\n",
    "URL = \"https://en.wikipedia.org/wiki/List_of_world_records_in_swimming\""
   ],
   "id": "200ee9ba75f807a5",
   "outputs": [],
   "execution_count": 2
  },
  {
   "metadata": {
    "ExecuteTime": {
     "end_time": "2024-04-22T12:20:49.137612Z",
     "start_time": "2024-04-22T12:20:47.732381Z"
    }
   },
   "cell_type": "code",
   "source": "tables = pd.read_html(URL)",
   "id": "2eec2992c7b2bc3",
   "outputs": [],
   "execution_count": 3
  },
  {
   "metadata": {
    "ExecuteTime": {
     "end_time": "2024-04-22T12:21:02.750445Z",
     "start_time": "2024-04-22T12:21:02.726764Z"
    }
   },
   "cell_type": "code",
   "source": "tables[0].head()",
   "id": "3ba847216438ee6",
   "outputs": [
    {
     "data": {
      "text/plain": [
       "            Event     Time Unnamed: 2             Name Nationality  \\\n",
       "0   50m freestyle    20.91         ss      César Cielo      Brazil   \n",
       "1  100m freestyle    46.80          r       Pan Zhanle       China   \n",
       "2  200m freestyle  1:42.00         ss  Paul Biedermann     Germany   \n",
       "3  400m freestyle  3:40.07         ss  Paul Biedermann     Germany   \n",
       "4  800m freestyle  7:32.12         ss        Zhang Lin       China   \n",
       "\n",
       "               Date                     Meet           Location  \\\n",
       "0  18 December 2009  Brazilian Championships  São Paulo, Brazil   \n",
       "1  11 February 2024      World Championships        Doha, Qatar   \n",
       "2      28 July 2009      World Championships        Rome, Italy   \n",
       "3      26 July 2009      World Championships        Rome, Italy   \n",
       "4      29 July 2009      World Championships        Rome, Italy   \n",
       "\n",
       "               Ref  \n",
       "0  [9][10][11][12]  \n",
       "1        [13] [14]  \n",
       "2     [15][16][17]  \n",
       "3     [18][19][20]  \n",
       "4         [21][22]  "
      ],
      "text/html": [
       "<div>\n",
       "<style scoped>\n",
       "    .dataframe tbody tr th:only-of-type {\n",
       "        vertical-align: middle;\n",
       "    }\n",
       "\n",
       "    .dataframe tbody tr th {\n",
       "        vertical-align: top;\n",
       "    }\n",
       "\n",
       "    .dataframe thead th {\n",
       "        text-align: right;\n",
       "    }\n",
       "</style>\n",
       "<table border=\"1\" class=\"dataframe\">\n",
       "  <thead>\n",
       "    <tr style=\"text-align: right;\">\n",
       "      <th></th>\n",
       "      <th>Event</th>\n",
       "      <th>Time</th>\n",
       "      <th>Unnamed: 2</th>\n",
       "      <th>Name</th>\n",
       "      <th>Nationality</th>\n",
       "      <th>Date</th>\n",
       "      <th>Meet</th>\n",
       "      <th>Location</th>\n",
       "      <th>Ref</th>\n",
       "    </tr>\n",
       "  </thead>\n",
       "  <tbody>\n",
       "    <tr>\n",
       "      <th>0</th>\n",
       "      <td>50m freestyle</td>\n",
       "      <td>20.91</td>\n",
       "      <td>ss</td>\n",
       "      <td>César Cielo</td>\n",
       "      <td>Brazil</td>\n",
       "      <td>18 December 2009</td>\n",
       "      <td>Brazilian Championships</td>\n",
       "      <td>São Paulo, Brazil</td>\n",
       "      <td>[9][10][11][12]</td>\n",
       "    </tr>\n",
       "    <tr>\n",
       "      <th>1</th>\n",
       "      <td>100m freestyle</td>\n",
       "      <td>46.80</td>\n",
       "      <td>r</td>\n",
       "      <td>Pan Zhanle</td>\n",
       "      <td>China</td>\n",
       "      <td>11 February 2024</td>\n",
       "      <td>World Championships</td>\n",
       "      <td>Doha, Qatar</td>\n",
       "      <td>[13] [14]</td>\n",
       "    </tr>\n",
       "    <tr>\n",
       "      <th>2</th>\n",
       "      <td>200m freestyle</td>\n",
       "      <td>1:42.00</td>\n",
       "      <td>ss</td>\n",
       "      <td>Paul Biedermann</td>\n",
       "      <td>Germany</td>\n",
       "      <td>28 July 2009</td>\n",
       "      <td>World Championships</td>\n",
       "      <td>Rome, Italy</td>\n",
       "      <td>[15][16][17]</td>\n",
       "    </tr>\n",
       "    <tr>\n",
       "      <th>3</th>\n",
       "      <td>400m freestyle</td>\n",
       "      <td>3:40.07</td>\n",
       "      <td>ss</td>\n",
       "      <td>Paul Biedermann</td>\n",
       "      <td>Germany</td>\n",
       "      <td>26 July 2009</td>\n",
       "      <td>World Championships</td>\n",
       "      <td>Rome, Italy</td>\n",
       "      <td>[18][19][20]</td>\n",
       "    </tr>\n",
       "    <tr>\n",
       "      <th>4</th>\n",
       "      <td>800m freestyle</td>\n",
       "      <td>7:32.12</td>\n",
       "      <td>ss</td>\n",
       "      <td>Zhang Lin</td>\n",
       "      <td>China</td>\n",
       "      <td>29 July 2009</td>\n",
       "      <td>World Championships</td>\n",
       "      <td>Rome, Italy</td>\n",
       "      <td>[21][22]</td>\n",
       "    </tr>\n",
       "  </tbody>\n",
       "</table>\n",
       "</div>"
      ]
     },
     "execution_count": 4,
     "metadata": {},
     "output_type": "execute_result"
    }
   ],
   "execution_count": 4
  },
  {
   "metadata": {
    "ExecuteTime": {
     "end_time": "2024-04-22T12:21:03.255010Z",
     "start_time": "2024-04-22T12:21:03.248498Z"
    }
   },
   "cell_type": "code",
   "source": "df = tables[0][[\"Event\", \"Time\"]]",
   "id": "f2dc5a428e5b87d2",
   "outputs": [],
   "execution_count": 5
  },
  {
   "metadata": {
    "ExecuteTime": {
     "end_time": "2024-04-22T12:21:03.865789Z",
     "start_time": "2024-04-22T12:21:03.855136Z"
    }
   },
   "cell_type": "code",
   "source": "df.head()",
   "id": "c611c4c2248a6f08",
   "outputs": [
    {
     "data": {
      "text/plain": [
       "            Event     Time\n",
       "0   50m freestyle    20.91\n",
       "1  100m freestyle    46.80\n",
       "2  200m freestyle  1:42.00\n",
       "3  400m freestyle  3:40.07\n",
       "4  800m freestyle  7:32.12"
      ],
      "text/html": [
       "<div>\n",
       "<style scoped>\n",
       "    .dataframe tbody tr th:only-of-type {\n",
       "        vertical-align: middle;\n",
       "    }\n",
       "\n",
       "    .dataframe tbody tr th {\n",
       "        vertical-align: top;\n",
       "    }\n",
       "\n",
       "    .dataframe thead th {\n",
       "        text-align: right;\n",
       "    }\n",
       "</style>\n",
       "<table border=\"1\" class=\"dataframe\">\n",
       "  <thead>\n",
       "    <tr style=\"text-align: right;\">\n",
       "      <th></th>\n",
       "      <th>Event</th>\n",
       "      <th>Time</th>\n",
       "    </tr>\n",
       "  </thead>\n",
       "  <tbody>\n",
       "    <tr>\n",
       "      <th>0</th>\n",
       "      <td>50m freestyle</td>\n",
       "      <td>20.91</td>\n",
       "    </tr>\n",
       "    <tr>\n",
       "      <th>1</th>\n",
       "      <td>100m freestyle</td>\n",
       "      <td>46.80</td>\n",
       "    </tr>\n",
       "    <tr>\n",
       "      <th>2</th>\n",
       "      <td>200m freestyle</td>\n",
       "      <td>1:42.00</td>\n",
       "    </tr>\n",
       "    <tr>\n",
       "      <th>3</th>\n",
       "      <td>400m freestyle</td>\n",
       "      <td>3:40.07</td>\n",
       "    </tr>\n",
       "    <tr>\n",
       "      <th>4</th>\n",
       "      <td>800m freestyle</td>\n",
       "      <td>7:32.12</td>\n",
       "    </tr>\n",
       "  </tbody>\n",
       "</table>\n",
       "</div>"
      ]
     },
     "execution_count": 6,
     "metadata": {},
     "output_type": "execute_result"
    }
   ],
   "execution_count": 6
  },
  {
   "metadata": {
    "ExecuteTime": {
     "end_time": "2024-04-22T12:21:04.407784Z",
     "start_time": "2024-04-22T12:21:04.395003Z"
    }
   },
   "cell_type": "code",
   "source": "df.to_dict()",
   "id": "77f1d769227cba5b",
   "outputs": [
    {
     "data": {
      "text/plain": [
       "{'Event': {0: '50m freestyle',\n",
       "  1: '100m freestyle',\n",
       "  2: '200m freestyle',\n",
       "  3: '400m freestyle',\n",
       "  4: '800m freestyle',\n",
       "  5: '1500m freestyle',\n",
       "  6: '50m backstroke',\n",
       "  7: '100m backstroke',\n",
       "  8: '200m backstroke',\n",
       "  9: '50m breaststroke',\n",
       "  10: '100m breaststroke',\n",
       "  11: '200m breaststroke',\n",
       "  12: '50m butterfly',\n",
       "  13: '100m butterfly',\n",
       "  14: '200m butterfly',\n",
       "  15: '200m individual medley',\n",
       "  16: '400m individual medley',\n",
       "  17: '4 × 100 m freestyle relay',\n",
       "  18: '4 × 200 m freestyle relay',\n",
       "  19: '4 × 100 m medley relay'},\n",
       " 'Time': {0: '20.91',\n",
       "  1: '46.80',\n",
       "  2: '1:42.00',\n",
       "  3: '3:40.07',\n",
       "  4: '7:32.12',\n",
       "  5: '14:31.02',\n",
       "  6: '23.55',\n",
       "  7: '51.60',\n",
       "  8: '1:51.92',\n",
       "  9: '25.95',\n",
       "  10: '56.88',\n",
       "  11: '2:05.48',\n",
       "  12: '22.27',\n",
       "  13: '49.45',\n",
       "  14: '1:50.34',\n",
       "  15: '1:54.00',\n",
       "  16: '4:02.50',\n",
       "  17: '3:08.24',\n",
       "  18: '6:58.55',\n",
       "  19: '3:26.78'}}"
      ]
     },
     "execution_count": 7,
     "metadata": {},
     "output_type": "execute_result"
    }
   ],
   "execution_count": 7
  },
  {
   "metadata": {
    "ExecuteTime": {
     "end_time": "2024-04-22T12:21:04.938756Z",
     "start_time": "2024-04-22T12:21:04.928720Z"
    }
   },
   "cell_type": "code",
   "source": "df.tail()",
   "id": "8973ac03935240af",
   "outputs": [
    {
     "data": {
      "text/plain": [
       "                        Event     Time\n",
       "15     200m individual medley  1:54.00\n",
       "16     400m individual medley  4:02.50\n",
       "17  4 × 100 m freestyle relay  3:08.24\n",
       "18  4 × 200 m freestyle relay  6:58.55\n",
       "19     4 × 100 m medley relay  3:26.78"
      ],
      "text/html": [
       "<div>\n",
       "<style scoped>\n",
       "    .dataframe tbody tr th:only-of-type {\n",
       "        vertical-align: middle;\n",
       "    }\n",
       "\n",
       "    .dataframe tbody tr th {\n",
       "        vertical-align: top;\n",
       "    }\n",
       "\n",
       "    .dataframe thead th {\n",
       "        text-align: right;\n",
       "    }\n",
       "</style>\n",
       "<table border=\"1\" class=\"dataframe\">\n",
       "  <thead>\n",
       "    <tr style=\"text-align: right;\">\n",
       "      <th></th>\n",
       "      <th>Event</th>\n",
       "      <th>Time</th>\n",
       "    </tr>\n",
       "  </thead>\n",
       "  <tbody>\n",
       "    <tr>\n",
       "      <th>15</th>\n",
       "      <td>200m individual medley</td>\n",
       "      <td>1:54.00</td>\n",
       "    </tr>\n",
       "    <tr>\n",
       "      <th>16</th>\n",
       "      <td>400m individual medley</td>\n",
       "      <td>4:02.50</td>\n",
       "    </tr>\n",
       "    <tr>\n",
       "      <th>17</th>\n",
       "      <td>4 × 100 m freestyle relay</td>\n",
       "      <td>3:08.24</td>\n",
       "    </tr>\n",
       "    <tr>\n",
       "      <th>18</th>\n",
       "      <td>4 × 200 m freestyle relay</td>\n",
       "      <td>6:58.55</td>\n",
       "    </tr>\n",
       "    <tr>\n",
       "      <th>19</th>\n",
       "      <td>4 × 100 m medley relay</td>\n",
       "      <td>3:26.78</td>\n",
       "    </tr>\n",
       "  </tbody>\n",
       "</table>\n",
       "</div>"
      ]
     },
     "execution_count": 8,
     "metadata": {},
     "output_type": "execute_result"
    }
   ],
   "execution_count": 8
  },
  {
   "metadata": {
    "ExecuteTime": {
     "end_time": "2024-04-22T12:21:05.907483Z",
     "start_time": "2024-04-22T12:21:05.897084Z"
    }
   },
   "cell_type": "code",
   "source": "df[df[\"Event\"].str.contains(\"relay\")]",
   "id": "6e241f611189f66b",
   "outputs": [
    {
     "data": {
      "text/plain": [
       "                        Event     Time\n",
       "17  4 × 100 m freestyle relay  3:08.24\n",
       "18  4 × 200 m freestyle relay  6:58.55\n",
       "19     4 × 100 m medley relay  3:26.78"
      ],
      "text/html": [
       "<div>\n",
       "<style scoped>\n",
       "    .dataframe tbody tr th:only-of-type {\n",
       "        vertical-align: middle;\n",
       "    }\n",
       "\n",
       "    .dataframe tbody tr th {\n",
       "        vertical-align: top;\n",
       "    }\n",
       "\n",
       "    .dataframe thead th {\n",
       "        text-align: right;\n",
       "    }\n",
       "</style>\n",
       "<table border=\"1\" class=\"dataframe\">\n",
       "  <thead>\n",
       "    <tr style=\"text-align: right;\">\n",
       "      <th></th>\n",
       "      <th>Event</th>\n",
       "      <th>Time</th>\n",
       "    </tr>\n",
       "  </thead>\n",
       "  <tbody>\n",
       "    <tr>\n",
       "      <th>17</th>\n",
       "      <td>4 × 100 m freestyle relay</td>\n",
       "      <td>3:08.24</td>\n",
       "    </tr>\n",
       "    <tr>\n",
       "      <th>18</th>\n",
       "      <td>4 × 200 m freestyle relay</td>\n",
       "      <td>6:58.55</td>\n",
       "    </tr>\n",
       "    <tr>\n",
       "      <th>19</th>\n",
       "      <td>4 × 100 m medley relay</td>\n",
       "      <td>3:26.78</td>\n",
       "    </tr>\n",
       "  </tbody>\n",
       "</table>\n",
       "</div>"
      ]
     },
     "execution_count": 9,
     "metadata": {},
     "output_type": "execute_result"
    }
   ],
   "execution_count": 9
  },
  {
   "metadata": {
    "ExecuteTime": {
     "end_time": "2024-04-22T12:21:06.395314Z",
     "start_time": "2024-04-22T12:21:06.381323Z"
    }
   },
   "cell_type": "code",
   "source": "df[~df[\"Event\"].str.contains(\"relay\")]",
   "id": "6b4b42b15912620b",
   "outputs": [
    {
     "data": {
      "text/plain": [
       "                     Event      Time\n",
       "0            50m freestyle     20.91\n",
       "1           100m freestyle     46.80\n",
       "2           200m freestyle   1:42.00\n",
       "3           400m freestyle   3:40.07\n",
       "4           800m freestyle   7:32.12\n",
       "5          1500m freestyle  14:31.02\n",
       "6           50m backstroke     23.55\n",
       "7          100m backstroke     51.60\n",
       "8          200m backstroke   1:51.92\n",
       "9         50m breaststroke     25.95\n",
       "10       100m breaststroke     56.88\n",
       "11       200m breaststroke   2:05.48\n",
       "12           50m butterfly     22.27\n",
       "13          100m butterfly     49.45\n",
       "14          200m butterfly   1:50.34\n",
       "15  200m individual medley   1:54.00\n",
       "16  400m individual medley   4:02.50"
      ],
      "text/html": [
       "<div>\n",
       "<style scoped>\n",
       "    .dataframe tbody tr th:only-of-type {\n",
       "        vertical-align: middle;\n",
       "    }\n",
       "\n",
       "    .dataframe tbody tr th {\n",
       "        vertical-align: top;\n",
       "    }\n",
       "\n",
       "    .dataframe thead th {\n",
       "        text-align: right;\n",
       "    }\n",
       "</style>\n",
       "<table border=\"1\" class=\"dataframe\">\n",
       "  <thead>\n",
       "    <tr style=\"text-align: right;\">\n",
       "      <th></th>\n",
       "      <th>Event</th>\n",
       "      <th>Time</th>\n",
       "    </tr>\n",
       "  </thead>\n",
       "  <tbody>\n",
       "    <tr>\n",
       "      <th>0</th>\n",
       "      <td>50m freestyle</td>\n",
       "      <td>20.91</td>\n",
       "    </tr>\n",
       "    <tr>\n",
       "      <th>1</th>\n",
       "      <td>100m freestyle</td>\n",
       "      <td>46.80</td>\n",
       "    </tr>\n",
       "    <tr>\n",
       "      <th>2</th>\n",
       "      <td>200m freestyle</td>\n",
       "      <td>1:42.00</td>\n",
       "    </tr>\n",
       "    <tr>\n",
       "      <th>3</th>\n",
       "      <td>400m freestyle</td>\n",
       "      <td>3:40.07</td>\n",
       "    </tr>\n",
       "    <tr>\n",
       "      <th>4</th>\n",
       "      <td>800m freestyle</td>\n",
       "      <td>7:32.12</td>\n",
       "    </tr>\n",
       "    <tr>\n",
       "      <th>5</th>\n",
       "      <td>1500m freestyle</td>\n",
       "      <td>14:31.02</td>\n",
       "    </tr>\n",
       "    <tr>\n",
       "      <th>6</th>\n",
       "      <td>50m backstroke</td>\n",
       "      <td>23.55</td>\n",
       "    </tr>\n",
       "    <tr>\n",
       "      <th>7</th>\n",
       "      <td>100m backstroke</td>\n",
       "      <td>51.60</td>\n",
       "    </tr>\n",
       "    <tr>\n",
       "      <th>8</th>\n",
       "      <td>200m backstroke</td>\n",
       "      <td>1:51.92</td>\n",
       "    </tr>\n",
       "    <tr>\n",
       "      <th>9</th>\n",
       "      <td>50m breaststroke</td>\n",
       "      <td>25.95</td>\n",
       "    </tr>\n",
       "    <tr>\n",
       "      <th>10</th>\n",
       "      <td>100m breaststroke</td>\n",
       "      <td>56.88</td>\n",
       "    </tr>\n",
       "    <tr>\n",
       "      <th>11</th>\n",
       "      <td>200m breaststroke</td>\n",
       "      <td>2:05.48</td>\n",
       "    </tr>\n",
       "    <tr>\n",
       "      <th>12</th>\n",
       "      <td>50m butterfly</td>\n",
       "      <td>22.27</td>\n",
       "    </tr>\n",
       "    <tr>\n",
       "      <th>13</th>\n",
       "      <td>100m butterfly</td>\n",
       "      <td>49.45</td>\n",
       "    </tr>\n",
       "    <tr>\n",
       "      <th>14</th>\n",
       "      <td>200m butterfly</td>\n",
       "      <td>1:50.34</td>\n",
       "    </tr>\n",
       "    <tr>\n",
       "      <th>15</th>\n",
       "      <td>200m individual medley</td>\n",
       "      <td>1:54.00</td>\n",
       "    </tr>\n",
       "    <tr>\n",
       "      <th>16</th>\n",
       "      <td>400m individual medley</td>\n",
       "      <td>4:02.50</td>\n",
       "    </tr>\n",
       "  </tbody>\n",
       "</table>\n",
       "</div>"
      ]
     },
     "execution_count": 10,
     "metadata": {},
     "output_type": "execute_result"
    }
   ],
   "execution_count": 10
  },
  {
   "metadata": {
    "ExecuteTime": {
     "end_time": "2024-04-22T12:21:07.088155Z",
     "start_time": "2024-04-22T12:21:07.082621Z"
    }
   },
   "cell_type": "code",
   "source": "df = df[~df[\"Event\"].str.contains(\"relay\")]",
   "id": "c02733bf834391cf",
   "outputs": [],
   "execution_count": 11
  },
  {
   "metadata": {
    "ExecuteTime": {
     "end_time": "2024-04-22T12:21:07.965982Z",
     "start_time": "2024-04-22T12:21:07.957121Z"
    }
   },
   "cell_type": "code",
   "source": "df.to_dict(\"records\")",
   "id": "a0356c3656accae5",
   "outputs": [
    {
     "data": {
      "text/plain": [
       "[{'Event': '50m freestyle', 'Time': '20.91'},\n",
       " {'Event': '100m freestyle', 'Time': '46.80'},\n",
       " {'Event': '200m freestyle', 'Time': '1:42.00'},\n",
       " {'Event': '400m freestyle', 'Time': '3:40.07'},\n",
       " {'Event': '800m freestyle', 'Time': '7:32.12'},\n",
       " {'Event': '1500m freestyle', 'Time': '14:31.02'},\n",
       " {'Event': '50m backstroke', 'Time': '23.55'},\n",
       " {'Event': '100m backstroke', 'Time': '51.60'},\n",
       " {'Event': '200m backstroke', 'Time': '1:51.92'},\n",
       " {'Event': '50m breaststroke', 'Time': '25.95'},\n",
       " {'Event': '100m breaststroke', 'Time': '56.88'},\n",
       " {'Event': '200m breaststroke', 'Time': '2:05.48'},\n",
       " {'Event': '50m butterfly', 'Time': '22.27'},\n",
       " {'Event': '100m butterfly', 'Time': '49.45'},\n",
       " {'Event': '200m butterfly', 'Time': '1:50.34'},\n",
       " {'Event': '200m individual medley', 'Time': '1:54.00'},\n",
       " {'Event': '400m individual medley', 'Time': '4:02.50'}]"
      ]
     },
     "execution_count": 12,
     "metadata": {},
     "output_type": "execute_result"
    }
   ],
   "execution_count": 12
  },
  {
   "metadata": {
    "ExecuteTime": {
     "end_time": "2024-04-22T12:21:08.853389Z",
     "start_time": "2024-04-22T12:21:08.848456Z"
    }
   },
   "cell_type": "code",
   "source": "df = df.set_index(\"Event\")",
   "id": "755acc32fa9a41e5",
   "outputs": [],
   "execution_count": 13
  },
  {
   "metadata": {
    "ExecuteTime": {
     "end_time": "2024-04-22T12:21:09.609457Z",
     "start_time": "2024-04-22T12:21:09.598934Z"
    }
   },
   "cell_type": "code",
   "source": "df.head()",
   "id": "4bf1a0f782c88251",
   "outputs": [
    {
     "data": {
      "text/plain": [
       "                   Time\n",
       "Event                  \n",
       "50m freestyle     20.91\n",
       "100m freestyle    46.80\n",
       "200m freestyle  1:42.00\n",
       "400m freestyle  3:40.07\n",
       "800m freestyle  7:32.12"
      ],
      "text/html": [
       "<div>\n",
       "<style scoped>\n",
       "    .dataframe tbody tr th:only-of-type {\n",
       "        vertical-align: middle;\n",
       "    }\n",
       "\n",
       "    .dataframe tbody tr th {\n",
       "        vertical-align: top;\n",
       "    }\n",
       "\n",
       "    .dataframe thead th {\n",
       "        text-align: right;\n",
       "    }\n",
       "</style>\n",
       "<table border=\"1\" class=\"dataframe\">\n",
       "  <thead>\n",
       "    <tr style=\"text-align: right;\">\n",
       "      <th></th>\n",
       "      <th>Time</th>\n",
       "    </tr>\n",
       "    <tr>\n",
       "      <th>Event</th>\n",
       "      <th></th>\n",
       "    </tr>\n",
       "  </thead>\n",
       "  <tbody>\n",
       "    <tr>\n",
       "      <th>50m freestyle</th>\n",
       "      <td>20.91</td>\n",
       "    </tr>\n",
       "    <tr>\n",
       "      <th>100m freestyle</th>\n",
       "      <td>46.80</td>\n",
       "    </tr>\n",
       "    <tr>\n",
       "      <th>200m freestyle</th>\n",
       "      <td>1:42.00</td>\n",
       "    </tr>\n",
       "    <tr>\n",
       "      <th>400m freestyle</th>\n",
       "      <td>3:40.07</td>\n",
       "    </tr>\n",
       "    <tr>\n",
       "      <th>800m freestyle</th>\n",
       "      <td>7:32.12</td>\n",
       "    </tr>\n",
       "  </tbody>\n",
       "</table>\n",
       "</div>"
      ]
     },
     "execution_count": 14,
     "metadata": {},
     "output_type": "execute_result"
    }
   ],
   "execution_count": 14
  },
  {
   "metadata": {
    "ExecuteTime": {
     "end_time": "2024-04-22T12:21:10.588627Z",
     "start_time": "2024-04-22T12:21:10.581721Z"
    }
   },
   "cell_type": "code",
   "source": "df.to_dict()",
   "id": "bec8971564fe89e4",
   "outputs": [
    {
     "data": {
      "text/plain": [
       "{'Time': {'50m freestyle': '20.91',\n",
       "  '100m freestyle': '46.80',\n",
       "  '200m freestyle': '1:42.00',\n",
       "  '400m freestyle': '3:40.07',\n",
       "  '800m freestyle': '7:32.12',\n",
       "  '1500m freestyle': '14:31.02',\n",
       "  '50m backstroke': '23.55',\n",
       "  '100m backstroke': '51.60',\n",
       "  '200m backstroke': '1:51.92',\n",
       "  '50m breaststroke': '25.95',\n",
       "  '100m breaststroke': '56.88',\n",
       "  '200m breaststroke': '2:05.48',\n",
       "  '50m butterfly': '22.27',\n",
       "  '100m butterfly': '49.45',\n",
       "  '200m butterfly': '1:50.34',\n",
       "  '200m individual medley': '1:54.00',\n",
       "  '400m individual medley': '4:02.50'}}"
      ]
     },
     "execution_count": 15,
     "metadata": {},
     "output_type": "execute_result"
    }
   ],
   "execution_count": 15
  },
  {
   "metadata": {
    "ExecuteTime": {
     "end_time": "2024-04-22T12:21:11.539307Z",
     "start_time": "2024-04-22T12:21:11.532640Z"
    }
   },
   "cell_type": "code",
   "source": [
    "records = {}\n",
    "records[\"LC Men\"] = df.to_dict()[\"Time\"]"
   ],
   "id": "d87678a647831957",
   "outputs": [],
   "execution_count": 16
  },
  {
   "metadata": {
    "ExecuteTime": {
     "end_time": "2024-04-22T12:21:12.259554Z",
     "start_time": "2024-04-22T12:21:12.252565Z"
    }
   },
   "cell_type": "code",
   "source": "records",
   "id": "b03f4f5780cd5379",
   "outputs": [
    {
     "data": {
      "text/plain": [
       "{'LC Men': {'50m freestyle': '20.91',\n",
       "  '100m freestyle': '46.80',\n",
       "  '200m freestyle': '1:42.00',\n",
       "  '400m freestyle': '3:40.07',\n",
       "  '800m freestyle': '7:32.12',\n",
       "  '1500m freestyle': '14:31.02',\n",
       "  '50m backstroke': '23.55',\n",
       "  '100m backstroke': '51.60',\n",
       "  '200m backstroke': '1:51.92',\n",
       "  '50m breaststroke': '25.95',\n",
       "  '100m breaststroke': '56.88',\n",
       "  '200m breaststroke': '2:05.48',\n",
       "  '50m butterfly': '22.27',\n",
       "  '100m butterfly': '49.45',\n",
       "  '200m butterfly': '1:50.34',\n",
       "  '200m individual medley': '1:54.00',\n",
       "  '400m individual medley': '4:02.50'}}"
      ]
     },
     "execution_count": 17,
     "metadata": {},
     "output_type": "execute_result"
    }
   ],
   "execution_count": 17
  },
  {
   "metadata": {
    "ExecuteTime": {
     "end_time": "2024-04-22T12:21:12.988970Z",
     "start_time": "2024-04-22T12:21:12.982926Z"
    }
   },
   "cell_type": "code",
   "source": [
    "RECORDS = (0, 2, 4, 5)\n",
    "COURSES = (\"LC Men\", \"LC Women\", \"SC Men\", \"SC Women\")"
   ],
   "id": "c1769450e518a86d",
   "outputs": [],
   "execution_count": 18
  },
  {
   "metadata": {
    "ExecuteTime": {
     "end_time": "2024-04-22T12:21:13.996473Z",
     "start_time": "2024-04-22T12:21:13.983160Z"
    }
   },
   "cell_type": "code",
   "source": [
    "records = {}\n",
    "for table, course in zip(RECORDS, COURSES):\n",
    "    df = tables[table][[\"Event\", \"Time\"]]\n",
    "    df = df[~df[\"Event\"].str.contains(\"relay\")]\n",
    "    df = df.set_index(\"Event\")\n",
    "    records[course] = df.to_dict()[\"Time\"]"
   ],
   "id": "4577da758faae109",
   "outputs": [],
   "execution_count": 19
  },
  {
   "metadata": {
    "ExecuteTime": {
     "end_time": "2024-04-22T12:21:15.385390Z",
     "start_time": "2024-04-22T12:21:15.375966Z"
    }
   },
   "cell_type": "code",
   "source": "records",
   "id": "96192e8844e98b04",
   "outputs": [
    {
     "data": {
      "text/plain": [
       "{'LC Men': {'50m freestyle': '20.91',\n",
       "  '100m freestyle': '46.80',\n",
       "  '200m freestyle': '1:42.00',\n",
       "  '400m freestyle': '3:40.07',\n",
       "  '800m freestyle': '7:32.12',\n",
       "  '1500m freestyle': '14:31.02',\n",
       "  '50m backstroke': '23.55',\n",
       "  '100m backstroke': '51.60',\n",
       "  '200m backstroke': '1:51.92',\n",
       "  '50m breaststroke': '25.95',\n",
       "  '100m breaststroke': '56.88',\n",
       "  '200m breaststroke': '2:05.48',\n",
       "  '50m butterfly': '22.27',\n",
       "  '100m butterfly': '49.45',\n",
       "  '200m butterfly': '1:50.34',\n",
       "  '200m individual medley': '1:54.00',\n",
       "  '400m individual medley': '4:02.50'},\n",
       " 'LC Women': {'50m freestyle': '23.61',\n",
       "  '100m freestyle': '51.71',\n",
       "  '200m freestyle': '1:52.85',\n",
       "  '400m freestyle': '3:55.38',\n",
       "  '800m freestyle': '8:04.79',\n",
       "  '1500m freestyle': '15:20.48',\n",
       "  '50m backstroke': '26.86',\n",
       "  '100m backstroke': '57.33',\n",
       "  '200m backstroke': '2:03.14',\n",
       "  '50m breaststroke': '29.16',\n",
       "  '100m breaststroke': '1:04.13',\n",
       "  '200m breaststroke': '2:17.55',\n",
       "  '50m butterfly': '24.43',\n",
       "  '100m butterfly': '55.48',\n",
       "  '200m butterfly': '2:01.81',\n",
       "  '200m individual medley': '2:06.12',\n",
       "  '400m individual medley': '4:25.87'},\n",
       " 'SC Men': {'50m freestyle': '20.16',\n",
       "  '100m freestyle': '44.84',\n",
       "  '200m freestyle': '1:39.37',\n",
       "  '400m freestyle': '3:32.25',\n",
       "  '800m freestyle': '7:20.46',\n",
       "  '1500m freestyle': '14:06.88',\n",
       "  '50m backstroke': '22.11',\n",
       "  '100m backstroke': '48.33',\n",
       "  '200m backstroke': '1:45.63',\n",
       "  '50m breaststroke': '24.95',\n",
       "  '100m breaststroke': '55.28',\n",
       "  '200m breaststroke': '2:00.16',\n",
       "  '50m butterfly': '21.75',\n",
       "  '100m butterfly': '47.78',\n",
       "  '200m butterfly': '1:46.85',\n",
       "  '100m individual medley': '49.28',\n",
       "  '200m individual medley': '1:49.63',\n",
       "  '400m individual medley': '3:54.81'},\n",
       " 'SC Women': {'50m freestyle': '22.93',\n",
       "  '100m freestyle': '50.25',\n",
       "  '200m freestyle': '1:50.31',\n",
       "  '400m freestyle': '3:51.30',\n",
       "  '800m freestyle': '7:57.42',\n",
       "  '1500m freestyle': '15:08.24',\n",
       "  '50m backstroke': '25.25',\n",
       "  '100m backstroke': '54.89',\n",
       "  '200m backstroke': '1:58.94',\n",
       "  '50m breaststroke': '28.37',\n",
       "  '100m breaststroke': '1:02.36',\n",
       "  '200m breaststroke': '2:14.57',\n",
       "  '50m butterfly': '24.38',\n",
       "  '100m butterfly': '54.05',\n",
       "  '200m butterfly': '1:59.61',\n",
       "  '100m individual medley': '56.51',\n",
       "  '200m individual medley': '2:01.86',\n",
       "  '400m individual medley': '4:18.94'}}"
      ]
     },
     "execution_count": 20,
     "metadata": {},
     "output_type": "execute_result"
    }
   ],
   "execution_count": 20
  },
  {
   "metadata": {
    "ExecuteTime": {
     "end_time": "2024-04-22T12:21:16.360512Z",
     "start_time": "2024-04-22T12:21:16.318163Z"
    }
   },
   "cell_type": "code",
   "source": [
    "import json\n",
    "\n",
    "with open(\"records.json\") as jf:\n",
    "    gazpacho_records = json.load(jf)"
   ],
   "id": "4b4ba82b4175bdb",
   "outputs": [],
   "execution_count": 21
  },
  {
   "metadata": {
    "ExecuteTime": {
     "end_time": "2024-04-22T12:21:17.504626Z",
     "start_time": "2024-04-22T12:21:17.498422Z"
    }
   },
   "cell_type": "code",
   "source": "records == gazpacho_records",
   "id": "4d06cb5e602d54dd",
   "outputs": [
    {
     "data": {
      "text/plain": [
       "True"
      ]
     },
     "execution_count": 22,
     "metadata": {},
     "output_type": "execute_result"
    }
   ],
   "execution_count": 22
  },
  {
   "metadata": {
    "ExecuteTime": {
     "end_time": "2024-04-22T12:21:18.458925Z",
     "start_time": "2024-04-22T12:21:18.452405Z"
    }
   },
   "cell_type": "code",
   "source": "records[\"SC Women\"][\"100m butterfly\"]",
   "id": "85252be8a6d27555",
   "outputs": [
    {
     "data": {
      "text/plain": [
       "'54.05'"
      ]
     },
     "execution_count": 23,
     "metadata": {},
     "output_type": "execute_result"
    }
   ],
   "execution_count": 23
  },
  {
   "metadata": {
    "ExecuteTime": {
     "end_time": "2024-04-22T12:21:19.158322Z",
     "start_time": "2024-04-22T12:21:19.150931Z"
    }
   },
   "cell_type": "code",
   "source": "gazpacho_records[\"SC Women\"][\"100m butterfly\"]",
   "id": "39c1fe29dce834fa",
   "outputs": [
    {
     "data": {
      "text/plain": [
       "'54.05'"
      ]
     },
     "execution_count": 24,
     "metadata": {},
     "output_type": "execute_result"
    }
   ],
   "execution_count": 24
  }
 ],
 "metadata": {
  "kernelspec": {
   "display_name": "Python 3",
   "language": "python",
   "name": "python3"
  },
  "language_info": {
   "codemirror_mode": {
    "name": "ipython",
    "version": 2
   },
   "file_extension": ".py",
   "mimetype": "text/x-python",
   "name": "python",
   "nbconvert_exporter": "python",
   "pygments_lexer": "ipython2",
   "version": "2.7.6"
  }
 },
 "nbformat": 4,
 "nbformat_minor": 5
}
