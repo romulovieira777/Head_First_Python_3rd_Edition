{
 "cells": [
  {
   "cell_type": "code",
   "id": "initial_id",
   "metadata": {
    "collapsed": true,
    "ExecuteTime": {
     "end_time": "2024-04-23T11:44:21.310439Z",
     "start_time": "2024-04-23T11:44:21.303845Z"
    }
   },
   "source": [
    "fn = 'Abi-10-100m-Back.txt'\n",
    "name, age, distance, stroke = fn.removesuffix('.txt').split('-')"
   ],
   "outputs": [],
   "execution_count": 1
  },
  {
   "metadata": {
    "ExecuteTime": {
     "end_time": "2024-04-23T11:44:23.200505Z",
     "start_time": "2024-04-23T11:44:23.191195Z"
    }
   },
   "cell_type": "code",
   "source": "name, age",
   "id": "20099e4c77182747",
   "outputs": [
    {
     "data": {
      "text/plain": [
       "('Abi', '10')"
      ]
     },
     "execution_count": 2,
     "metadata": {},
     "output_type": "execute_result"
    }
   ],
   "execution_count": 2
  },
  {
   "metadata": {
    "ExecuteTime": {
     "end_time": "2024-04-23T11:44:26.026801Z",
     "start_time": "2024-04-23T11:44:26.021019Z"
    }
   },
   "cell_type": "code",
   "source": "distance, stroke",
   "id": "2b0db46da2c16f61",
   "outputs": [
    {
     "data": {
      "text/plain": [
       "('100m', 'Back')"
      ]
     },
     "execution_count": 3,
     "metadata": {},
     "output_type": "execute_result"
    }
   ],
   "execution_count": 3
  },
  {
   "metadata": {
    "ExecuteTime": {
     "end_time": "2024-04-23T11:44:29.088379Z",
     "start_time": "2024-04-23T11:44:29.084482Z"
    }
   },
   "cell_type": "code",
   "source": [
    "import os\n",
    "\n",
    "\n",
    "FOLDER = \"../swimdata/\"\n",
    "\n",
    "files = os.listdir(FOLDER)\n",
    "# files.remove('.DS_Store')"
   ],
   "id": "dc657ebf27b4a172",
   "outputs": [],
   "execution_count": 4
  },
  {
   "metadata": {
    "ExecuteTime": {
     "end_time": "2024-04-23T11:44:35.013982Z",
     "start_time": "2024-04-23T11:44:35.007162Z"
    }
   },
   "cell_type": "code",
   "source": [
    "first = files[0]\n",
    "print(first)\n",
    "\n",
    "name, age, _, _ = first.removesuffix('.txt').split('-')\n",
    "name, age"
   ],
   "id": "3fcb5349251b1637",
   "outputs": [
    {
     "name": "stdout",
     "output_type": "stream",
     "text": [
      "Abi-10-100m-Back.txt\n"
     ]
    },
    {
     "data": {
      "text/plain": [
       "('Abi', '10')"
      ]
     },
     "execution_count": 5,
     "metadata": {},
     "output_type": "execute_result"
    }
   ],
   "execution_count": 5
  },
  {
   "metadata": {
    "ExecuteTime": {
     "end_time": "2024-04-23T11:44:42.117371Z",
     "start_time": "2024-04-23T11:44:42.112837Z"
    }
   },
   "cell_type": "code",
   "source": [
    "# Don't be tempted to do this (i.e., don't use an f-string here).\n",
    "SQL = f\"\"\"\n",
    "    INSERT INTO swimmers (name, age) VALUES ('{name}', {age});\n",
    "\"\"\"\n",
    "\n",
    "print(SQL)"
   ],
   "id": "5bbe41fd4b5f4365",
   "outputs": [
    {
     "name": "stdout",
     "output_type": "stream",
     "text": [
      "\n",
      "    INSERT INTO swimmers (name, age) VALUES ('Abi', 10);\n",
      "\n"
     ]
    }
   ],
   "execution_count": 6
  },
  {
   "metadata": {
    "ExecuteTime": {
     "end_time": "2024-04-23T11:44:47.178664Z",
     "start_time": "2024-04-23T11:44:47.076876Z"
    }
   },
   "cell_type": "code",
   "source": [
    "import DBcm\n",
    "\n",
    "\n",
    "db_details = \"CoachDB.sqlite3\""
   ],
   "id": "e687a8c8e1a1c511",
   "outputs": [],
   "execution_count": 7
  },
  {
   "metadata": {
    "ExecuteTime": {
     "end_time": "2024-04-23T11:44:50.969676Z",
     "start_time": "2024-04-23T11:44:50.965404Z"
    }
   },
   "cell_type": "code",
   "source": [
    "SQL_INSERT = \"\"\"\n",
    "    INSERT INTO swimmers (name, age) VALUES (?, ?);\n",
    "\"\"\"\n",
    "\n",
    "print(SQL_INSERT)"
   ],
   "id": "599d10eacccb32dd",
   "outputs": [
    {
     "name": "stdout",
     "output_type": "stream",
     "text": [
      "\n",
      "    INSERT INTO swimmers (name, age) VALUES (?, ?);\n",
      "\n"
     ]
    }
   ],
   "execution_count": 8
  },
  {
   "metadata": {
    "ExecuteTime": {
     "end_time": "2024-04-23T11:44:55.630828Z",
     "start_time": "2024-04-23T11:44:55.420534Z"
    }
   },
   "cell_type": "code",
   "source": [
    "with DBcm.UseDatabase(db_details) as db:\n",
    "    db.execute(SQL_INSERT, (name, age,))"
   ],
   "id": "44156985231d7627",
   "outputs": [],
   "execution_count": 9
  },
  {
   "metadata": {
    "ExecuteTime": {
     "end_time": "2024-04-23T11:45:00.006804Z",
     "start_time": "2024-04-23T11:44:59.999322Z"
    }
   },
   "cell_type": "code",
   "source": [
    "SQL = \"\"\"\n",
    "    SELECT * FROM swimmers\n",
    "\"\"\"\n",
    "\n",
    "with DBcm.UseDatabase(db_details) as db:\n",
    "    db.execute(SQL)\n",
    "    results = db.fetchall()\n",
    "\n",
    "results"
   ],
   "id": "e77fb88e36823f79",
   "outputs": [
    {
     "data": {
      "text/plain": [
       "[(1, 'Abi', 10)]"
      ]
     },
     "execution_count": 10,
     "metadata": {},
     "output_type": "execute_result"
    }
   ],
   "execution_count": 10
  },
  {
   "metadata": {
    "ExecuteTime": {
     "end_time": "2024-04-23T11:45:26.733053Z",
     "start_time": "2024-04-23T11:45:26.531665Z"
    }
   },
   "cell_type": "code",
   "source": [
    "SQL = \"\"\"\n",
    "    DELETE FROM swimmers\n",
    "\"\"\"\n",
    "\n",
    "with DBcm.UseDatabase(db_details) as db:\n",
    "    db.execute(SQL)"
   ],
   "id": "e0d327927d3f2157",
   "outputs": [],
   "execution_count": 11
  },
  {
   "metadata": {
    "ExecuteTime": {
     "end_time": "2024-04-23T11:45:27.993734Z",
     "start_time": "2024-04-23T11:45:27.987201Z"
    }
   },
   "cell_type": "code",
   "source": [
    "SQL = \"\"\"\n",
    "    SELECT * FROM swimmers\n",
    "\"\"\"\n",
    "\n",
    "with DBcm.UseDatabase(db_details) as db:\n",
    "    db.execute(SQL)\n",
    "    results = db.fetchall()\n",
    "\n",
    "results"
   ],
   "id": "f94a7b24731e9579",
   "outputs": [
    {
     "data": {
      "text/plain": [
       "[]"
      ]
     },
     "execution_count": 12,
     "metadata": {},
     "output_type": "execute_result"
    }
   ],
   "execution_count": 12
  },
  {
   "metadata": {
    "ExecuteTime": {
     "end_time": "2024-04-23T11:46:13.728243Z",
     "start_time": "2024-04-23T11:46:13.607325Z"
    }
   },
   "cell_type": "code",
   "source": [
    "SQL = \"\"\"\n",
    "    DELETE FROM swimmers\n",
    "\"\"\"\n",
    "\n",
    "with DBcm.UseDatabase(db_details) as db:\n",
    "    db.execute(SQL)"
   ],
   "id": "6bf377491e057143",
   "outputs": [],
   "execution_count": 13
  },
  {
   "metadata": {
    "ExecuteTime": {
     "end_time": "2024-04-23T11:46:46.091499Z",
     "start_time": "2024-04-23T11:46:45.859569Z"
    }
   },
   "cell_type": "code",
   "source": [
    "import os\n",
    "import DBcm\n",
    "\n",
    "\n",
    "db_details = \"CoachDB.sqlite3\"\n",
    "\n",
    "FOLDER = \"../swimdata/\"\n",
    "\n",
    "files = os.listdir(FOLDER)\n",
    "# files.remove('.DS_Store')\n",
    "\n",
    "SQL_INSERT = \"\"\"\n",
    "    INSERT INTO swimmers (name, age) VALUES (?, ?);\n",
    "\"\"\"\n",
    "\n",
    "with DBcm.UseDatabase(db_details) as db:\n",
    "    for fn in files:\n",
    "        name, age, _, _ = fn.removesuffix('.txt').split('-')\n",
    "        db.execute(SQL_INSERT, (name, age,))"
   ],
   "id": "4f7cbce39e1d1b3a",
   "outputs": [],
   "execution_count": 14
  },
  {
   "metadata": {
    "ExecuteTime": {
     "end_time": "2024-04-23T11:47:08.677239Z",
     "start_time": "2024-04-23T11:47:08.478943Z"
    }
   },
   "cell_type": "code",
   "source": [
    "SQL = \"\"\"\n",
    "    DELETE FROM swimmers\n",
    "\"\"\"\n",
    "\n",
    "with DBcm.UseDatabase(db_details) as db:\n",
    "    db.execute(SQL)"
   ],
   "id": "e631a9d4f94dceb3",
   "outputs": [],
   "execution_count": 15
  },
  {
   "metadata": {
    "ExecuteTime": {
     "end_time": "2024-04-23T11:47:17.925436Z",
     "start_time": "2024-04-23T11:47:17.743555Z"
    }
   },
   "cell_type": "code",
   "source": [
    "import os\n",
    "import DBcm\n",
    "\n",
    "\n",
    "db_details = \"CoachDB.sqlite3\"\n",
    "\n",
    "FOLDER = \"../swimdata/\"\n",
    "\n",
    "files = os.listdir(FOLDER)\n",
    "# files.remove('.DS_Store')\n",
    "\n",
    "SQL_SELECT = \"\"\"\n",
    "    SELECT * FROM swimmers WHERE name = ? and age = ?;\n",
    "\"\"\"\n",
    "\n",
    "SQL_INSERT = \"\"\"\n",
    "    INSERT INTO swimmers (name, age) VALUES (?, ?);\n",
    "\"\"\"\n",
    "\n",
    "with DBcm.UseDatabase(db_details) as db:\n",
    "    for fn in files:\n",
    "        name, age, _, _ = fn.removesuffix('.txt').split('-')\n",
    "        db.execute(SQL_SELECT, (name, age,))\n",
    "        if db.fetchall():\n",
    "            continue\n",
    "        db.execute(SQL_INSERT, (name, age,))"
   ],
   "id": "37a2aa7b5d5b9428",
   "outputs": [],
   "execution_count": 16
  },
  {
   "metadata": {
    "ExecuteTime": {
     "end_time": "2024-04-23T11:47:27.930288Z",
     "start_time": "2024-04-23T11:47:27.763556Z"
    }
   },
   "cell_type": "code",
   "source": [
    "import os\n",
    "import DBcm\n",
    "\n",
    "\n",
    "db_details = \"CoachDB.sqlite3\"\n",
    "\n",
    "FOLDER = \"../swimdata/\"\n",
    "\n",
    "files = os.listdir(FOLDER)\n",
    "# files.remove('.DS_Store')\n",
    "\n",
    "SQL_SELECT = \"\"\"\n",
    "    SELECT * FROM events WHERE distance = ? and stroke = ?;\n",
    "\"\"\"\n",
    "\n",
    "SQL_INSERT = \"\"\"\n",
    "    INSERT INTO events (distance, stroke) VALUES (?, ?);\n",
    "\"\"\"\n",
    "\n",
    "with DBcm.UseDatabase(db_details) as db:\n",
    "    for fn in files:\n",
    "        _, _, distance, stroke = fn.removesuffix('.txt').split('-')\n",
    "        db.execute(SQL_SELECT, (distance, stroke,))\n",
    "        if db.fetchall():\n",
    "            continue\n",
    "        db.execute(SQL_INSERT, (distance, stroke,))"
   ],
   "id": "c3c1c50a9c92e2f2",
   "outputs": [],
   "execution_count": 17
  },
  {
   "metadata": {
    "ExecuteTime": {
     "end_time": "2024-04-23T11:47:41.788414Z",
     "start_time": "2024-04-23T11:47:41.780828Z"
    }
   },
   "cell_type": "code",
   "source": [
    "SQL = \"\"\"\n",
    "    SELECT * FROM events\n",
    "\"\"\"\n",
    "\n",
    "with DBcm.UseDatabase(db_details) as db:\n",
    "    db.execute(SQL)\n",
    "    results = db.fetchall()\n",
    "\n",
    "results"
   ],
   "id": "5c8e4cab8e4e7c30",
   "outputs": [
    {
     "data": {
      "text/plain": [
       "[(1, '100m', 'Back'),\n",
       " (2, '100m', 'Breast'),\n",
       " (3, '50m', 'Back'),\n",
       " (4, '50m', 'Breast'),\n",
       " (5, '50m', 'Free'),\n",
       " (6, '100m', 'Free'),\n",
       " (7, '200m', 'Back'),\n",
       " (8, '100m', 'Fly'),\n",
       " (9, '50m', 'Fly'),\n",
       " (10, '200m', 'IM'),\n",
       " (11, '200m', 'Breast'),\n",
       " (12, '200m', 'Free'),\n",
       " (13, '400m', 'Free')]"
      ]
     },
     "execution_count": 18,
     "metadata": {},
     "output_type": "execute_result"
    }
   ],
   "execution_count": 18
  },
  {
   "metadata": {
    "ExecuteTime": {
     "end_time": "2024-04-23T11:47:48.234458Z",
     "start_time": "2024-04-23T11:47:48.225475Z"
    }
   },
   "cell_type": "code",
   "source": [
    "with DBcm.UseDatabase(db_details) as db:\n",
    "    db.execute(\"pragma table_info(times);\")\n",
    "    results = db.fetchall()\n",
    "\n",
    "results"
   ],
   "id": "1fac506ed7f64604",
   "outputs": [
    {
     "data": {
      "text/plain": [
       "[(0, 'swimmer_id', 'INTEGER', 1, None, 0),\n",
       " (1, 'event_id', 'INTEGER', 1, None, 0),\n",
       " (2, 'time', 'VARCHAR(16)', 1, None, 0),\n",
       " (3, 'ts', 'TIMESTAMP', 0, 'CURRENT_TIMESTAMP', 0)]"
      ]
     },
     "execution_count": 19,
     "metadata": {},
     "output_type": "execute_result"
    }
   ],
   "execution_count": 19
  },
  {
   "metadata": {
    "ExecuteTime": {
     "end_time": "2024-04-23T11:48:56.489031Z",
     "start_time": "2024-04-23T11:48:56.477244Z"
    }
   },
   "cell_type": "code",
   "source": [
    "SQL = \"\"\"\n",
    "    SELECT * FROM events\n",
    "\"\"\"\n",
    "\n",
    "with DBcm.UseDatabase(db_details) as db:\n",
    "    db.execute(SQL)\n",
    "    results = db.fetchall()\n",
    "\n",
    "results"
   ],
   "id": "fdb737c82058cfe2",
   "outputs": [
    {
     "data": {
      "text/plain": [
       "[(1, '100m', 'Back'),\n",
       " (2, '100m', 'Breast'),\n",
       " (3, '50m', 'Back'),\n",
       " (4, '50m', 'Breast'),\n",
       " (5, '50m', 'Free'),\n",
       " (6, '100m', 'Free'),\n",
       " (7, '200m', 'Back'),\n",
       " (8, '100m', 'Fly'),\n",
       " (9, '50m', 'Fly'),\n",
       " (10, '200m', 'IM'),\n",
       " (11, '200m', 'Breast'),\n",
       " (12, '200m', 'Free'),\n",
       " (13, '400m', 'Free')]"
      ]
     },
     "execution_count": 20,
     "metadata": {},
     "output_type": "execute_result"
    }
   ],
   "execution_count": 20
  },
  {
   "metadata": {
    "ExecuteTime": {
     "end_time": "2024-04-23T11:49:24.164978Z",
     "start_time": "2024-04-23T11:49:24.156892Z"
    }
   },
   "cell_type": "code",
   "source": [
    "SQL = \"\"\"\n",
    "    SELECT * FROM swimmers\n",
    "\"\"\"\n",
    "\n",
    "with DBcm.UseDatabase(db_details) as db:\n",
    "    db.execute(SQL)\n",
    "    results = db.fetchall()\n",
    "\n",
    "results"
   ],
   "id": "19fbabe7454635b8",
   "outputs": [
    {
     "data": {
      "text/plain": [
       "[(62, 'Abi', 10),\n",
       " (63, 'Ali', 12),\n",
       " (64, 'Alison', 14),\n",
       " (65, 'Aurora', 13),\n",
       " (66, 'Bill', 18),\n",
       " (67, 'Blake', 15),\n",
       " (68, 'Calvin', 9),\n",
       " (69, 'Carl', 15),\n",
       " (70, 'Chris', 17),\n",
       " (71, 'Darius', 13),\n",
       " (72, 'Dave', 17),\n",
       " (73, 'Elba', 14),\n",
       " (74, 'Emma', 13),\n",
       " (75, 'Erika', 15),\n",
       " (76, 'Hannah', 13),\n",
       " (77, 'Katie', 9),\n",
       " (78, 'Lizzie', 14),\n",
       " (79, 'Maria', 9),\n",
       " (80, 'Mike', 15),\n",
       " (81, 'Owen', 15),\n",
       " (82, 'Ruth', 13),\n",
       " (83, 'Tasmin', 15)]"
      ]
     },
     "execution_count": 21,
     "metadata": {},
     "output_type": "execute_result"
    }
   ],
   "execution_count": 21
  },
  {
   "metadata": {
    "ExecuteTime": {
     "end_time": "2024-04-23T11:50:07.102245Z",
     "start_time": "2024-04-23T11:50:07.097650Z"
    }
   },
   "cell_type": "code",
   "source": [
    "import os\n",
    "\n",
    "\n",
    "FOLDER = \"../swimdata/\"\n",
    "\n",
    "files = os.listdir(FOLDER)\n",
    "# files.remove('.DS_Store')"
   ],
   "id": "592cc7b9b8245bf8",
   "outputs": [],
   "execution_count": 22
  },
  {
   "metadata": {
    "ExecuteTime": {
     "end_time": "2024-04-23T11:50:17.216570Z",
     "start_time": "2024-04-23T11:50:17.212774Z"
    }
   },
   "cell_type": "code",
   "source": [
    "import DBcm\n",
    "\n",
    "\n",
    "db_details = \"CoachDB.sqlite3\""
   ],
   "id": "e2b2e5652c42153d",
   "outputs": [],
   "execution_count": 23
  },
  {
   "metadata": {
    "ExecuteTime": {
     "end_time": "2024-04-23T11:51:06.146056Z",
     "start_time": "2024-04-23T11:51:06.141461Z"
    }
   },
   "cell_type": "code",
   "source": [
    "SQL_GET_SWIMMER = \"\"\"\n",
    "    SELECT id FROM swimmers WHERE name = ? and age = ?;\n",
    "\"\"\""
   ],
   "id": "f1c11bf72921a96f",
   "outputs": [],
   "execution_count": 24
  },
  {
   "metadata": {
    "ExecuteTime": {
     "end_time": "2024-04-23T11:51:12.172476Z",
     "start_time": "2024-04-23T11:51:12.168813Z"
    }
   },
   "cell_type": "code",
   "source": [
    "SQL_GET_EVENT = \"\"\"\n",
    "    SELECT id FROM events WHERE distance = ? and stroke = ?;\n",
    "\"\"\""
   ],
   "id": "a162e2479b90e2cc",
   "outputs": [],
   "execution_count": 25
  },
  {
   "metadata": {
    "ExecuteTime": {
     "end_time": "2024-04-23T11:51:27.414738Z",
     "start_time": "2024-04-23T11:51:27.410999Z"
    }
   },
   "cell_type": "code",
   "source": [
    "SQL_INSERT = \"\"\"\n",
    "    INSERT INTO times (swimmer_id, event_id, time) VALUES (?, ?, ?);\n",
    "\"\"\""
   ],
   "id": "f94e6457ecdee6f1",
   "outputs": [],
   "execution_count": 26
  },
  {
   "metadata": {
    "ExecuteTime": {
     "end_time": "2024-04-23T11:53:05.690723Z",
     "start_time": "2024-04-23T11:53:05.525408Z"
    }
   },
   "cell_type": "code",
   "source": [
    "SQL = \"\"\"\n",
    "    DELETE FROM times\n",
    "\"\"\"\n",
    "\n",
    "with DBcm.UseDatabase(db_details) as db:\n",
    "    db.execute(SQL)"
   ],
   "id": "9e15f15daf735483",
   "outputs": [],
   "execution_count": 27
  },
  {
   "metadata": {
    "ExecuteTime": {
     "end_time": "2024-04-23T11:57:16.872811Z",
     "start_time": "2024-04-23T11:57:16.514203Z"
    }
   },
   "cell_type": "code",
   "source": [
    "with DBcm.UseDatabase(db_details) as db:\n",
    "    for fn in files:\n",
    "        name, age, distance, stroke = fn.removesuffix(\".txt\").split(\"-\")\n",
    "        db.execute(SQL_GET_SWIMMER, (name, age,))\n",
    "        s_id = db.fetchone()[0]\n",
    "        db.execute(SQL_GET_EVENT, (distance, stroke,))\n",
    "        e_id = db.fetchone()[0]\n",
    "        with open(FOLDER+fn) as sf:\n",
    "            times = sf.read().strip().split(\",\")\n",
    "            for t in times:\n",
    "                db.execute(SQL_INSERT, (s_id, e_id, t,))"
   ],
   "id": "6770e8d1af76655b",
   "outputs": [],
   "execution_count": 29
  },
  {
   "metadata": {
    "ExecuteTime": {
     "end_time": "2024-04-23T11:57:51.048967Z",
     "start_time": "2024-04-23T11:57:51.040653Z"
    }
   },
   "cell_type": "code",
   "source": [
    "SQL = \"\"\"\n",
    "    SELECT COUNT(*) FROM times\n",
    "\"\"\"\n",
    "\n",
    "with DBcm.UseDatabase(db_details) as db:\n",
    "    db.execute(SQL)\n",
    "    results = db.fetchall()[0]\n",
    "\n",
    "results"
   ],
   "id": "1d6f594b8dfa542b",
   "outputs": [
    {
     "data": {
      "text/plain": [
       "[(338,)]"
      ]
     },
     "execution_count": 30,
     "metadata": {},
     "output_type": "execute_result"
    }
   ],
   "execution_count": 30
  },
  {
   "metadata": {
    "ExecuteTime": {
     "end_time": "2024-04-23T11:58:47.976359Z",
     "start_time": "2024-04-23T11:58:47.961528Z"
    }
   },
   "cell_type": "code",
   "source": [
    "SQL = \"\"\"\n",
    "    SELECT * FROM times LIMIT 10\n",
    "\"\"\"\n",
    "\n",
    "with DBcm.UseDatabase(db_details) as db:\n",
    "    db.execute(SQL)\n",
    "    results = db.fetchall()\n",
    "\n",
    "results"
   ],
   "id": "8b4b7000156799c",
   "outputs": [
    {
     "data": {
      "text/plain": [
       "[(62, 1, '1:31.59', '2024-04-23 11:57:16'),\n",
       " (62, 1, '1:26.55', '2024-04-23 11:57:16'),\n",
       " (62, 1, '1:28.75', '2024-04-23 11:57:16'),\n",
       " (62, 1, '1:39.79', '2024-04-23 11:57:16'),\n",
       " (62, 1, '1:32.37', '2024-04-23 11:57:16'),\n",
       " (62, 2, '1:42.97', '2024-04-23 11:57:16'),\n",
       " (62, 2, '1:43.31', '2024-04-23 11:57:16'),\n",
       " (62, 2, '1:43.50', '2024-04-23 11:57:16'),\n",
       " (62, 2, '1:40.34', '2024-04-23 11:57:16'),\n",
       " (62, 3, '41.50', '2024-04-23 11:57:16')]"
      ]
     },
     "execution_count": 31,
     "metadata": {},
     "output_type": "execute_result"
    }
   ],
   "execution_count": 31
  }
 ],
 "metadata": {
  "kernelspec": {
   "display_name": "Python 3",
   "language": "python",
   "name": "python3"
  },
  "language_info": {
   "codemirror_mode": {
    "name": "ipython",
    "version": 2
   },
   "file_extension": ".py",
   "mimetype": "text/x-python",
   "name": "python",
   "nbconvert_exporter": "python",
   "pygments_lexer": "ipython2",
   "version": "2.7.6"
  }
 },
 "nbformat": 4,
 "nbformat_minor": 5
}
