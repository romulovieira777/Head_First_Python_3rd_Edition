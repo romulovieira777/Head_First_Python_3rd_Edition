{
 "cells": [
  {
   "cell_type": "code",
   "id": "initial_id",
   "metadata": {
    "collapsed": true,
    "ExecuteTime": {
     "end_time": "2024-04-22T14:14:36.285529Z",
     "start_time": "2024-04-22T14:14:36.278607Z"
    }
   },
   "source": [
    "fn = 'Abi-10-100m-Back.txt'\n",
    "name, age, distance, stroke = fn.removesuffix('.txt').split('-')"
   ],
   "outputs": [],
   "execution_count": 1
  },
  {
   "metadata": {
    "ExecuteTime": {
     "end_time": "2024-04-22T14:14:36.982969Z",
     "start_time": "2024-04-22T14:14:36.967469Z"
    }
   },
   "cell_type": "code",
   "source": "name, age",
   "id": "20099e4c77182747",
   "outputs": [
    {
     "data": {
      "text/plain": [
       "('Abi', '10')"
      ]
     },
     "execution_count": 2,
     "metadata": {},
     "output_type": "execute_result"
    }
   ],
   "execution_count": 2
  },
  {
   "metadata": {
    "ExecuteTime": {
     "end_time": "2024-04-22T14:14:37.672296Z",
     "start_time": "2024-04-22T14:14:37.657256Z"
    }
   },
   "cell_type": "code",
   "source": "distance, stroke",
   "id": "2b0db46da2c16f61",
   "outputs": [
    {
     "data": {
      "text/plain": [
       "('100m', 'Back')"
      ]
     },
     "execution_count": 3,
     "metadata": {},
     "output_type": "execute_result"
    }
   ],
   "execution_count": 3
  },
  {
   "metadata": {
    "ExecuteTime": {
     "end_time": "2024-04-22T14:14:38.282263Z",
     "start_time": "2024-04-22T14:14:38.276872Z"
    }
   },
   "cell_type": "code",
   "source": [
    "import os\n",
    "\n",
    "\n",
    "FOLDER = \"../swimdata/\"\n",
    "\n",
    "files = os.listdir(FOLDER)\n",
    "# files.remove('.DS_Store')"
   ],
   "id": "dc657ebf27b4a172",
   "outputs": [],
   "execution_count": 4
  },
  {
   "metadata": {
    "ExecuteTime": {
     "end_time": "2024-04-22T14:14:39.346586Z",
     "start_time": "2024-04-22T14:14:39.339090Z"
    }
   },
   "cell_type": "code",
   "source": [
    "first = files[0]\n",
    "print(first)\n",
    "\n",
    "name, age, _, _ = first.removesuffix('.txt').split('-')\n",
    "name, age"
   ],
   "id": "3fcb5349251b1637",
   "outputs": [
    {
     "name": "stdout",
     "output_type": "stream",
     "text": [
      "Abi-10-100m-Back.txt\n"
     ]
    },
    {
     "data": {
      "text/plain": [
       "('Abi', '10')"
      ]
     },
     "execution_count": 5,
     "metadata": {},
     "output_type": "execute_result"
    }
   ],
   "execution_count": 5
  },
  {
   "metadata": {
    "ExecuteTime": {
     "end_time": "2024-04-22T14:14:40.755712Z",
     "start_time": "2024-04-22T14:14:40.750227Z"
    }
   },
   "cell_type": "code",
   "source": [
    "# Don't be tempted to do this (i.e., don't use an f-string here).\n",
    "SQL = f\"\"\"\n",
    "    INSERT INTO swimmers (name, age) VALUES ('{name}', {age});\n",
    "\"\"\"\n",
    "\n",
    "print(SQL)"
   ],
   "id": "5bbe41fd4b5f4365",
   "outputs": [
    {
     "name": "stdout",
     "output_type": "stream",
     "text": [
      "\n",
      "    INSERT INTO swimmers (name, age) VALUES ('Abi', 10);\n",
      "\n"
     ]
    }
   ],
   "execution_count": 6
  },
  {
   "metadata": {
    "ExecuteTime": {
     "end_time": "2024-04-22T14:14:42.016549Z",
     "start_time": "2024-04-22T14:14:41.891800Z"
    }
   },
   "cell_type": "code",
   "source": [
    "import DBcm\n",
    "\n",
    "\n",
    "db_details = \"CoachDB.sqlite3\""
   ],
   "id": "e687a8c8e1a1c511",
   "outputs": [],
   "execution_count": 7
  },
  {
   "metadata": {
    "ExecuteTime": {
     "end_time": "2024-04-22T14:14:44.122898Z",
     "start_time": "2024-04-22T14:14:44.116150Z"
    }
   },
   "cell_type": "code",
   "source": [
    "SQL_INSERT = \"\"\"\n",
    "    INSERT INTO swimmers (name, age) VALUES (?, ?);\n",
    "\"\"\"\n",
    "\n",
    "print(SQL_INSERT)"
   ],
   "id": "599d10eacccb32dd",
   "outputs": [
    {
     "name": "stdout",
     "output_type": "stream",
     "text": [
      "\n",
      "    INSERT INTO swimmers (name, age) VALUES (?, ?);\n",
      "\n"
     ]
    }
   ],
   "execution_count": 8
  },
  {
   "metadata": {
    "ExecuteTime": {
     "end_time": "2024-04-22T14:14:45.303464Z",
     "start_time": "2024-04-22T14:14:44.978471Z"
    }
   },
   "cell_type": "code",
   "source": [
    "with DBcm.UseDatabase(db_details) as db:\n",
    "    db.execute(SQL_INSERT, (name, age,))"
   ],
   "id": "44156985231d7627",
   "outputs": [],
   "execution_count": 9
  },
  {
   "metadata": {
    "ExecuteTime": {
     "end_time": "2024-04-22T14:16:29.965056Z",
     "start_time": "2024-04-22T14:16:29.957404Z"
    }
   },
   "cell_type": "code",
   "source": [
    "SQL = \"\"\"\n",
    "    SELECT * FROM swimmers\n",
    "\"\"\"\n",
    "\n",
    "with DBcm.UseDatabase(db_details) as db:\n",
    "    db.execute(SQL)\n",
    "    results = db.fetchall()\n",
    "\n",
    "results"
   ],
   "id": "e77fb88e36823f79",
   "outputs": [
    {
     "data": {
      "text/plain": [
       "[(1, 'Abi', 10)]"
      ]
     },
     "execution_count": 10,
     "metadata": {},
     "output_type": "execute_result"
    }
   ],
   "execution_count": 10
  },
  {
   "metadata": {
    "ExecuteTime": {
     "end_time": "2024-04-22T14:19:46.035319Z",
     "start_time": "2024-04-22T14:19:45.907010Z"
    }
   },
   "cell_type": "code",
   "source": [
    "SQL = \"\"\"\n",
    "    DELETE FROM swimmers\n",
    "\"\"\"\n",
    "\n",
    "with DBcm.UseDatabase(db_details) as db:\n",
    "    db.execute(SQL)"
   ],
   "id": "e0d327927d3f2157",
   "outputs": [],
   "execution_count": 11
  },
  {
   "metadata": {
    "ExecuteTime": {
     "end_time": "2024-04-22T14:22:03.212251Z",
     "start_time": "2024-04-22T14:22:03.204847Z"
    }
   },
   "cell_type": "code",
   "source": [
    "SQL = \"\"\"\n",
    "    SELECT * FROM swimmers\n",
    "\"\"\"\n",
    "\n",
    "with DBcm.UseDatabase(db_details) as db:\n",
    "    db.execute(SQL)\n",
    "    results = db.fetchall()\n",
    "\n",
    "results"
   ],
   "id": "f94a7b24731e9579",
   "outputs": [
    {
     "data": {
      "text/plain": [
       "[]"
      ]
     },
     "execution_count": 12,
     "metadata": {},
     "output_type": "execute_result"
    }
   ],
   "execution_count": 12
  }
 ],
 "metadata": {
  "kernelspec": {
   "display_name": "Python 3",
   "language": "python",
   "name": "python3"
  },
  "language_info": {
   "codemirror_mode": {
    "name": "ipython",
    "version": 2
   },
   "file_extension": ".py",
   "mimetype": "text/x-python",
   "name": "python",
   "nbconvert_exporter": "python",
   "pygments_lexer": "ipython2",
   "version": "2.7.6"
  }
 },
 "nbformat": 4,
 "nbformat_minor": 5
}
