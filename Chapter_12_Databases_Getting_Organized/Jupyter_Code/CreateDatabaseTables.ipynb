{
 "cells": [
  {
   "cell_type": "code",
   "id": "initial_id",
   "metadata": {
    "collapsed": true,
    "ExecuteTime": {
     "end_time": "2024-04-23T11:43:18.338583Z",
     "start_time": "2024-04-23T11:43:14.459434Z"
    }
   },
   "source": "%pip install DBcm --upgrade",
   "outputs": [
    {
     "name": "stdout",
     "output_type": "stream",
     "text": [
      "Requirement already satisfied: DBcm in c:\\users\\romulo vieira\\appdata\\local\\programs\\python\\python312\\lib\\site-packages (2.1)\n",
      "Requirement already satisfied: mysql-connector-python in c:\\users\\romulo vieira\\appdata\\local\\programs\\python\\python312\\lib\\site-packages (from DBcm) (8.3.0)\n",
      "Note: you may need to restart the kernel to use updated packages.\n"
     ]
    }
   ],
   "execution_count": 1
  },
  {
   "metadata": {
    "ExecuteTime": {
     "end_time": "2024-04-23T11:43:29.265181Z",
     "start_time": "2024-04-23T11:43:29.155168Z"
    }
   },
   "cell_type": "code",
   "source": "import DBcm",
   "id": "cbd0d65c136f5cec",
   "outputs": [],
   "execution_count": 2
  },
  {
   "metadata": {
    "ExecuteTime": {
     "end_time": "2024-04-23T11:43:30.126494Z",
     "start_time": "2024-04-23T11:43:30.122335Z"
    }
   },
   "cell_type": "code",
   "source": "db_details = \"CoachDB.sqlite3\"",
   "id": "cf7570893a1eeab2",
   "outputs": [],
   "execution_count": 3
  },
  {
   "metadata": {
    "ExecuteTime": {
     "end_time": "2024-04-23T11:43:31.246749Z",
     "start_time": "2024-04-23T11:43:31.236331Z"
    }
   },
   "cell_type": "code",
   "source": [
    "with DBcm.UseDatabase(db_details) as db:\n",
    "   db.execute(\"pragma table_list\")\n",
    "   results = db.fetchall()"
   ],
   "id": "bcc46a8d34eb17cc",
   "outputs": [],
   "execution_count": 4
  },
  {
   "metadata": {
    "ExecuteTime": {
     "end_time": "2024-04-23T11:43:32.414236Z",
     "start_time": "2024-04-23T11:43:32.399906Z"
    }
   },
   "cell_type": "code",
   "source": "results",
   "id": "24c19e197fc1040c",
   "outputs": [
    {
     "data": {
      "text/plain": [
       "[('main', 'sqlite_schema', 'table', 5, 0, 0),\n",
       " ('temp', 'sqlite_temp_schema', 'table', 5, 0, 0)]"
      ]
     },
     "execution_count": 5,
     "metadata": {},
     "output_type": "execute_result"
    }
   ],
   "execution_count": 5
  },
  {
   "metadata": {
    "ExecuteTime": {
     "end_time": "2024-04-23T11:43:33.358063Z",
     "start_time": "2024-04-23T11:43:33.350763Z"
    }
   },
   "cell_type": "code",
   "source": [
    "SQL = \"\"\"\n",
    "   SELECT TIME()\n",
    "\"\"\"\n",
    "\n",
    "with DBcm.UseDatabase(db_details) as db:\n",
    "   db.execute(SQL)\n",
    "   results = db.fetchall()\n",
    "\n",
    "results"
   ],
   "id": "8cd5eaa945d1e1f3",
   "outputs": [
    {
     "data": {
      "text/plain": [
       "[('11:43:33',)]"
      ]
     },
     "execution_count": 6,
     "metadata": {},
     "output_type": "execute_result"
    }
   ],
   "execution_count": 6
  },
  {
   "metadata": {
    "ExecuteTime": {
     "end_time": "2024-04-23T11:43:34.424794Z",
     "start_time": "2024-04-23T11:43:34.418118Z"
    }
   },
   "cell_type": "code",
   "source": [
    "SQL = \"\"\"\n",
    "   SELECT TIME()\n",
    "\"\"\"\n",
    "\n",
    "with DBcm.UseDatabase(db_details) as db:\n",
    "   db.execute(SQL)\n",
    "   results = db.fetchone()\n",
    "\n",
    "results"
   ],
   "id": "a972f3cf211f4563",
   "outputs": [
    {
     "data": {
      "text/plain": [
       "('11:43:34',)"
      ]
     },
     "execution_count": 7,
     "metadata": {},
     "output_type": "execute_result"
    }
   ],
   "execution_count": 7
  },
  {
   "metadata": {
    "ExecuteTime": {
     "end_time": "2024-04-23T11:43:36.015735Z",
     "start_time": "2024-04-23T11:43:35.786147Z"
    }
   },
   "cell_type": "code",
   "source": [
    "SQL = \"\"\"\n",
    "   CREATE TABLE IF NOT EXISTS swimmers (\n",
    "      id INTEGER NOT NULL PRIMARY KEY AUTOINCREMENT\n",
    "    , name VARCHAR(32) NOT NULL\n",
    "    , age INTEGER NOT NULL\n",
    "   )\n",
    "\"\"\"\n",
    "\n",
    "with DBcm.UseDatabase(db_details) as db:\n",
    "   db.execute(SQL)"
   ],
   "id": "2f441356981e5a04",
   "outputs": [],
   "execution_count": 8
  },
  {
   "metadata": {
    "ExecuteTime": {
     "end_time": "2024-04-23T11:43:37.496333Z",
     "start_time": "2024-04-23T11:43:37.485747Z"
    }
   },
   "cell_type": "code",
   "source": [
    "with DBcm.UseDatabase(db_details) as db:\n",
    "   db.execute(\"pragma table_list\")\n",
    "   results = db.fetchall()\n",
    "\n",
    "results"
   ],
   "id": "1b374ff338758c2f",
   "outputs": [
    {
     "data": {
      "text/plain": [
       "[('main', 'sqlite_sequence', 'table', 2, 0, 0),\n",
       " ('main', 'swimmers', 'table', 3, 0, 0),\n",
       " ('main', 'sqlite_schema', 'table', 5, 0, 0),\n",
       " ('temp', 'sqlite_temp_schema', 'table', 5, 0, 0)]"
      ]
     },
     "execution_count": 9,
     "metadata": {},
     "output_type": "execute_result"
    }
   ],
   "execution_count": 9
  },
  {
   "metadata": {
    "ExecuteTime": {
     "end_time": "2024-04-23T11:43:39.013284Z",
     "start_time": "2024-04-23T11:43:38.778067Z"
    }
   },
   "cell_type": "code",
   "source": [
    "with DBcm.UseDatabase(db_details) as db:\n",
    "   SQL_1 = \"\"\"\n",
    "      CREATE TABLE IF NOT EXISTS events (\n",
    "         id INTEGER NOT NULL PRIMARY KEY AUTOINCREMENT\n",
    "       , distance VARCHAR(16) NOT NULL\n",
    "       , stroke VARCHAR(16) NOT NULL\n",
    "      )\n",
    "   \"\"\"\n",
    "\n",
    "   SQL_2 = \"\"\"\n",
    "      CREATE TABLE IF NOT EXISTS times (\n",
    "         swimmer_id INTEGER NOT NULL\n",
    "       , event_id INTEGER NOT NULL\n",
    "       , time VARCHAR(16) NOT NULL\n",
    "       , ts TIMESTAMP DEFAULT CURRENT_TIMESTAMP\n",
    "      )\n",
    "   \"\"\"\n",
    "\n",
    "   db.execute(SQL_1)\n",
    "   db.execute(SQL_2)"
   ],
   "id": "cda9345c570d0227",
   "outputs": [],
   "execution_count": 10
  },
  {
   "metadata": {
    "ExecuteTime": {
     "end_time": "2024-04-23T11:43:40.417833Z",
     "start_time": "2024-04-23T11:43:40.410078Z"
    }
   },
   "cell_type": "code",
   "source": [
    "with DBcm.UseDatabase(db_details) as db:\n",
    "   db.execute(\"pragma table_list\")\n",
    "   results = db.fetchall()\n",
    "\n",
    "results"
   ],
   "id": "7e3d6f2c8fd85889",
   "outputs": [
    {
     "data": {
      "text/plain": [
       "[('main', 'times', 'table', 4, 0, 0),\n",
       " ('main', 'events', 'table', 3, 0, 0),\n",
       " ('main', 'sqlite_sequence', 'table', 2, 0, 0),\n",
       " ('main', 'swimmers', 'table', 3, 0, 0),\n",
       " ('main', 'sqlite_schema', 'table', 5, 0, 0),\n",
       " ('temp', 'sqlite_temp_schema', 'table', 5, 0, 0)]"
      ]
     },
     "execution_count": 11,
     "metadata": {},
     "output_type": "execute_result"
    }
   ],
   "execution_count": 11
  }
 ],
 "metadata": {
  "kernelspec": {
   "display_name": "Python 3",
   "language": "python",
   "name": "python3"
  },
  "language_info": {
   "codemirror_mode": {
    "name": "ipython",
    "version": 2
   },
   "file_extension": ".py",
   "mimetype": "text/x-python",
   "name": "python",
   "nbconvert_exporter": "python",
   "pygments_lexer": "ipython2",
   "version": "2.7.6"
  }
 },
 "nbformat": 4,
 "nbformat_minor": 5
}
