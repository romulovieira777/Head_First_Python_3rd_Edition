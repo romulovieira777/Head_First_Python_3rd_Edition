{
 "cells": [
  {
   "cell_type": "code",
   "id": "initial_id",
   "metadata": {
    "collapsed": true,
    "ExecuteTime": {
     "end_time": "2024-04-22T13:53:48.340088Z",
     "start_time": "2024-04-22T13:53:44.655507Z"
    }
   },
   "source": "%pip install DBcm --upgrade",
   "outputs": [
    {
     "name": "stdout",
     "output_type": "stream",
     "text": [
      "Requirement already satisfied: DBcm in c:\\users\\romulo vieira\\appdata\\local\\programs\\python\\python312\\lib\\site-packages (2.1)\n",
      "Requirement already satisfied: mysql-connector-python in c:\\users\\romulo vieira\\appdata\\local\\programs\\python\\python312\\lib\\site-packages (from DBcm) (8.3.0)\n",
      "Note: you may need to restart the kernel to use updated packages.\n"
     ]
    }
   ],
   "execution_count": 1
  },
  {
   "metadata": {
    "ExecuteTime": {
     "end_time": "2024-04-22T13:53:50.968790Z",
     "start_time": "2024-04-22T13:53:50.864212Z"
    }
   },
   "cell_type": "code",
   "source": "import DBcm",
   "id": "cbd0d65c136f5cec",
   "outputs": [],
   "execution_count": 2
  },
  {
   "metadata": {
    "ExecuteTime": {
     "end_time": "2024-04-22T13:53:52.257796Z",
     "start_time": "2024-04-22T13:53:52.250576Z"
    }
   },
   "cell_type": "code",
   "source": "db_details = \"CoachDB.sqlite3\"",
   "id": "cf7570893a1eeab2",
   "outputs": [],
   "execution_count": 3
  },
  {
   "metadata": {
    "ExecuteTime": {
     "end_time": "2024-04-22T13:53:53.671509Z",
     "start_time": "2024-04-22T13:53:53.664893Z"
    }
   },
   "cell_type": "code",
   "source": [
    "with DBcm.UseDatabase(db_details) as db:\n",
    "   db.execute(\"pragma table_list\")\n",
    "   results = db.fetchall()"
   ],
   "id": "bcc46a8d34eb17cc",
   "outputs": [],
   "execution_count": 4
  },
  {
   "metadata": {
    "ExecuteTime": {
     "end_time": "2024-04-22T13:53:54.895635Z",
     "start_time": "2024-04-22T13:53:54.882494Z"
    }
   },
   "cell_type": "code",
   "source": "results",
   "id": "24c19e197fc1040c",
   "outputs": [
    {
     "data": {
      "text/plain": [
       "[('main', 'sqlite_schema', 'table', 5, 0, 0),\n",
       " ('temp', 'sqlite_temp_schema', 'table', 5, 0, 0)]"
      ]
     },
     "execution_count": 5,
     "metadata": {},
     "output_type": "execute_result"
    }
   ],
   "execution_count": 5
  },
  {
   "metadata": {
    "ExecuteTime": {
     "end_time": "2024-04-22T13:53:56.067895Z",
     "start_time": "2024-04-22T13:53:56.059309Z"
    }
   },
   "cell_type": "code",
   "source": [
    "SQL = \"\"\"\n",
    "   SELECT TIME()\n",
    "\"\"\"\n",
    "\n",
    "with DBcm.UseDatabase(db_details) as db:\n",
    "   db.execute(SQL)\n",
    "   results = db.fetchall()\n",
    "\n",
    "results"
   ],
   "id": "8cd5eaa945d1e1f3",
   "outputs": [
    {
     "data": {
      "text/plain": [
       "[('13:53:56',)]"
      ]
     },
     "execution_count": 6,
     "metadata": {},
     "output_type": "execute_result"
    }
   ],
   "execution_count": 6
  },
  {
   "metadata": {
    "ExecuteTime": {
     "end_time": "2024-04-22T13:53:57.540419Z",
     "start_time": "2024-04-22T13:53:57.531995Z"
    }
   },
   "cell_type": "code",
   "source": [
    "SQL = \"\"\"\n",
    "   SELECT TIME()\n",
    "\"\"\"\n",
    "\n",
    "with DBcm.UseDatabase(db_details) as db:\n",
    "   db.execute(SQL)\n",
    "   results = db.fetchone()\n",
    "\n",
    "results"
   ],
   "id": "a972f3cf211f4563",
   "outputs": [
    {
     "data": {
      "text/plain": [
       "('13:53:57',)"
      ]
     },
     "execution_count": 7,
     "metadata": {},
     "output_type": "execute_result"
    }
   ],
   "execution_count": 7
  },
  {
   "metadata": {
    "ExecuteTime": {
     "end_time": "2024-04-22T13:53:58.975871Z",
     "start_time": "2024-04-22T13:53:58.687316Z"
    }
   },
   "cell_type": "code",
   "source": [
    "SQL = \"\"\"\n",
    "   CREATE TABLE IF NOT EXISTS swimmers (\n",
    "      id INTEGER NOT NULL PRIMARY KEY AUTOINCREMENT\n",
    "    , name VARCHAR(32) NOT NULL\n",
    "    , age INTEGER NOT NULL\n",
    "   )\n",
    "\"\"\"\n",
    "\n",
    "with DBcm.UseDatabase(db_details) as db:\n",
    "   db.execute(SQL)"
   ],
   "id": "2f441356981e5a04",
   "outputs": [],
   "execution_count": 8
  },
  {
   "metadata": {
    "ExecuteTime": {
     "end_time": "2024-04-22T13:54:01.787652Z",
     "start_time": "2024-04-22T13:54:01.778458Z"
    }
   },
   "cell_type": "code",
   "source": [
    "with DBcm.UseDatabase(db_details) as db:\n",
    "   db.execute(\"pragma table_list\")\n",
    "   results = db.fetchall()\n",
    "\n",
    "results"
   ],
   "id": "1b374ff338758c2f",
   "outputs": [
    {
     "data": {
      "text/plain": [
       "[('main', 'sqlite_sequence', 'table', 2, 0, 0),\n",
       " ('main', 'swimmers', 'table', 3, 0, 0),\n",
       " ('main', 'sqlite_schema', 'table', 5, 0, 0),\n",
       " ('temp', 'sqlite_temp_schema', 'table', 5, 0, 0)]"
      ]
     },
     "execution_count": 9,
     "metadata": {},
     "output_type": "execute_result"
    }
   ],
   "execution_count": 9
  },
  {
   "metadata": {
    "ExecuteTime": {
     "end_time": "2024-04-22T13:54:03.166190Z",
     "start_time": "2024-04-22T13:54:02.903686Z"
    }
   },
   "cell_type": "code",
   "source": [
    "with DBcm.UseDatabase(db_details) as db:\n",
    "   SQL_1 = \"\"\"\n",
    "      CREATE TABLE IF NOT EXISTS events (\n",
    "         id INTEGER NOT NULL PRIMARY KEY AUTOINCREMENT\n",
    "       , distance VARCHAR(16) NOT NULL\n",
    "       , stroke VARCHAR(16) NOT NULL\n",
    "      )\n",
    "   \"\"\"\n",
    "\n",
    "   SQL_2 = \"\"\"\n",
    "      CREATE TABLE IF NOT EXISTS times (\n",
    "         swimmer_id INTEGER NOT NULL\n",
    "       , event_id INTEGER NOT NULL\n",
    "       , time VARCHAR(16) NOT NULL\n",
    "       , ts TIMESTAMP DEFAULT CURRENT_TIMESTAMP\n",
    "      )\n",
    "   \"\"\"\n",
    "\n",
    "   db.execute(SQL_1)\n",
    "   db.execute(SQL_2)"
   ],
   "id": "cda9345c570d0227",
   "outputs": [],
   "execution_count": 10
  },
  {
   "metadata": {
    "ExecuteTime": {
     "end_time": "2024-04-22T13:54:04.462245Z",
     "start_time": "2024-04-22T13:54:04.443858Z"
    }
   },
   "cell_type": "code",
   "source": [
    "with DBcm.UseDatabase(db_details) as db:\n",
    "   db.execute(\"pragma table_list\")\n",
    "   results = db.fetchall()\n",
    "\n",
    "results"
   ],
   "id": "7e3d6f2c8fd85889",
   "outputs": [
    {
     "data": {
      "text/plain": [
       "[('main', 'times', 'table', 4, 0, 0),\n",
       " ('main', 'events', 'table', 3, 0, 0),\n",
       " ('main', 'sqlite_sequence', 'table', 2, 0, 0),\n",
       " ('main', 'swimmers', 'table', 3, 0, 0),\n",
       " ('main', 'sqlite_schema', 'table', 5, 0, 0),\n",
       " ('temp', 'sqlite_temp_schema', 'table', 5, 0, 0)]"
      ]
     },
     "execution_count": 11,
     "metadata": {},
     "output_type": "execute_result"
    }
   ],
   "execution_count": 11
  }
 ],
 "metadata": {
  "kernelspec": {
   "display_name": "Python 3",
   "language": "python",
   "name": "python3"
  },
  "language_info": {
   "codemirror_mode": {
    "name": "ipython",
    "version": 2
   },
   "file_extension": ".py",
   "mimetype": "text/x-python",
   "name": "python",
   "nbconvert_exporter": "python",
   "pygments_lexer": "ipython2",
   "version": "2.7.6"
  }
 },
 "nbformat": 4,
 "nbformat_minor": 5
}
