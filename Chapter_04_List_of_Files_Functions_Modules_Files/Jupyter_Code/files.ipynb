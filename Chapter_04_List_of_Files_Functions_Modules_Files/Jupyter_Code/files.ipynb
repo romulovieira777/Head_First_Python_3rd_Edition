{
 "cells": [
  {
   "cell_type": "code",
   "execution_count": 1,
   "id": "initial_id",
   "metadata": {
    "collapsed": true,
    "ExecuteTime": {
     "end_time": "2024-03-19T13:39:45.712971Z",
     "start_time": "2024-03-19T13:39:45.701207Z"
    }
   },
   "outputs": [],
   "source": [
    "import Chapter_04_List_of_Files_Functions_Modules_Files.Python_Code.swimclub"
   ]
  },
  {
   "cell_type": "code",
   "outputs": [
    {
     "data": {
      "text/plain": "('Darius',\n '13',\n '100m',\n 'Fly',\n ['1:27.95', '1:21.07', '1:30.96', '1:23.22', '1:27.95', '1:28.30'],\n '1:26.58')"
     },
     "execution_count": 2,
     "metadata": {},
     "output_type": "execute_result"
    }
   ],
   "source": [
    "Chapter_04_List_of_Files_Functions_Modules_Files.Python_Code.swimclub.read_swim_data(\"Darius-13-100m-Fly.txt\")"
   ],
   "metadata": {
    "collapsed": false,
    "ExecuteTime": {
     "end_time": "2024-03-19T13:39:46.463714Z",
     "start_time": "2024-03-19T13:39:46.452985Z"
    }
   },
   "id": "4774b2172666dc79",
   "execution_count": 2
  },
  {
   "cell_type": "code",
   "outputs": [],
   "source": [
    "data = Chapter_04_List_of_Files_Functions_Modules_Files.Python_Code.swimclub.read_swim_data(\"Darius-13-100m-Fly.txt\")"
   ],
   "metadata": {
    "collapsed": false,
    "ExecuteTime": {
     "end_time": "2024-03-19T13:39:47.421528Z",
     "start_time": "2024-03-19T13:39:47.417416Z"
    }
   },
   "id": "767a345414304a3f",
   "execution_count": 3
  },
  {
   "cell_type": "code",
   "outputs": [],
   "source": [
    "times = data[4]"
   ],
   "metadata": {
    "collapsed": false,
    "ExecuteTime": {
     "end_time": "2024-03-19T13:39:48.060219Z",
     "start_time": "2024-03-19T13:39:48.055953Z"
    }
   },
   "id": "dfbb2562a0fd0295",
   "execution_count": 4
  },
  {
   "cell_type": "code",
   "outputs": [
    {
     "data": {
      "text/plain": "['1:27.95', '1:21.07', '1:30.96', '1:23.22', '1:27.95', '1:28.30']"
     },
     "execution_count": 5,
     "metadata": {},
     "output_type": "execute_result"
    }
   ],
   "source": [
    "times"
   ],
   "metadata": {
    "collapsed": false,
    "ExecuteTime": {
     "end_time": "2024-03-19T13:39:48.526915Z",
     "start_time": "2024-03-19T13:39:48.517759Z"
    }
   },
   "id": "c03fa69bfa8eecb8",
   "execution_count": 5
  },
  {
   "cell_type": "code",
   "outputs": [],
   "source": [
    "swimmer, age, distance, stroke, times2, average = data"
   ],
   "metadata": {
    "collapsed": false,
    "ExecuteTime": {
     "end_time": "2024-03-19T13:39:49.242623Z",
     "start_time": "2024-03-19T13:39:49.238770Z"
    }
   },
   "id": "7b6e59e8731ac76a",
   "execution_count": 6
  },
  {
   "cell_type": "code",
   "outputs": [
    {
     "data": {
      "text/plain": "['1:27.95', '1:21.07', '1:30.96', '1:23.22', '1:27.95', '1:28.30']"
     },
     "execution_count": 7,
     "metadata": {},
     "output_type": "execute_result"
    }
   ],
   "source": [
    "times2"
   ],
   "metadata": {
    "collapsed": false,
    "ExecuteTime": {
     "end_time": "2024-03-19T13:39:50.171818Z",
     "start_time": "2024-03-19T13:39:50.162166Z"
    }
   },
   "id": "981ae52c900b9291",
   "execution_count": 7
  },
  {
   "cell_type": "code",
   "outputs": [],
   "source": [
    "import os"
   ],
   "metadata": {
    "collapsed": false,
    "ExecuteTime": {
     "end_time": "2024-03-19T13:39:50.751028Z",
     "start_time": "2024-03-19T13:39:50.746876Z"
    }
   },
   "id": "492bba1c34fad721",
   "execution_count": 8
  },
  {
   "cell_type": "code",
   "outputs": [],
   "source": [
    "swim_files = os.listdir(Chapter_04_List_of_Files_Functions_Modules_Files.Python_Code.swimclub.FOLDER)"
   ],
   "metadata": {
    "collapsed": false,
    "ExecuteTime": {
     "end_time": "2024-03-19T13:39:51.439814Z",
     "start_time": "2024-03-19T13:39:51.435038Z"
    }
   },
   "id": "b68364835ab10286",
   "execution_count": 9
  },
  {
   "cell_type": "code",
   "outputs": [
    {
     "data": {
      "text/plain": "60"
     },
     "execution_count": 10,
     "metadata": {},
     "output_type": "execute_result"
    }
   ],
   "source": [
    "len(swim_files)"
   ],
   "metadata": {
    "collapsed": false,
    "ExecuteTime": {
     "end_time": "2024-03-19T13:39:51.986141Z",
     "start_time": "2024-03-19T13:39:51.979560Z"
    }
   },
   "id": "6d1dcb732f4d4e18",
   "execution_count": 10
  },
  {
   "cell_type": "code",
   "outputs": [
    {
     "name": "stdout",
     "output_type": "stream",
     "text": [
      "['Abi-10-100m-Back.txt', 'Abi-10-100m-Breast.txt', 'Abi-10-50m-Back.txt', 'Abi-10-50m-Breast.txt', 'Abi-10-50m-Free.txt', 'Ali-12-100m-Back.txt', 'Ali-12-100m-Free.txt', 'Alison-14-100m-Breast.txt', 'Alison-14-100m-Free.txt', 'Aurora-13-50m-Free.txt', 'Bill-18-100m-Back.txt', 'Bill-18-200m-Back.txt', 'Blake-15-100m-Back.txt', 'Blake-15-100m-Fly.txt', 'Blake-15-100m-Free.txt', 'Calvin-9-50m-Back.txt', 'Calvin-9-50m-Fly.txt', 'Calvin-9-50m-Free.txt', 'Carl-15-100m-Back.txt', 'Chris-17-100m-Back.txt', 'Chris-17-100m-Breast.txt', 'Darius-13-100m-Back.txt', 'Darius-13-100m-Breast.txt', 'Darius-13-100m-Fly.txt', 'Darius-13-200m-IM.txt', 'Dave-17-100m-Free.txt', 'Dave-17-200m-Back.txt', 'Elba-14-100m-Free.txt', 'Emma-13-100m-Breast.txt', 'Emma-13-100m-Free.txt', 'Erika-15-100m-Breast.txt', 'Erika-15-100m-Free.txt', 'Erika-15-200m-Breast.txt', 'Hannah-13-100m-Back.txt', 'Hannah-13-100m-Free.txt', 'Katie-9-100m-Back.txt', 'Katie-9-100m-Breast.txt', 'Katie-9-100m-Free.txt', 'Katie-9-50m-Back.txt', 'Katie-9-50m-Breast.txt', 'Katie-9-50m-Fly.txt', 'Katie-9-50m-Free.txt', 'Lizzie-14-100m-Back.txt', 'Lizzie-14-100m-Free.txt', 'Maria-9-50m-Free.txt', 'Mike-15-100m-Back.txt', 'Mike-15-100m-Fly.txt', 'Mike-15-100m-Free.txt', 'Mike-15-200m-Free.txt', 'Mike-15-200m-IM.txt', 'Owen-15-100m-Free.txt', 'Ruth-13-100m-Back.txt', 'Ruth-13-100m-Free.txt', 'Ruth-13-200m-Back.txt', 'Ruth-13-200m-Free.txt', 'Ruth-13-400m-Free.txt', 'Tasmin-15-100m-Back.txt', 'Tasmin-15-100m-Breast.txt', 'Tasmin-15-100m-Free.txt', 'Tasmin-15-200m-Breast.txt']\n"
     ]
    }
   ],
   "source": [
    "print(swim_files)"
   ],
   "metadata": {
    "collapsed": false,
    "ExecuteTime": {
     "end_time": "2024-03-19T13:39:52.574704Z",
     "start_time": "2024-03-19T13:39:52.568255Z"
    }
   },
   "id": "735c6675e270743c",
   "execution_count": 11
  },
  {
   "cell_type": "code",
   "outputs": [
    {
     "name": "stdout",
     "output_type": "stream",
     "text": [
      "['__add__', '__class__', '__class_getitem__', '__contains__', '__delattr__', '__delitem__', '__dir__', '__doc__', '__eq__', '__format__', '__ge__', '__getattribute__', '__getitem__', '__getstate__', '__gt__', '__hash__', '__iadd__', '__imul__', '__init__', '__init_subclass__', '__iter__', '__le__', '__len__', '__lt__', '__mul__', '__ne__', '__new__', '__reduce__', '__reduce_ex__', '__repr__', '__reversed__', '__rmul__', '__setattr__', '__setitem__', '__sizeof__', '__str__', '__subclasshook__', 'append', 'clear', 'copy', 'count', 'extend', 'index', 'insert', 'pop', 'remove', 'reverse', 'sort']\n"
     ]
    }
   ],
   "source": [
    "print(dir(swim_files))"
   ],
   "metadata": {
    "collapsed": false,
    "ExecuteTime": {
     "end_time": "2024-03-19T13:39:53.353550Z",
     "start_time": "2024-03-19T13:39:53.345523Z"
    }
   },
   "id": "385224f908bdedc0",
   "execution_count": 12
  },
  {
   "cell_type": "code",
   "outputs": [
    {
     "name": "stdout",
     "output_type": "stream",
     "text": [
      "['Abi-10-100m-Back.txt', 'Abi-10-100m-Breast.txt', 'Abi-10-50m-Back.txt', 'Abi-10-50m-Breast.txt', 'Abi-10-50m-Free.txt', 'Ali-12-100m-Back.txt', 'Ali-12-100m-Free.txt', 'Alison-14-100m-Breast.txt', 'Alison-14-100m-Free.txt', 'Aurora-13-50m-Free.txt', 'Bill-18-100m-Back.txt', 'Bill-18-200m-Back.txt', 'Blake-15-100m-Back.txt', 'Blake-15-100m-Fly.txt', 'Blake-15-100m-Free.txt', 'Calvin-9-50m-Back.txt', 'Calvin-9-50m-Fly.txt', 'Calvin-9-50m-Free.txt', 'Carl-15-100m-Back.txt', 'Chris-17-100m-Back.txt', 'Chris-17-100m-Breast.txt', 'Darius-13-100m-Back.txt', 'Darius-13-100m-Breast.txt', 'Darius-13-100m-Fly.txt', 'Darius-13-200m-IM.txt', 'Dave-17-100m-Free.txt', 'Dave-17-200m-Back.txt', 'Elba-14-100m-Free.txt', 'Emma-13-100m-Breast.txt', 'Emma-13-100m-Free.txt', 'Erika-15-100m-Breast.txt', 'Erika-15-100m-Free.txt', 'Erika-15-200m-Breast.txt', 'Hannah-13-100m-Back.txt', 'Hannah-13-100m-Free.txt', 'Katie-9-100m-Back.txt', 'Katie-9-100m-Breast.txt', 'Katie-9-100m-Free.txt', 'Katie-9-50m-Back.txt', 'Katie-9-50m-Breast.txt', 'Katie-9-50m-Fly.txt', 'Katie-9-50m-Free.txt', 'Lizzie-14-100m-Back.txt', 'Lizzie-14-100m-Free.txt', 'Maria-9-50m-Free.txt', 'Mike-15-100m-Back.txt', 'Mike-15-100m-Fly.txt', 'Mike-15-100m-Free.txt', 'Mike-15-200m-Free.txt', 'Mike-15-200m-IM.txt', 'Owen-15-100m-Free.txt', 'Ruth-13-100m-Back.txt', 'Ruth-13-100m-Free.txt', 'Ruth-13-200m-Back.txt', 'Ruth-13-200m-Free.txt', 'Ruth-13-400m-Free.txt', 'Tasmin-15-100m-Back.txt', 'Tasmin-15-100m-Breast.txt', 'Tasmin-15-100m-Free.txt', 'Tasmin-15-200m-Breast.txt']\n"
     ]
    }
   ],
   "source": [
    "print(sorted(swim_files))"
   ],
   "metadata": {
    "collapsed": false,
    "ExecuteTime": {
     "end_time": "2024-03-19T13:39:53.951562Z",
     "start_time": "2024-03-19T13:39:53.947155Z"
    }
   },
   "id": "9ffc3e772533dfd0",
   "execution_count": 13
  },
  {
   "cell_type": "code",
   "outputs": [
    {
     "name": "stdout",
     "output_type": "stream",
     "text": [
      "Help on built-in function remove:\n",
      "\n",
      "remove(value, /) method of builtins.list instance\n",
      "    Remove first occurrence of value.\n",
      "\n",
      "    Raises ValueError if the value is not present.\n"
     ]
    }
   ],
   "source": [
    "help(swim_files.remove)"
   ],
   "metadata": {
    "collapsed": false,
    "ExecuteTime": {
     "end_time": "2024-03-19T13:39:54.747423Z",
     "start_time": "2024-03-19T13:39:54.741072Z"
    }
   },
   "id": "35122cd0af64f898",
   "execution_count": 14
  },
  {
   "cell_type": "code",
   "outputs": [
    {
     "ename": "ValueError",
     "evalue": "list.remove(x): x not in list",
     "output_type": "error",
     "traceback": [
      "\u001B[1;31m---------------------------------------------------------------------------\u001B[0m",
      "\u001B[1;31mValueError\u001B[0m                                Traceback (most recent call last)",
      "Cell \u001B[1;32mIn[15], line 1\u001B[0m\n\u001B[1;32m----> 1\u001B[0m \u001B[43mswim_files\u001B[49m\u001B[38;5;241;43m.\u001B[39;49m\u001B[43mremove\u001B[49m\u001B[43m(\u001B[49m\u001B[38;5;124;43m\"\u001B[39;49m\u001B[38;5;124;43m.DS_Store\u001B[39;49m\u001B[38;5;124;43m\"\u001B[39;49m\u001B[43m)\u001B[49m\n",
      "\u001B[1;31mValueError\u001B[0m: list.remove(x): x not in list"
     ]
    }
   ],
   "source": [
    "swim_files.remove(\".DS_Store\")"
   ],
   "metadata": {
    "collapsed": false,
    "ExecuteTime": {
     "end_time": "2024-03-19T13:39:56.285551Z",
     "start_time": "2024-03-19T13:39:55.750285Z"
    }
   },
   "id": "cd62e7ad649e5b30",
   "execution_count": 15
  },
  {
   "cell_type": "code",
   "outputs": [
    {
     "data": {
      "text/plain": "60"
     },
     "execution_count": 16,
     "metadata": {},
     "output_type": "execute_result"
    }
   ],
   "source": [
    "len(swim_files)"
   ],
   "metadata": {
    "collapsed": false,
    "ExecuteTime": {
     "end_time": "2024-03-19T13:39:58.011707Z",
     "start_time": "2024-03-19T13:39:58.005054Z"
    }
   },
   "id": "de03ddde046ecdc",
   "execution_count": 16
  },
  {
   "cell_type": "code",
   "outputs": [
    {
     "name": "stdout",
     "output_type": "stream",
     "text": [
      "Processing Abi-10-100m-Back.txt\n",
      "Processing Abi-10-100m-Breast.txt\n",
      "Processing Abi-10-50m-Back.txt\n",
      "Processing Abi-10-50m-Breast.txt\n",
      "Processing Abi-10-50m-Free.txt\n",
      "Processing Ali-12-100m-Back.txt\n",
      "Processing Ali-12-100m-Free.txt\n",
      "Processing Alison-14-100m-Breast.txt\n",
      "Processing Alison-14-100m-Free.txt\n",
      "Processing Aurora-13-50m-Free.txt\n",
      "Processing Bill-18-100m-Back.txt\n",
      "Processing Bill-18-200m-Back.txt\n",
      "Processing Blake-15-100m-Back.txt\n",
      "Processing Blake-15-100m-Fly.txt\n",
      "Processing Blake-15-100m-Free.txt\n",
      "Processing Calvin-9-50m-Back.txt\n",
      "Processing Calvin-9-50m-Fly.txt\n",
      "Processing Calvin-9-50m-Free.txt\n",
      "Processing Carl-15-100m-Back.txt\n",
      "Processing Chris-17-100m-Back.txt\n",
      "Processing Chris-17-100m-Breast.txt\n",
      "Processing Darius-13-100m-Back.txt\n",
      "Processing Darius-13-100m-Breast.txt\n",
      "Processing Darius-13-100m-Fly.txt\n",
      "Processing Darius-13-200m-IM.txt\n",
      "Processing Dave-17-100m-Free.txt\n",
      "Processing Dave-17-200m-Back.txt\n",
      "Processing Elba-14-100m-Free.txt\n",
      "Processing Emma-13-100m-Breast.txt\n",
      "Processing Emma-13-100m-Free.txt\n",
      "Processing Erika-15-100m-Breast.txt\n",
      "Processing Erika-15-100m-Free.txt\n",
      "Processing Erika-15-200m-Breast.txt\n",
      "Processing Hannah-13-100m-Back.txt\n",
      "Processing Hannah-13-100m-Free.txt\n",
      "Processing Katie-9-100m-Back.txt\n",
      "Processing Katie-9-100m-Breast.txt\n",
      "Processing Katie-9-100m-Free.txt\n",
      "Processing Katie-9-50m-Back.txt\n",
      "Processing Katie-9-50m-Breast.txt\n",
      "Processing Katie-9-50m-Fly.txt\n",
      "Processing Katie-9-50m-Free.txt\n",
      "Processing Lizzie-14-100m-Back.txt\n",
      "Processing Lizzie-14-100m-Free.txt\n",
      "Processing Maria-9-50m-Free.txt\n",
      "Processing Mike-15-100m-Back.txt\n",
      "Processing Mike-15-100m-Fly.txt\n",
      "Processing Mike-15-100m-Free.txt\n",
      "Processing Mike-15-200m-Free.txt\n",
      "Processing Mike-15-200m-IM.txt\n",
      "Processing Owen-15-100m-Free.txt\n",
      "Processing Ruth-13-100m-Back.txt\n",
      "Processing Ruth-13-100m-Free.txt\n",
      "Processing Ruth-13-200m-Back.txt\n",
      "Processing Ruth-13-200m-Free.txt\n",
      "Processing Ruth-13-400m-Free.txt\n",
      "Processing Tasmin-15-100m-Back.txt\n",
      "Processing Tasmin-15-100m-Breast.txt\n",
      "Processing Tasmin-15-100m-Free.txt\n",
      "Processing Tasmin-15-200m-Breast.txt\n"
     ]
    }
   ],
   "source": [
    "for file in swim_files:\n",
    "    print(\"Processing\", file)\n",
    "    Chapter_04_List_of_Files_Functions_Modules_Files.Python_Code.swimclub.read_swim_data(file)"
   ],
   "metadata": {
    "collapsed": false,
    "ExecuteTime": {
     "end_time": "2024-03-19T13:39:58.546810Z",
     "start_time": "2024-03-19T13:39:58.531123Z"
    }
   },
   "id": "8811ccf60e5e4a65",
   "execution_count": 17
  },
  {
   "cell_type": "code",
   "outputs": [
    {
     "data": {
      "text/plain": "True"
     },
     "execution_count": 18,
     "metadata": {},
     "output_type": "execute_result"
    }
   ],
   "source": [
    "\"ell\" in \"Hello there\""
   ],
   "metadata": {
    "collapsed": false,
    "ExecuteTime": {
     "end_time": "2024-03-19T13:39:59.579492Z",
     "start_time": "2024-03-19T13:39:59.573122Z"
    }
   },
   "id": "3de2d23732d602cd",
   "execution_count": 18
  },
  {
   "cell_type": "code",
   "outputs": [
    {
     "data": {
      "text/plain": "False"
     },
     "execution_count": 19,
     "metadata": {},
     "output_type": "execute_result"
    }
   ],
   "source": [
    "\"fell\" in \"Hello there\""
   ],
   "metadata": {
    "collapsed": false,
    "ExecuteTime": {
     "end_time": "2024-03-19T13:40:00.145888Z",
     "start_time": "2024-03-19T13:40:00.140474Z"
    }
   },
   "id": "fcb5fa9a274e6042",
   "execution_count": 19
  },
  {
   "cell_type": "code",
   "outputs": [
    {
     "data": {
      "text/plain": "True"
     },
     "execution_count": 20,
     "metadata": {},
     "output_type": "execute_result"
    }
   ],
   "source": [
    "42 in [\"Forty two\", 42, \"42\"]"
   ],
   "metadata": {
    "collapsed": false,
    "ExecuteTime": {
     "end_time": "2024-03-19T13:40:01.690237Z",
     "start_time": "2024-03-19T13:40:01.683784Z"
    }
   },
   "id": "87b14ea845d110ed",
   "execution_count": 20
  },
  {
   "cell_type": "code",
   "outputs": [
    {
     "data": {
      "text/plain": "True"
     },
     "execution_count": 21,
     "metadata": {},
     "output_type": "execute_result"
    }
   ],
   "source": [
    "\"two\" in [\"Forty two\", \"42\"][0]"
   ],
   "metadata": {
    "collapsed": false,
    "ExecuteTime": {
     "end_time": "2024-03-19T13:40:02.246757Z",
     "start_time": "2024-03-19T13:40:02.240090Z"
    }
   },
   "id": "eff98e542b206833",
   "execution_count": 21
  },
  {
   "cell_type": "code",
   "outputs": [
    {
     "data": {
      "text/plain": "True"
     },
     "execution_count": 22,
     "metadata": {},
     "output_type": "execute_result"
    }
   ],
   "source": [
    "[1, 2, 3] in [\"a\", \"b\", \"c\", [1, 2, 3], \"d\", \"e\", \"f\"]"
   ],
   "metadata": {
    "collapsed": false,
    "ExecuteTime": {
     "end_time": "2024-03-19T13:40:02.845719Z",
     "start_time": "2024-03-19T13:40:02.837989Z"
    }
   },
   "id": "18774abfcecb4968",
   "execution_count": 22
  },
  {
   "cell_type": "code",
   "outputs": [
    {
     "data": {
      "text/plain": "False"
     },
     "execution_count": 23,
     "metadata": {},
     "output_type": "execute_result"
    }
   ],
   "source": [
    "[1, 2] in [\"a\", \"b\", \"c\", [1, 2, 3], \"d\", \"e\", \"f\"]"
   ],
   "metadata": {
    "collapsed": false,
    "ExecuteTime": {
     "end_time": "2024-03-19T13:40:03.423512Z",
     "start_time": "2024-03-19T13:40:03.416708Z"
    }
   },
   "id": "fdc3cebfe2238aa6",
   "execution_count": 23
  },
  {
   "cell_type": "code",
   "outputs": [],
   "source": [
    "if \":\" in file:\n",
    "    minutes, rest = file.split(\":\")\n",
    "    seconds, hundredths = rest.split(\".\")"
   ],
   "metadata": {
    "collapsed": false,
    "ExecuteTime": {
     "end_time": "2024-03-19T13:40:05.452194Z",
     "start_time": "2024-03-19T13:40:05.448078Z"
    }
   },
   "id": "f9bfb11f21f18de9",
   "execution_count": 24
  },
  {
   "cell_type": "code",
   "outputs": [],
   "source": [
    "if \":\" in file:\n",
    "    minutes, rest = file.split(\":\")\n",
    "    seconds, hundredths = rest.split(\".\")\n",
    "else:\n",
    "    minutes = 0\n",
    "    seconds, hundredths = file.split(\".\")"
   ],
   "metadata": {
    "collapsed": false,
    "ExecuteTime": {
     "end_time": "2024-03-19T13:40:05.951454Z",
     "start_time": "2024-03-19T13:40:05.947082Z"
    }
   },
   "id": "349c8bf4f2300d31",
   "execution_count": 25
  },
  {
   "cell_type": "code",
   "outputs": [
    {
     "name": "stdout",
     "output_type": "stream",
     "text": [
      "1 Processing Abi-10-100m-Back.txt\n",
      "2 Processing Abi-10-100m-Breast.txt\n",
      "3 Processing Abi-10-50m-Back.txt\n",
      "4 Processing Abi-10-50m-Breast.txt\n",
      "5 Processing Abi-10-50m-Free.txt\n",
      "6 Processing Ali-12-100m-Back.txt\n",
      "7 Processing Ali-12-100m-Free.txt\n",
      "8 Processing Alison-14-100m-Breast.txt\n",
      "9 Processing Alison-14-100m-Free.txt\n",
      "10 Processing Aurora-13-50m-Free.txt\n",
      "11 Processing Bill-18-100m-Back.txt\n",
      "12 Processing Bill-18-200m-Back.txt\n",
      "13 Processing Blake-15-100m-Back.txt\n",
      "14 Processing Blake-15-100m-Fly.txt\n",
      "15 Processing Blake-15-100m-Free.txt\n",
      "16 Processing Calvin-9-50m-Back.txt\n",
      "17 Processing Calvin-9-50m-Fly.txt\n",
      "18 Processing Calvin-9-50m-Free.txt\n",
      "19 Processing Carl-15-100m-Back.txt\n",
      "20 Processing Chris-17-100m-Back.txt\n",
      "21 Processing Chris-17-100m-Breast.txt\n",
      "22 Processing Darius-13-100m-Back.txt\n",
      "23 Processing Darius-13-100m-Breast.txt\n",
      "24 Processing Darius-13-100m-Fly.txt\n",
      "25 Processing Darius-13-200m-IM.txt\n",
      "26 Processing Dave-17-100m-Free.txt\n",
      "27 Processing Dave-17-200m-Back.txt\n",
      "28 Processing Elba-14-100m-Free.txt\n",
      "29 Processing Emma-13-100m-Breast.txt\n",
      "30 Processing Emma-13-100m-Free.txt\n",
      "31 Processing Erika-15-100m-Breast.txt\n",
      "32 Processing Erika-15-100m-Free.txt\n",
      "33 Processing Erika-15-200m-Breast.txt\n",
      "34 Processing Hannah-13-100m-Back.txt\n",
      "35 Processing Hannah-13-100m-Free.txt\n",
      "36 Processing Katie-9-100m-Back.txt\n",
      "37 Processing Katie-9-100m-Breast.txt\n",
      "38 Processing Katie-9-100m-Free.txt\n",
      "39 Processing Katie-9-50m-Back.txt\n",
      "40 Processing Katie-9-50m-Breast.txt\n",
      "41 Processing Katie-9-50m-Fly.txt\n",
      "42 Processing Katie-9-50m-Free.txt\n",
      "43 Processing Lizzie-14-100m-Back.txt\n",
      "44 Processing Lizzie-14-100m-Free.txt\n",
      "45 Processing Maria-9-50m-Free.txt\n",
      "46 Processing Mike-15-100m-Back.txt\n",
      "47 Processing Mike-15-100m-Fly.txt\n",
      "48 Processing Mike-15-100m-Free.txt\n",
      "49 Processing Mike-15-200m-Free.txt\n",
      "50 Processing Mike-15-200m-IM.txt\n",
      "51 Processing Owen-15-100m-Free.txt\n",
      "52 Processing Ruth-13-100m-Back.txt\n",
      "53 Processing Ruth-13-100m-Free.txt\n",
      "54 Processing Ruth-13-200m-Back.txt\n",
      "55 Processing Ruth-13-200m-Free.txt\n",
      "56 Processing Ruth-13-400m-Free.txt\n",
      "57 Processing Tasmin-15-100m-Back.txt\n",
      "58 Processing Tasmin-15-100m-Breast.txt\n",
      "59 Processing Tasmin-15-100m-Free.txt\n",
      "60 Processing Tasmin-15-200m-Breast.txt\n"
     ]
    }
   ],
   "source": [
    "for number, swim in enumerate(swim_files, 1):\n",
    "    print(number, \"Processing\", swim)\n",
    "    Chapter_04_List_of_Files_Functions_Modules_Files.Python_Code.swimclub.read_swim_data(swim)"
   ],
   "metadata": {
    "collapsed": false,
    "ExecuteTime": {
     "end_time": "2024-03-19T13:40:06.828188Z",
     "start_time": "2024-03-19T13:40:06.804665Z"
    }
   },
   "id": "f794365219bcf01b",
   "execution_count": 26
  }
 ],
 "metadata": {
  "kernelspec": {
   "display_name": "Python 3",
   "language": "python",
   "name": "python3"
  },
  "language_info": {
   "codemirror_mode": {
    "name": "ipython",
    "version": 2
   },
   "file_extension": ".py",
   "mimetype": "text/x-python",
   "name": "python",
   "nbconvert_exporter": "python",
   "pygments_lexer": "ipython2",
   "version": "2.7.6"
  }
 },
 "nbformat": 4,
 "nbformat_minor": 5
}
