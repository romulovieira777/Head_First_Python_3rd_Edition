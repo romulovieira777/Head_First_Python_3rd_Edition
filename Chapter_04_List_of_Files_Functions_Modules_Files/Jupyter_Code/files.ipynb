{
 "cells": [
  {
   "cell_type": "code",
   "execution_count": 1,
   "id": "initial_id",
   "metadata": {
    "collapsed": true,
    "ExecuteTime": {
     "end_time": "2024-03-18T13:00:20.135623Z",
     "start_time": "2024-03-18T13:00:20.081578Z"
    }
   },
   "outputs": [],
   "source": [
    "import Chapter_04_List_of_Files_Functions_Modules_Files.Python_Code.swimclub"
   ]
  },
  {
   "cell_type": "code",
   "outputs": [
    {
     "data": {
      "text/plain": "('Darius',\n '13',\n '100m',\n 'Fly',\n ['1:27.95', '1:21.07', '1:30.96', '1:23.22', '1:27.95', '1:28.30'],\n '1:26.58')"
     },
     "execution_count": 2,
     "metadata": {},
     "output_type": "execute_result"
    }
   ],
   "source": [
    "Chapter_04_List_of_Files_Functions_Modules_Files.Python_Code.swimclub.read_swim_data(\"Darius-13-100m-Fly.txt\")"
   ],
   "metadata": {
    "collapsed": false,
    "ExecuteTime": {
     "end_time": "2024-03-18T13:00:21.638038Z",
     "start_time": "2024-03-18T13:00:21.622594Z"
    }
   },
   "id": "4774b2172666dc79",
   "execution_count": 2
  }
 ],
 "metadata": {
  "kernelspec": {
   "display_name": "Python 3",
   "language": "python",
   "name": "python3"
  },
  "language_info": {
   "codemirror_mode": {
    "name": "ipython",
    "version": 2
   },
   "file_extension": ".py",
   "mimetype": "text/x-python",
   "name": "python",
   "nbconvert_exporter": "python",
   "pygments_lexer": "ipython2",
   "version": "2.7.6"
  }
 },
 "nbformat": 4,
 "nbformat_minor": 5
}
