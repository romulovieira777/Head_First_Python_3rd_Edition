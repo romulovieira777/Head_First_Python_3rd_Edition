{
 "cells": [
  {
   "cell_type": "code",
   "execution_count": 1,
   "id": "initial_id",
   "metadata": {
    "collapsed": true,
    "ExecuteTime": {
     "end_time": "2024-03-22T13:33:34.543748Z",
     "start_time": "2024-03-22T13:33:34.531325Z"
    }
   },
   "outputs": [],
   "source": [
    "import Chapter_04_List_of_Files_Functions_Modules_Files.Python_Code.swimclub\n",
    "\n",
    "fn = \"Darius-13-100m-Fly.txt\"\n",
    "\n",
    "(swimmer, age, distance, stroke, *_) = Chapter_04_List_of_Files_Functions_Modules_Files.Python_Code.swimclub.read_swim_data(fn)\n",
    "\n",
    "title = swimmer + \" (Under \" + age + \") \" + distance + \" \" + stroke"
   ]
  },
  {
   "cell_type": "code",
   "execution_count": 2,
   "id": "13eed3f1004764a9",
   "metadata": {
    "collapsed": false,
    "ExecuteTime": {
     "end_time": "2024-03-22T13:33:35.353435Z",
     "start_time": "2024-03-22T13:33:35.344558Z"
    }
   },
   "outputs": [
    {
     "data": {
      "text/plain": "'Darius (Under 13) 100m Fly'"
     },
     "execution_count": 2,
     "metadata": {},
     "output_type": "execute_result"
    }
   ],
   "source": [
    "title"
   ]
  },
  {
   "cell_type": "code",
   "execution_count": 3,
   "id": "d1ec5a57a841e421",
   "metadata": {
    "collapsed": false,
    "ExecuteTime": {
     "end_time": "2024-03-22T13:33:36.333085Z",
     "start_time": "2024-03-22T13:33:36.326562Z"
    }
   },
   "outputs": [],
   "source": [
    "html = \"<!DOCTYPE html><html><head><title>\" + title\n",
    "html  = html + \"</title></head><body><h3>\" + title + \"</h3>\""
   ]
  },
  {
   "cell_type": "code",
   "execution_count": 4,
   "id": "f9113e89ac5831d0",
   "metadata": {
    "collapsed": false,
    "ExecuteTime": {
     "end_time": "2024-03-22T13:33:37.169751Z",
     "start_time": "2024-03-22T13:33:37.163140Z"
    }
   },
   "outputs": [
    {
     "data": {
      "text/plain": "'<!DOCTYPE html><html><head><title>Darius (Under 13) 100m Fly</title></head><body><h3>Darius (Under 13) 100m Fly</h3>'"
     },
     "execution_count": 4,
     "metadata": {},
     "output_type": "execute_result"
    }
   ],
   "source": [
    "html"
   ]
  },
  {
   "cell_type": "code",
   "execution_count": 5,
   "id": "893aa8ac209dea71",
   "metadata": {
    "collapsed": false,
    "ExecuteTime": {
     "end_time": "2024-03-22T13:33:37.688340Z",
     "start_time": "2024-03-22T13:33:37.684383Z"
    }
   },
   "outputs": [],
   "source": [
    "title = f\"{swimmer} (Under {age}) {distance} {stroke}\""
   ]
  },
  {
   "cell_type": "code",
   "execution_count": 6,
   "id": "773596bb7b3ab285",
   "metadata": {
    "collapsed": false,
    "ExecuteTime": {
     "end_time": "2024-03-22T13:33:38.299610Z",
     "start_time": "2024-03-22T13:33:38.292540Z"
    }
   },
   "outputs": [
    {
     "data": {
      "text/plain": "'Darius (Under 13) 100m Fly'"
     },
     "execution_count": 6,
     "metadata": {},
     "output_type": "execute_result"
    }
   ],
   "source": [
    "title"
   ]
  },
  {
   "cell_type": "code",
   "execution_count": 7,
   "id": "921eac2f3a07d2de",
   "metadata": {
    "collapsed": false,
    "ExecuteTime": {
     "end_time": "2024-03-22T13:33:38.777381Z",
     "start_time": "2024-03-22T13:33:38.773105Z"
    }
   },
   "outputs": [],
   "source": [
    "html = f\"\"\"<!DOCTYPE html>\n",
    "<html>\n",
    "    <head>\n",
    "        <title>{title}</title>\n",
    "    </head>\n",
    "    <body>\n",
    "        <h3>{title}</h3>\n",
    "\"\"\""
   ]
  },
  {
   "cell_type": "code",
   "execution_count": 8,
   "id": "189442e16553911e",
   "metadata": {
    "collapsed": false,
    "ExecuteTime": {
     "end_time": "2024-03-22T13:33:39.386854Z",
     "start_time": "2024-03-22T13:33:39.380783Z"
    }
   },
   "outputs": [
    {
     "data": {
      "text/plain": "'<!DOCTYPE html>\\n<html>\\n    <head>\\n        <title>Darius (Under 13) 100m Fly</title>\\n    </head>\\n    <body>\\n        <h3>Darius (Under 13) 100m Fly</h3>\\n'"
     },
     "execution_count": 8,
     "metadata": {},
     "output_type": "execute_result"
    }
   ],
   "source": [
    "html"
   ]
  },
  {
   "cell_type": "code",
   "execution_count": 9,
   "id": "5131254e3f9855b5",
   "metadata": {
    "collapsed": false,
    "ExecuteTime": {
     "end_time": "2024-03-22T13:33:39.999337Z",
     "start_time": "2024-03-22T13:33:39.995248Z"
    }
   },
   "outputs": [
    {
     "name": "stdout",
     "output_type": "stream",
     "text": [
      "<!DOCTYPE html>\n",
      "<html>\n",
      "    <head>\n",
      "        <title>Darius (Under 13) 100m Fly</title>\n",
      "    </head>\n",
      "    <body>\n",
      "        <h3>Darius (Under 13) 100m Fly</h3>\n"
     ]
    }
   ],
   "source": [
    "print(html)"
   ]
  },
  {
   "cell_type": "code",
   "execution_count": 10,
   "id": "b41d5c94d7a8ec1e",
   "metadata": {
    "collapsed": false,
    "ExecuteTime": {
     "end_time": "2024-03-22T13:33:40.703228Z",
     "start_time": "2024-03-22T13:33:40.696631Z"
    }
   },
   "outputs": [
    {
     "data": {
      "text/plain": "('Darius',\n '13',\n '100m',\n 'Fly',\n ['1:27.95', '1:21.07', '1:30.96', '1:23.22', '1:27.95', '1:28.30'],\n '1:26.58',\n [8795, 8107, 9096, 8322, 8795, 8830])"
     },
     "execution_count": 10,
     "metadata": {},
     "output_type": "execute_result"
    }
   ],
   "source": [
    "Chapter_04_List_of_Files_Functions_Modules_Files.Python_Code.swimclub.read_swim_data(fn)"
   ]
  },
  {
   "cell_type": "code",
   "execution_count": 16,
   "id": "2eacb8fa77a78040",
   "metadata": {
    "collapsed": false,
    "ExecuteTime": {
     "end_time": "2024-03-22T13:41:40.200764Z",
     "start_time": "2024-03-22T13:41:40.192832Z"
    }
   },
   "outputs": [],
   "source": [
    "import Chapter_05_Formatted_String_Literals_Make_Charts_From_Data.Python_Code.hfpy_utils\n",
    "\n",
    "\n",
    "*_, times, average, converts = Chapter_04_List_of_Files_Functions_Modules_Files.Python_Code.swimclub.read_swim_data(fn)\n",
    "from_max = max(converts)\n",
    "svgs = \"\"\n",
    "\n",
    "for n, t in enumerate(times):\n",
    "    bar_width = Chapter_05_Formatted_String_Literals_Make_Charts_From_Data.Python_Code.hfpy_utils.convert2range(converts[n], 0, from_max, 0, 400)\n",
    "    svgs = svgs + \"\"\"\n",
    "                        <svg height=\"30\" width=\"400\">\n",
    "                            <rect height=\"30\" width=\"{bar_width}\" style=\"fill:rgb(0,0,255);\" />\n",
    "                        </svg>{t}<br />\n",
    "                   \"\"\""
   ]
  },
  {
   "cell_type": "code",
   "outputs": [
    {
     "name": "stdout",
     "output_type": "stream",
     "text": [
      "\n",
      "                        <svg height=\"30\" width=\"400\">\n",
      "                            <rect height=\"30\" width=\"{bar_width}\" style=\"fill:rgb(0,0,255);\" />\n",
      "                        </svg>{t}<br />\n",
      "                   \n",
      "                        <svg height=\"30\" width=\"400\">\n",
      "                            <rect height=\"30\" width=\"{bar_width}\" style=\"fill:rgb(0,0,255);\" />\n",
      "                        </svg>{t}<br />\n",
      "                   \n",
      "                        <svg height=\"30\" width=\"400\">\n",
      "                            <rect height=\"30\" width=\"{bar_width}\" style=\"fill:rgb(0,0,255);\" />\n",
      "                        </svg>{t}<br />\n",
      "                   \n",
      "                        <svg height=\"30\" width=\"400\">\n",
      "                            <rect height=\"30\" width=\"{bar_width}\" style=\"fill:rgb(0,0,255);\" />\n",
      "                        </svg>{t}<br />\n",
      "                   \n",
      "                        <svg height=\"30\" width=\"400\">\n",
      "                            <rect height=\"30\" width=\"{bar_width}\" style=\"fill:rgb(0,0,255);\" />\n",
      "                        </svg>{t}<br />\n",
      "                   \n",
      "                        <svg height=\"30\" width=\"400\">\n",
      "                            <rect height=\"30\" width=\"{bar_width}\" style=\"fill:rgb(0,0,255);\" />\n",
      "                        </svg>{t}<br />\n",
      "                   \n"
     ]
    }
   ],
   "source": [
    "print(svgs)"
   ],
   "metadata": {
    "collapsed": false,
    "ExecuteTime": {
     "end_time": "2024-03-22T13:41:45.573633Z",
     "start_time": "2024-03-22T13:41:45.567268Z"
    }
   },
   "id": "a29b31756dcca86a",
   "execution_count": 17
  }
 ],
 "metadata": {
  "kernelspec": {
   "display_name": "Python 3",
   "language": "python",
   "name": "python3"
  },
  "language_info": {
   "codemirror_mode": {
    "name": "ipython",
    "version": 3
   },
   "file_extension": ".py",
   "mimetype": "text/x-python",
   "name": "python",
   "nbconvert_exporter": "python",
   "pygments_lexer": "ipython3",
   "version": "3.12.1"
  }
 },
 "nbformat": 4,
 "nbformat_minor": 5
}
