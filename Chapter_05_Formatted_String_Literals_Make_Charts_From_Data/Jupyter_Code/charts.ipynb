{
 "cells": [
  {
   "cell_type": "code",
   "execution_count": 1,
   "id": "initial_id",
   "metadata": {
    "collapsed": true,
    "ExecuteTime": {
     "end_time": "2024-03-25T13:09:58.366272Z",
     "start_time": "2024-03-25T13:09:58.343615Z"
    }
   },
   "outputs": [],
   "source": [
    "import Chapter_04_List_of_Files_Functions_Modules_Files.Python_Code.swimclub\n",
    "\n",
    "fn = \"Darius-13-100m-Fly.txt\"\n",
    "\n",
    "(swimmer, age, distance, stroke, *_) = Chapter_04_List_of_Files_Functions_Modules_Files.Python_Code.swimclub.read_swim_data(fn)\n",
    "\n",
    "title = swimmer + \" (Under \" + age + \") \" + distance + \" \" + stroke"
   ]
  },
  {
   "cell_type": "code",
   "execution_count": 2,
   "id": "13eed3f1004764a9",
   "metadata": {
    "collapsed": false,
    "ExecuteTime": {
     "end_time": "2024-03-25T13:09:58.375798Z",
     "start_time": "2024-03-25T13:09:58.367694Z"
    }
   },
   "outputs": [
    {
     "data": {
      "text/plain": "'Darius (Under 13) 100m Fly'"
     },
     "execution_count": 2,
     "metadata": {},
     "output_type": "execute_result"
    }
   ],
   "source": [
    "title"
   ]
  },
  {
   "cell_type": "code",
   "outputs": [
    {
     "data": {
      "text/plain": "[['1:27.95', '1:21.07', '1:30.96', '1:23.22', '1:27.95', '1:28.30'],\n '1:26.00',\n [8795, 8107, 9096, 8322, 8795, 8830]]"
     },
     "execution_count": 3,
     "metadata": {},
     "output_type": "execute_result"
    }
   ],
   "source": [
    "_"
   ],
   "metadata": {
    "collapsed": false,
    "ExecuteTime": {
     "end_time": "2024-03-25T13:09:58.531172Z",
     "start_time": "2024-03-25T13:09:58.377989Z"
    }
   },
   "id": "1ce13262c26921c",
   "execution_count": 3
  },
  {
   "cell_type": "code",
   "execution_count": 4,
   "id": "d1ec5a57a841e421",
   "metadata": {
    "collapsed": false,
    "ExecuteTime": {
     "end_time": "2024-03-25T13:10:05.716178Z",
     "start_time": "2024-03-25T13:10:05.712726Z"
    }
   },
   "outputs": [],
   "source": [
    "html = \"<!DOCTYPE html><html><head><title>\" + title\n",
    "html  = html + \"</title></head><body><h3>\" + title + \"</h3>\""
   ]
  },
  {
   "cell_type": "code",
   "execution_count": 5,
   "id": "f9113e89ac5831d0",
   "metadata": {
    "collapsed": false,
    "ExecuteTime": {
     "end_time": "2024-03-25T13:10:06.089300Z",
     "start_time": "2024-03-25T13:10:06.067898Z"
    }
   },
   "outputs": [
    {
     "data": {
      "text/plain": "'<!DOCTYPE html><html><head><title>Darius (Under 13) 100m Fly</title></head><body><h3>Darius (Under 13) 100m Fly</h3>'"
     },
     "execution_count": 5,
     "metadata": {},
     "output_type": "execute_result"
    }
   ],
   "source": [
    "html"
   ]
  },
  {
   "cell_type": "code",
   "execution_count": 6,
   "id": "893aa8ac209dea71",
   "metadata": {
    "collapsed": false,
    "ExecuteTime": {
     "end_time": "2024-03-25T13:10:06.617976Z",
     "start_time": "2024-03-25T13:10:06.613771Z"
    }
   },
   "outputs": [],
   "source": [
    "title = f\"{swimmer} (Under {age}) {distance} {stroke}\""
   ]
  },
  {
   "cell_type": "code",
   "execution_count": 7,
   "id": "773596bb7b3ab285",
   "metadata": {
    "collapsed": false,
    "ExecuteTime": {
     "end_time": "2024-03-25T13:10:06.925520Z",
     "start_time": "2024-03-25T13:10:06.916216Z"
    }
   },
   "outputs": [
    {
     "data": {
      "text/plain": "'Darius (Under 13) 100m Fly'"
     },
     "execution_count": 7,
     "metadata": {},
     "output_type": "execute_result"
    }
   ],
   "source": [
    "title"
   ]
  },
  {
   "cell_type": "code",
   "execution_count": 8,
   "id": "921eac2f3a07d2de",
   "metadata": {
    "collapsed": false,
    "ExecuteTime": {
     "end_time": "2024-03-25T13:10:07.332613Z",
     "start_time": "2024-03-25T13:10:07.329023Z"
    }
   },
   "outputs": [],
   "source": [
    "html = f\"\"\"<!DOCTYPE html>\n",
    "<html>\n",
    "    <head>\n",
    "        <title>{title}</title>\n",
    "    </head>\n",
    "    <body>\n",
    "        <h3>{title}</h3>\n",
    "\"\"\""
   ]
  },
  {
   "cell_type": "code",
   "execution_count": 9,
   "id": "189442e16553911e",
   "metadata": {
    "collapsed": false,
    "ExecuteTime": {
     "end_time": "2024-03-25T13:10:07.805113Z",
     "start_time": "2024-03-25T13:10:07.742230Z"
    }
   },
   "outputs": [
    {
     "data": {
      "text/plain": "'<!DOCTYPE html>\\n<html>\\n    <head>\\n        <title>Darius (Under 13) 100m Fly</title>\\n    </head>\\n    <body>\\n        <h3>Darius (Under 13) 100m Fly</h3>\\n'"
     },
     "execution_count": 9,
     "metadata": {},
     "output_type": "execute_result"
    }
   ],
   "source": [
    "html"
   ]
  },
  {
   "cell_type": "code",
   "execution_count": 10,
   "id": "5131254e3f9855b5",
   "metadata": {
    "collapsed": false,
    "ExecuteTime": {
     "end_time": "2024-03-25T13:10:08.119765Z",
     "start_time": "2024-03-25T13:10:08.114445Z"
    }
   },
   "outputs": [
    {
     "name": "stdout",
     "output_type": "stream",
     "text": [
      "<!DOCTYPE html>\n",
      "<html>\n",
      "    <head>\n",
      "        <title>Darius (Under 13) 100m Fly</title>\n",
      "    </head>\n",
      "    <body>\n",
      "        <h3>Darius (Under 13) 100m Fly</h3>\n"
     ]
    }
   ],
   "source": [
    "print(html)"
   ]
  },
  {
   "cell_type": "code",
   "execution_count": 11,
   "id": "b41d5c94d7a8ec1e",
   "metadata": {
    "collapsed": false,
    "ExecuteTime": {
     "end_time": "2024-03-25T13:10:08.774320Z",
     "start_time": "2024-03-25T13:10:08.766759Z"
    }
   },
   "outputs": [
    {
     "data": {
      "text/plain": "('Darius',\n '13',\n '100m',\n 'Fly',\n ['1:27.95', '1:21.07', '1:30.96', '1:23.22', '1:27.95', '1:28.30'],\n '1:26.00',\n [8795, 8107, 9096, 8322, 8795, 8830])"
     },
     "execution_count": 11,
     "metadata": {},
     "output_type": "execute_result"
    }
   ],
   "source": [
    "Chapter_04_List_of_Files_Functions_Modules_Files.Python_Code.swimclub.read_swim_data(fn)"
   ]
  },
  {
   "cell_type": "code",
   "execution_count": 12,
   "id": "2eacb8fa77a78040",
   "metadata": {
    "collapsed": false,
    "ExecuteTime": {
     "end_time": "2024-03-25T13:10:09.300068Z",
     "start_time": "2024-03-25T13:10:09.235065Z"
    }
   },
   "outputs": [],
   "source": [
    "import Chapter_05_Formatted_String_Literals_Make_Charts_From_Data.Python_Code.hfpy_utils\n",
    "\n",
    "\n",
    "*_, times, average, converts = Chapter_04_List_of_Files_Functions_Modules_Files.Python_Code.swimclub.read_swim_data(fn)\n",
    "from_max = max(converts)\n",
    "svgs = \"\"\n",
    "times.reverse()\n",
    "converts.reverse()\n",
    "\n",
    "for n, t in enumerate(times):\n",
    "    bar_width = Chapter_05_Formatted_String_Literals_Make_Charts_From_Data.Python_Code.hfpy_utils.convert2range(converts[n], 0, from_max, 0, 350)\n",
    "    svgs = svgs + f\"\"\"\n",
    "                        <svg height=\"30\" width=\"400\">\n",
    "                            <rect height=\"30\" width=\"{bar_width}\" style=\"fill:rgb(0,0,255);\" />\n",
    "                        </svg>{t}<br />\n",
    "                   \"\"\""
   ]
  },
  {
   "cell_type": "code",
   "outputs": [
    {
     "name": "stdout",
     "output_type": "stream",
     "text": [
      "\n",
      "                        <svg height=\"30\" width=\"400\">\n",
      "                            <rect height=\"30\" width=\"339.76\" style=\"fill:rgb(0,0,255);\" />\n",
      "                        </svg>1:28.30<br />\n",
      "                   \n",
      "                        <svg height=\"30\" width=\"400\">\n",
      "                            <rect height=\"30\" width=\"338.42\" style=\"fill:rgb(0,0,255);\" />\n",
      "                        </svg>1:27.95<br />\n",
      "                   \n",
      "                        <svg height=\"30\" width=\"400\">\n",
      "                            <rect height=\"30\" width=\"320.22\" style=\"fill:rgb(0,0,255);\" />\n",
      "                        </svg>1:23.22<br />\n",
      "                   \n",
      "                        <svg height=\"30\" width=\"400\">\n",
      "                            <rect height=\"30\" width=\"350.0\" style=\"fill:rgb(0,0,255);\" />\n",
      "                        </svg>1:30.96<br />\n",
      "                   \n",
      "                        <svg height=\"30\" width=\"400\">\n",
      "                            <rect height=\"30\" width=\"311.94\" style=\"fill:rgb(0,0,255);\" />\n",
      "                        </svg>1:21.07<br />\n",
      "                   \n",
      "                        <svg height=\"30\" width=\"400\">\n",
      "                            <rect height=\"30\" width=\"338.42\" style=\"fill:rgb(0,0,255);\" />\n",
      "                        </svg>1:27.95<br />\n",
      "                   \n"
     ]
    }
   ],
   "source": [
    "print(svgs)"
   ],
   "metadata": {
    "collapsed": false,
    "ExecuteTime": {
     "end_time": "2024-03-25T13:10:09.870534Z",
     "start_time": "2024-03-25T13:10:09.865329Z"
    }
   },
   "id": "a29b31756dcca86a",
   "execution_count": 13
  },
  {
   "cell_type": "code",
   "outputs": [],
   "source": [
    "footer = f\"\"\"<p>Average time: {average}</p>\n",
    "            </body>\n",
    "        </html>\"\"\""
   ],
   "metadata": {
    "collapsed": false,
    "ExecuteTime": {
     "end_time": "2024-03-25T13:10:10.375638Z",
     "start_time": "2024-03-25T13:10:10.371563Z"
    }
   },
   "id": "b74cb2d2792e60c9",
   "execution_count": 14
  },
  {
   "cell_type": "code",
   "outputs": [],
   "source": [
    "page = html + svgs + footer"
   ],
   "metadata": {
    "collapsed": false,
    "ExecuteTime": {
     "end_time": "2024-03-25T13:10:10.898396Z",
     "start_time": "2024-03-25T13:10:10.894713Z"
    }
   },
   "id": "12d2a4dfe452a451",
   "execution_count": 15
  },
  {
   "cell_type": "code",
   "outputs": [],
   "source": [
    "with open(\"teste.txt\", \"w\") as teste:\n",
    "    print(\"This is a test\", file=teste)"
   ],
   "metadata": {
    "collapsed": false,
    "ExecuteTime": {
     "end_time": "2024-03-25T13:10:11.306768Z",
     "start_time": "2024-03-25T13:10:11.301326Z"
    }
   },
   "id": "81bdb9e38fa9d32d",
   "execution_count": 16
  },
  {
   "cell_type": "code",
   "outputs": [],
   "source": [
    "save_to = f\"../charts/{fn.removesuffix('.txt')}.html\""
   ],
   "metadata": {
    "collapsed": false,
    "ExecuteTime": {
     "end_time": "2024-03-25T13:10:11.794678Z",
     "start_time": "2024-03-25T13:10:11.788865Z"
    }
   },
   "id": "7e2b6f6862cafed",
   "execution_count": 17
  },
  {
   "cell_type": "code",
   "outputs": [],
   "source": [
    "with open(save_to, \"w\") as sf:\n",
    "    print(page, file=sf)"
   ],
   "metadata": {
    "collapsed": false,
    "ExecuteTime": {
     "end_time": "2024-03-25T13:10:12.286878Z",
     "start_time": "2024-03-25T13:10:12.282091Z"
    }
   },
   "id": "6cd265700cabd15a",
   "execution_count": 18
  },
  {
   "cell_type": "code",
   "outputs": [],
   "source": [
    "import os\n",
    "import webbrowser"
   ],
   "metadata": {
    "collapsed": false,
    "ExecuteTime": {
     "end_time": "2024-03-25T13:10:12.986246Z",
     "start_time": "2024-03-25T13:10:12.979679Z"
    }
   },
   "id": "8a1ed99294379c8b",
   "execution_count": 19
  },
  {
   "cell_type": "code",
   "outputs": [
    {
     "data": {
      "text/plain": "True"
     },
     "execution_count": 20,
     "metadata": {},
     "output_type": "execute_result"
    }
   ],
   "source": [
    "webbrowser.open(\"file://\" + os.path.realpath(save_to))"
   ],
   "metadata": {
    "collapsed": false,
    "ExecuteTime": {
     "end_time": "2024-03-25T13:10:14.032321Z",
     "start_time": "2024-03-25T13:10:13.593955Z"
    }
   },
   "id": "6684a72a53e4097d",
   "execution_count": 20
  },
  {
   "cell_type": "code",
   "outputs": [
    {
     "data": {
      "text/plain": "'../charts/Darius-13-100m-Fly.html'"
     },
     "execution_count": 21,
     "metadata": {},
     "output_type": "execute_result"
    }
   ],
   "source": [
    "Chapter_04_List_of_Files_Functions_Modules_Files.Python_Code.swimclub.produce_bar_chart(\"Darius-13-100m-Fly.txt\")"
   ],
   "metadata": {
    "collapsed": false,
    "ExecuteTime": {
     "end_time": "2024-03-25T13:10:20.224454Z",
     "start_time": "2024-03-25T13:10:20.217490Z"
    }
   },
   "id": "878c8cc8a89d300b",
   "execution_count": 21
  },
  {
   "cell_type": "code",
   "outputs": [
    {
     "data": {
      "text/plain": "True"
     },
     "execution_count": 22,
     "metadata": {},
     "output_type": "execute_result"
    }
   ],
   "source": [
    "chart = Chapter_04_List_of_Files_Functions_Modules_Files.Python_Code.swimclub.produce_bar_chart(\"Darius-13-100m-Fly.txt\")\n",
    "\n",
    "webbrowser.open(\"file://\" + os.path.realpath(chart))"
   ],
   "metadata": {
    "collapsed": false,
    "ExecuteTime": {
     "end_time": "2024-03-25T13:10:21.768063Z",
     "start_time": "2024-03-25T13:10:21.687668Z"
    }
   },
   "id": "8b7306d9fb0d280a",
   "execution_count": 22
  },
  {
   "cell_type": "code",
   "outputs": [
    {
     "data": {
      "text/plain": "True"
     },
     "execution_count": 23,
     "metadata": {},
     "output_type": "execute_result"
    }
   ],
   "source": [
    "chart = Chapter_04_List_of_Files_Functions_Modules_Files.Python_Code.swimclub.produce_bar_chart(\"Dave-17-100m-Free.txt\")\n",
    "\n",
    "webbrowser.open(\"file://\" + os.path.realpath(chart))"
   ],
   "metadata": {
    "collapsed": false,
    "ExecuteTime": {
     "end_time": "2024-03-25T13:10:28.614666Z",
     "start_time": "2024-03-25T13:10:28.553155Z"
    }
   },
   "id": "feeed975e9cbc3af",
   "execution_count": 23
  },
  {
   "cell_type": "code",
   "outputs": [
    {
     "data": {
      "text/plain": "True"
     },
     "execution_count": 24,
     "metadata": {},
     "output_type": "execute_result"
    }
   ],
   "source": [
    "chart = Chapter_04_List_of_Files_Functions_Modules_Files.Python_Code.swimclub.produce_bar_chart(\"Lizzie-14-100m-Back.txt\")\n",
    "\n",
    "webbrowser.open(\"file://\" + os.path.realpath(chart))"
   ],
   "metadata": {
    "collapsed": false,
    "ExecuteTime": {
     "end_time": "2024-03-25T13:10:33.833253Z",
     "start_time": "2024-03-25T13:10:33.764094Z"
    }
   },
   "id": "b3cae0b2bbcd8200",
   "execution_count": 24
  }
 ],
 "metadata": {
  "kernelspec": {
   "display_name": "Python 3",
   "language": "python",
   "name": "python3"
  },
  "language_info": {
   "codemirror_mode": {
    "name": "ipython",
    "version": 3
   },
   "file_extension": ".py",
   "mimetype": "text/x-python",
   "name": "python",
   "nbconvert_exporter": "python",
   "pygments_lexer": "ipython3",
   "version": "3.12.1"
  }
 },
 "nbformat": 4,
 "nbformat_minor": 5
}
