{
 "cells": [
  {
   "cell_type": "code",
   "execution_count": 1,
   "id": "initial_id",
   "metadata": {
    "collapsed": true,
    "ExecuteTime": {
     "end_time": "2024-03-22T13:25:16.869002Z",
     "start_time": "2024-03-22T13:25:16.857369Z"
    }
   },
   "outputs": [],
   "source": [
    "import Chapter_04_List_of_Files_Functions_Modules_Files.Python_Code.swimclub\n",
    "\n",
    "fn = \"Darius-13-100m-Fly.txt\"\n",
    "\n",
    "*_, converts = Chapter_04_List_of_Files_Functions_Modules_Files.Python_Code.swimclub.read_swim_data(fn)"
   ]
  },
  {
   "cell_type": "code",
   "outputs": [
    {
     "data": {
      "text/plain": "[8795, 8107, 9096, 8322, 8795, 8830]"
     },
     "execution_count": 2,
     "metadata": {},
     "output_type": "execute_result"
    }
   ],
   "source": [
    "converts"
   ],
   "metadata": {
    "collapsed": false,
    "ExecuteTime": {
     "end_time": "2024-03-22T13:25:20.488305Z",
     "start_time": "2024-03-22T13:25:20.477539Z"
    }
   },
   "id": "e019717c2b4e7a85",
   "execution_count": 2
  },
  {
   "cell_type": "code",
   "outputs": [
    {
     "data": {
      "text/plain": "['Darius',\n '13',\n '100m',\n 'Fly',\n ['1:27.95', '1:21.07', '1:30.96', '1:23.22', '1:27.95', '1:28.30'],\n '1:26.58']"
     },
     "execution_count": 3,
     "metadata": {},
     "output_type": "execute_result"
    }
   ],
   "source": [
    "_"
   ],
   "metadata": {
    "collapsed": false,
    "ExecuteTime": {
     "end_time": "2024-03-22T13:27:44.705390Z",
     "start_time": "2024-03-22T13:27:44.697435Z"
    }
   },
   "id": "64c1f686273cc4c8",
   "execution_count": 3
  },
  {
   "cell_type": "code",
   "outputs": [
    {
     "name": "stdout",
     "output_type": "stream",
     "text": [
      "8795 -> 386.76\n",
      "8107 -> 356.51\n",
      "9096 -> 400.0\n",
      "8322 -> 365.96\n",
      "8795 -> 386.76\n",
      "8830 -> 388.3\n"
     ]
    }
   ],
   "source": [
    "import Chapter_05_Formatted_String_Literals_Make_Charts_From_Data.Python_Code.hfpy_utils\n",
    "\n",
    "for n in converts:\n",
    "    print(n, \"->\", Chapter_05_Formatted_String_Literals_Make_Charts_From_Data.Python_Code.hfpy_utils.convert2range(n, 0, max(converts), 0, 400))"
   ],
   "metadata": {
    "collapsed": false,
    "ExecuteTime": {
     "end_time": "2024-03-22T13:28:32.696104Z",
     "start_time": "2024-03-22T13:28:32.688271Z"
    }
   },
   "id": "7f8abe722d1cfc14",
   "execution_count": 5
  }
 ],
 "metadata": {
  "kernelspec": {
   "display_name": "Python 3",
   "language": "python",
   "name": "python3"
  },
  "language_info": {
   "codemirror_mode": {
    "name": "ipython",
    "version": 2
   },
   "file_extension": ".py",
   "mimetype": "text/x-python",
   "name": "python",
   "nbconvert_exporter": "python",
   "pygments_lexer": "ipython2",
   "version": "2.7.6"
  }
 },
 "nbformat": 4,
 "nbformat_minor": 5
}
