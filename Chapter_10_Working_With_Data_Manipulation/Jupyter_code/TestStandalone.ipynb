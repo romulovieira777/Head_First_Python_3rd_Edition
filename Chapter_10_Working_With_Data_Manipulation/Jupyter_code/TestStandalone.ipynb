{
 "cells": [
  {
   "cell_type": "code",
   "id": "initial_id",
   "metadata": {
    "collapsed": true,
    "ExecuteTime": {
     "end_time": "2024-04-16T12:25:19.597267Z",
     "start_time": "2024-04-16T12:25:19.592170Z"
    }
   },
   "source": [
    "def event_lookup(event):\n",
    "    conversions = {\n",
    "        \"Free\": \"freestyle\",\n",
    "        \"Back\": \"backstroke\",\n",
    "        \"Breast\": \"breaststroke\",\n",
    "        \"Fly\": \"butterfly\",\n",
    "        \"IM\": \"individual medley\",\n",
    "    }\n",
    "    *_, distance, stroke = event.removesuffix(\".txt\").split(\"-\")\n",
    "    lookup = f\"{distance} {conversions[stroke]}\"\n",
    "    return lookup"
   ],
   "outputs": [],
   "execution_count": 1
  },
  {
   "metadata": {
    "ExecuteTime": {
     "end_time": "2024-04-16T12:26:07.529906Z",
     "start_time": "2024-04-16T12:26:07.524130Z"
    }
   },
   "cell_type": "code",
   "source": [
    "print(event_lookup(\"Darius-13-100m-Back.txt\"))\n",
    "print(event_lookup(\"Darius-13-100m-Breast.txt\"))\n",
    "print(event_lookup(\"Darius-13-100m-Fly.txt\"))\n",
    "print(event_lookup(\"Darius-13-100m-IM.txt\"))"
   ],
   "id": "1888c3eed900ebaf",
   "outputs": [
    {
     "name": "stdout",
     "output_type": "stream",
     "text": [
      "100m backstroke\n",
      "100m breaststroke\n",
      "100m butterfly\n",
      "100m individual medley\n"
     ]
    }
   ],
   "execution_count": 2
  },
  {
   "metadata": {
    "ExecuteTime": {
     "end_time": "2024-04-16T12:27:29.356883Z",
     "start_time": "2024-04-16T12:27:29.276963Z"
    }
   },
   "cell_type": "code",
   "source": [
    "import json\n",
    "\n",
    "\n",
    "with open(\"records.json\") as jf:\n",
    "    records = json.load(jf)"
   ],
   "id": "17dbadc68ac16e3",
   "outputs": [],
   "execution_count": 3
  },
  {
   "metadata": {
    "ExecuteTime": {
     "end_time": "2024-04-16T12:27:50.614761Z",
     "start_time": "2024-04-16T12:27:50.606721Z"
    }
   },
   "cell_type": "code",
   "source": "records[\"LC Men\"][event_lookup(\"Darius-13-100m-Fly.txt\")]",
   "id": "2b5c96cf3dad6f51",
   "outputs": [
    {
     "data": {
      "text/plain": [
       "'49.45'"
      ]
     },
     "execution_count": 4,
     "metadata": {},
     "output_type": "execute_result"
    }
   ],
   "execution_count": 4
  },
  {
   "metadata": {
    "ExecuteTime": {
     "end_time": "2024-04-16T12:35:34.513406Z",
     "start_time": "2024-04-16T12:35:34.508748Z"
    }
   },
   "cell_type": "code",
   "source": "COURSES = (\"LC Men\", \"LC Women\", \"SC Men\", \"SC Women\")",
   "id": "a534336947c677b7",
   "outputs": [],
   "execution_count": 5
  },
  {
   "metadata": {
    "ExecuteTime": {
     "end_time": "2024-04-16T12:35:53.012025Z",
     "start_time": "2024-04-16T12:35:53.006998Z"
    }
   },
   "cell_type": "code",
   "source": [
    "for course in COURSES:\n",
    "    print(records[course][event_lookup(\"Darius-13-100m-Fly.txt\")])"
   ],
   "id": "cf15422416d2dc74",
   "outputs": [
    {
     "name": "stdout",
     "output_type": "stream",
     "text": [
      "49.45\n",
      "55.48\n",
      "47.78\n",
      "54.05\n"
     ]
    }
   ],
   "execution_count": 6
  },
  {
   "metadata": {
    "ExecuteTime": {
     "end_time": "2024-04-16T12:42:54.619021Z",
     "start_time": "2024-04-16T12:42:54.610624Z"
    }
   },
   "cell_type": "code",
   "source": [
    "times = []\n",
    "for course in COURSES:\n",
    "    times.append(records[course][event_lookup(\"Darius-13-100m-Fly.txt\")])"
   ],
   "id": "e2bf4d85b7695a92",
   "outputs": [],
   "execution_count": 7
  },
  {
   "metadata": {
    "ExecuteTime": {
     "end_time": "2024-04-16T12:42:56.238724Z",
     "start_time": "2024-04-16T12:42:56.233494Z"
    }
   },
   "cell_type": "code",
   "source": "f\"<p>M: {times[0]} ({times[2]})<br />M: {times[1]} ({times[3]})</p>\"",
   "id": "bf80d38a96833560",
   "outputs": [
    {
     "data": {
      "text/plain": [
       "'<p>M: 49.45 (47.78)<br />M: 55.48 (54.05)</p>'"
      ]
     },
     "execution_count": 8,
     "metadata": {},
     "output_type": "execute_result"
    }
   ],
   "execution_count": 8
  },
  {
   "metadata": {},
   "cell_type": "code",
   "outputs": [],
   "execution_count": null,
   "source": "",
   "id": "2a0295d10662cc3b"
  }
 ],
 "metadata": {
  "kernelspec": {
   "display_name": "Python 3",
   "language": "python",
   "name": "python3"
  },
  "language_info": {
   "codemirror_mode": {
    "name": "ipython",
    "version": 2
   },
   "file_extension": ".py",
   "mimetype": "text/x-python",
   "name": "python",
   "nbconvert_exporter": "python",
   "pygments_lexer": "ipython2",
   "version": "2.7.6"
  }
 },
 "nbformat": 4,
 "nbformat_minor": 5
}
