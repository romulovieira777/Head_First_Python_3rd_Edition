{
 "cells": [
  {
   "metadata": {
    "ExecuteTime": {
     "end_time": "2024-04-08T13:11:37.756558Z",
     "start_time": "2024-04-08T13:11:37.750518Z"
    }
   },
   "cell_type": "code",
   "source": "name = \"Katie-9-100m-Free.txt\"",
   "id": "83a770feba0ddaba",
   "outputs": [],
   "execution_count": 1
  },
  {
   "metadata": {
    "ExecuteTime": {
     "end_time": "2024-04-08T13:11:45.174713Z",
     "start_time": "2024-04-08T13:11:45.154982Z"
    }
   },
   "cell_type": "code",
   "source": "name.removesuffix(\".txt\")",
   "id": "6555a031cff28442",
   "outputs": [
    {
     "data": {
      "text/plain": [
       "'Katie-9-100m-Free'"
      ]
     },
     "execution_count": 2,
     "metadata": {},
     "output_type": "execute_result"
    }
   ],
   "execution_count": 2
  },
  {
   "metadata": {
    "ExecuteTime": {
     "end_time": "2024-04-08T13:11:56.325082Z",
     "start_time": "2024-04-08T13:11:56.318007Z"
    }
   },
   "cell_type": "code",
   "source": "name.removesuffix(\".txt\").split(\"-\")",
   "id": "44b730d26ab3aef3",
   "outputs": [
    {
     "data": {
      "text/plain": [
       "['Katie', '9', '100m', 'Free']"
      ]
     },
     "execution_count": 3,
     "metadata": {},
     "output_type": "execute_result"
    }
   ],
   "execution_count": 3
  },
  {
   "metadata": {
    "ExecuteTime": {
     "end_time": "2024-04-08T13:12:09.709614Z",
     "start_time": "2024-04-08T13:12:09.704146Z"
    }
   },
   "cell_type": "code",
   "source": "name.removesuffix(\".txt\").split(\"-\", 2)",
   "id": "f6ad4ed9f8f00305",
   "outputs": [
    {
     "data": {
      "text/plain": [
       "['Katie', '9', '100m-Free']"
      ]
     },
     "execution_count": 4,
     "metadata": {},
     "output_type": "execute_result"
    }
   ],
   "execution_count": 4
  },
  {
   "metadata": {
    "ExecuteTime": {
     "end_time": "2024-04-08T13:12:18.618579Z",
     "start_time": "2024-04-08T13:12:18.601652Z"
    }
   },
   "cell_type": "code",
   "source": "name.removesuffix(\".txt\").split(\"-\", 2)[-1]",
   "id": "dcd7fbc787bd525f",
   "outputs": [
    {
     "data": {
      "text/plain": [
       "'100m-Free'"
      ]
     },
     "execution_count": 5,
     "metadata": {},
     "output_type": "execute_result"
    }
   ],
   "execution_count": 5
  },
  {
   "metadata": {
    "ExecuteTime": {
     "end_time": "2024-04-08T13:12:29.187538Z",
     "start_time": "2024-04-08T13:12:29.180227Z"
    }
   },
   "cell_type": "code",
   "source": "name = \"Katie\"",
   "id": "4b2b1b09b4a7ffe6",
   "outputs": [],
   "execution_count": 6
  },
  {
   "metadata": {
    "ExecuteTime": {
     "end_time": "2024-04-08T13:12:35.531603Z",
     "start_time": "2024-04-08T13:12:35.519968Z"
    }
   },
   "cell_type": "code",
   "source": "name.removesuffix(\".txt\").split(\"-\", 2)[-1]",
   "id": "e0d769aed6492dec",
   "outputs": [
    {
     "data": {
      "text/plain": [
       "'Katie'"
      ]
     },
     "execution_count": 7,
     "metadata": {},
     "output_type": "execute_result"
    }
   ],
   "execution_count": 7
  }
 ],
 "metadata": {
  "kernelspec": {
   "display_name": "Python 3",
   "language": "python",
   "name": "python3"
  },
  "language_info": {
   "codemirror_mode": {
    "name": "ipython",
    "version": 2
   },
   "file_extension": ".py",
   "mimetype": "text/x-python",
   "name": "python",
   "nbconvert_exporter": "python",
   "pygments_lexer": "ipython2",
   "version": "2.7.6"
  }
 },
 "nbformat": 4,
 "nbformat_minor": 5
}
