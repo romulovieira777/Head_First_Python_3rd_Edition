{
 "cells": [
  {
   "cell_type": "code",
   "id": "initial_id",
   "metadata": {
    "collapsed": true,
    "ExecuteTime": {
     "end_time": "2024-05-06T12:35:04.863784Z",
     "start_time": "2024-05-06T12:35:04.853615Z"
    }
   },
   "source": [
    "import random\n",
    "\n",
    "\n",
    "class CardDeck:\n",
    "    def __init__(self):\n",
    "        self.reset()\n",
    "    \n",
    "    def reset(self):\n",
    "        suits = ['Clubs', 'Spades', 'Hearts', 'Diamonds']\n",
    "        faces = ['Jack', 'Queen', 'King', 'Ace']\n",
    "        numbered = [2, 3, 4, 5, 6, 7, 8, 9, 10]\n",
    "        self.deck = set()\n",
    "        for suit in suits:\n",
    "            for card in faces + numbered:\n",
    "                self.deck.add(f\"{card} of {suit}\")\n",
    "    \n",
    "    def draw(self):\n",
    "        card = random.choice(list(self.deck))\n",
    "        self.deck.remove(card)\n",
    "        return card\n",
    "    \n",
    "    def __len__(self):\n",
    "        return len(self.deck)"
   ],
   "outputs": [],
   "execution_count": 1
  },
  {
   "metadata": {
    "ExecuteTime": {
     "end_time": "2024-05-06T12:35:15.743039Z",
     "start_time": "2024-05-06T12:35:15.738111Z"
    }
   },
   "cell_type": "code",
   "source": "deck = CardDeck()",
   "id": "466cdd8af11d5fe6",
   "outputs": [],
   "execution_count": 2
  },
  {
   "metadata": {
    "ExecuteTime": {
     "end_time": "2024-05-06T12:35:21.901394Z",
     "start_time": "2024-05-06T12:35:21.894198Z"
    }
   },
   "cell_type": "code",
   "source": "len(deck)",
   "id": "31b30b1fd1c889dd",
   "outputs": [
    {
     "data": {
      "text/plain": [
       "52"
      ]
     },
     "execution_count": 3,
     "metadata": {},
     "output_type": "execute_result"
    }
   ],
   "execution_count": 3
  },
  {
   "metadata": {
    "ExecuteTime": {
     "end_time": "2024-05-06T12:35:48.596156Z",
     "start_time": "2024-05-06T12:35:48.591184Z"
    }
   },
   "cell_type": "code",
   "source": [
    "for _ in range(5):\n",
    "    print(deck.draw())"
   ],
   "id": "b540cfd03c351a4b",
   "outputs": [
    {
     "name": "stdout",
     "output_type": "stream",
     "text": [
      "3 of Clubs\n",
      "King of Diamonds\n",
      "9 of Diamonds\n",
      "10 of Diamonds\n",
      "2 of Spades\n"
     ]
    }
   ],
   "execution_count": 4
  },
  {
   "metadata": {
    "ExecuteTime": {
     "end_time": "2024-05-06T12:35:54.040476Z",
     "start_time": "2024-05-06T12:35:54.035499Z"
    }
   },
   "cell_type": "code",
   "source": "len(deck)",
   "id": "bbf27cf7784371c2",
   "outputs": [
    {
     "data": {
      "text/plain": [
       "47"
      ]
     },
     "execution_count": 5,
     "metadata": {},
     "output_type": "execute_result"
    }
   ],
   "execution_count": 5
  },
  {
   "metadata": {
    "ExecuteTime": {
     "end_time": "2024-05-06T12:35:59.602546Z",
     "start_time": "2024-05-06T12:35:59.598411Z"
    }
   },
   "cell_type": "code",
   "source": "deck.reset()",
   "id": "71f3bd8e677e992b",
   "outputs": [],
   "execution_count": 6
  },
  {
   "metadata": {
    "ExecuteTime": {
     "end_time": "2024-05-06T12:36:02.165760Z",
     "start_time": "2024-05-06T12:36:02.155713Z"
    }
   },
   "cell_type": "code",
   "source": "len(deck)",
   "id": "8c6c55df9f73a52e",
   "outputs": [
    {
     "data": {
      "text/plain": [
       "52"
      ]
     },
     "execution_count": 7,
     "metadata": {},
     "output_type": "execute_result"
    }
   ],
   "execution_count": 7
  }
 ],
 "metadata": {
  "kernelspec": {
   "display_name": "Python 3",
   "language": "python",
   "name": "python3"
  },
  "language_info": {
   "codemirror_mode": {
    "name": "ipython",
    "version": 2
   },
   "file_extension": ".py",
   "mimetype": "text/x-python",
   "name": "python",
   "nbconvert_exporter": "python",
   "pygments_lexer": "ipython2",
   "version": "2.7.6"
  }
 },
 "nbformat": 4,
 "nbformat_minor": 5
}
