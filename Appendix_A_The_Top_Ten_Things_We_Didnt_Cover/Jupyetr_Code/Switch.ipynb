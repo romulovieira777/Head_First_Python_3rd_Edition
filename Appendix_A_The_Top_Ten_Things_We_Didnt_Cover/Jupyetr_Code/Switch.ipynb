{
 "cells": [
  {
   "cell_type": "code",
   "id": "initial_id",
   "metadata": {
    "collapsed": true,
    "ExecuteTime": {
     "end_time": "2024-05-06T12:48:33.567982Z",
     "start_time": "2024-05-06T12:48:33.559292Z"
    }
   },
   "source": [
    "thing = \"a\"\n",
    "\n",
    "if thing == 1:\n",
    "    print(\"You look like a 1.\")\n",
    "elif thing == \"A\":\n",
    "    print(\"You look like an UPPERCASE A.\")\n",
    "elif thing == \"a\":\n",
    "    print(\"You look like a lowercase a.\")\n",
    "else:\n",
    "    print(\"We've no idea what you are.\")"
   ],
   "outputs": [
    {
     "name": "stdout",
     "output_type": "stream",
     "text": [
      "You look like a lowercase a.\n"
     ]
    }
   ],
   "execution_count": 1
  },
  {
   "metadata": {
    "ExecuteTime": {
     "end_time": "2024-05-06T12:49:10.155713Z",
     "start_time": "2024-05-06T12:49:10.147413Z"
    }
   },
   "cell_type": "code",
   "source": [
    "thing = \"a\"\n",
    "\n",
    "match thing:\n",
    "    case 1:\n",
    "        print(\"You look like a 1.\")\n",
    "    case \"A\":\n",
    "        print(\"You look like an UPPERCASE A.\")\n",
    "    case \"a\":\n",
    "        print(\"You look like a lowercase a.\")\n",
    "    case _:\n",
    "        print(\"We've no idea what you are.\")"
   ],
   "id": "16da6c121ac3bc29",
   "outputs": [
    {
     "name": "stdout",
     "output_type": "stream",
     "text": [
      "You look like a lowercase a.\n"
     ]
    }
   ],
   "execution_count": 2
  }
 ],
 "metadata": {
  "kernelspec": {
   "display_name": "Python 3",
   "language": "python",
   "name": "python3"
  },
  "language_info": {
   "codemirror_mode": {
    "name": "ipython",
    "version": 2
   },
   "file_extension": ".py",
   "mimetype": "text/x-python",
   "name": "python",
   "nbconvert_exporter": "python",
   "pygments_lexer": "ipython2",
   "version": "2.7.6"
  }
 },
 "nbformat": 4,
 "nbformat_minor": 5
}
