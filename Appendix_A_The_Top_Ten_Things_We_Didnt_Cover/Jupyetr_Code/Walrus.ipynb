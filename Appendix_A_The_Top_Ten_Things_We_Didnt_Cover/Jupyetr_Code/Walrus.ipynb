{
 "cells": [
  {
   "cell_type": "code",
   "id": "initial_id",
   "metadata": {
    "collapsed": true,
    "ExecuteTime": {
     "end_time": "2024-05-06T12:43:48.914934Z",
     "start_time": "2024-05-06T12:43:48.906051Z"
    }
   },
   "source": [
    "import random\n",
    "\n",
    "\n",
    "x = random.randint(0, 10)\n",
    "\n",
    "if x < 5:\n",
    "    print(f\"{x} is less than five!\")\n",
    "else:\n",
    "    print(f\"{x} is five or greater!\")"
   ],
   "outputs": [
    {
     "name": "stdout",
     "output_type": "stream",
     "text": [
      "4 is less than five!\n"
     ]
    }
   ],
   "execution_count": 1
  },
  {
   "metadata": {
    "ExecuteTime": {
     "end_time": "2024-05-06T12:45:23.094704Z",
     "start_time": "2024-05-06T12:45:23.086448Z"
    }
   },
   "cell_type": "code",
   "source": [
    "import random\n",
    "\n",
    "\n",
    "if (x := random.randint(0, 10)) < 5:\n",
    "    print(f\"{x} is less than five!\")\n",
    "else:\n",
    "    print(f\"{x} is five or greater!\")"
   ],
   "id": "ccbde2cd5a8d5d65",
   "outputs": [
    {
     "name": "stdout",
     "output_type": "stream",
     "text": [
      "4 is less than five!\n"
     ]
    }
   ],
   "execution_count": 2
  }
 ],
 "metadata": {
  "kernelspec": {
   "display_name": "Python 3",
   "language": "python",
   "name": "python3"
  },
  "language_info": {
   "codemirror_mode": {
    "name": "ipython",
    "version": 2
   },
   "file_extension": ".py",
   "mimetype": "text/x-python",
   "name": "python",
   "nbconvert_exporter": "python",
   "pygments_lexer": "ipython2",
   "version": "2.7.6"
  }
 },
 "nbformat": 4,
 "nbformat_minor": 5
}
